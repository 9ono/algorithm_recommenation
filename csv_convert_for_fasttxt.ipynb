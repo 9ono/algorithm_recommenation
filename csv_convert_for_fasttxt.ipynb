{
 "cells": [
  {
   "cell_type": "code",
   "execution_count": 8,
   "metadata": {},
   "outputs": [],
   "source": [
    "import pandas as pd \n",
    "import numpy as np\n",
    "import csv"
   ]
  },
  {
   "cell_type": "code",
   "execution_count": 3,
   "metadata": {},
   "outputs": [],
   "source": [
    "mydata_train = pd.read_csv('./Data/Prepossed/Prepossed_data_train_shuffled.csv')\n",
    "mydata_test = pd.read_csv('./Data/Prepossed/Prepossed_data_test_shuffled.csv')\n",
    "mydata =  pd.read_csv('./Data/Prepossed/Prepossed_data.csv')\n",
    "mydata = mydata.drop(['Unnamed: 0', 'Unnamed: 0.1'],axis = 1)\n",
    "mydata_train = mydata_train.drop(['Unnamed: 0.1'], axis = 1)\n",
    "mydata_test = mydata_test.drop(['Unnamed: 0.1'], axis = 1)\n",
    "\n",
    "train_X, train_y = mydata_train['Plot'], mydata_train.drop(['BID', 'Plot'], axis=1)\n",
    "test_X, test_y = mydata_test['Plot'], mydata_test.drop(['BID', 'Plot'], axis=1)\n",
    "\n",
    "category_columns = train_y.columns"
   ]
  },
  {
   "cell_type": "code",
   "execution_count": 4,
   "metadata": {},
   "outputs": [],
   "source": [
    "mydata_train.head(2)\n",
    "hi = mydata_train.loc[0]\n",
    "data_array  = []"
   ]
  },
  {
   "cell_type": "code",
   "execution_count": 5,
   "metadata": {},
   "outputs": [],
   "source": [
    "for idx in range(3027):\n",
    "    hi = mydata_train.loc[idx]\n",
    "    labeling = ''\n",
    "    for labels in train_y.columns:\n",
    "        if(hi[labels] == 1):\n",
    "            labeling += '__label__' + labels + ' '\n",
    "    labeling += hi['Plot']\n",
    "    \n",
    "    data = []\n",
    "    data.append(hi['BID'])\n",
    "    data.append(labeling)\n",
    "    data_array.append(data)"
   ]
  },
  {
   "cell_type": "code",
   "execution_count": 6,
   "metadata": {},
   "outputs": [],
   "source": [
    "columns = ['BID', 'Contents']"
   ]
  },
  {
   "cell_type": "code",
   "execution_count": 9,
   "metadata": {},
   "outputs": [],
   "source": [
    "df = pd.DataFrame(data_array, columns = columns)\n",
    "df.to_csv('./Data/fasttext/train.text', index=False, sep=' ', header=False, quoting=csv.QUOTE_NONE, quotechar=\"\", escapechar=\" \")"
   ]
  },
  {
   "cell_type": "code",
   "execution_count": 44,
   "metadata": {},
   "outputs": [],
   "source": [
    "df.to_csv('./Data/fasttext/train.csv')"
   ]
  },
  {
   "cell_type": "code",
   "execution_count": 10,
   "metadata": {},
   "outputs": [],
   "source": [
    "data_array2 = []\n",
    "for idx in range(859):\n",
    "    hi = mydata_test.loc[idx]\n",
    "    labeling = ''\n",
    "    for labels in train_y.columns:\n",
    "        if(hi[labels] == 1):\n",
    "            labeling += '__label__' + labels + ' '\n",
    "    labeling += hi['Plot']\n",
    "    \n",
    "    data = []\n",
    "    data.append(hi['BID'])\n",
    "    data.append(labeling)\n",
    "    data_array2.append(data)"
   ]
  },
  {
   "cell_type": "code",
   "execution_count": 11,
   "metadata": {},
   "outputs": [],
   "source": [
    "df2 = pd.DataFrame(data_array2, columns = columns)\n",
    "df2.to_csv('./Data/fasttext/test.text', index=False, sep=' ', header=False, quoting=csv.QUOTE_NONE, quotechar=\"\", escapechar=\" \")\n"
   ]
  },
  {
   "cell_type": "code",
   "execution_count": null,
   "metadata": {},
   "outputs": [],
   "source": []
  },
  {
   "cell_type": "code",
   "execution_count": null,
   "metadata": {},
   "outputs": [],
   "source": []
  }
 ],
 "metadata": {
  "kernelspec": {
   "display_name": "Python 3",
   "language": "python",
   "name": "python3"
  },
  "language_info": {
   "codemirror_mode": {
    "name": "ipython",
    "version": 3
   },
   "file_extension": ".py",
   "mimetype": "text/x-python",
   "name": "python",
   "nbconvert_exporter": "python",
   "pygments_lexer": "ipython3",
   "version": "3.7.4"
  },
  "toc": {
   "base_numbering": 1,
   "nav_menu": {},
   "number_sections": true,
   "sideBar": true,
   "skip_h1_title": false,
   "title_cell": "Table of Contents",
   "title_sidebar": "Contents",
   "toc_cell": false,
   "toc_position": {},
   "toc_section_display": true,
   "toc_window_display": false
  }
 },
 "nbformat": 4,
 "nbformat_minor": 2
}
