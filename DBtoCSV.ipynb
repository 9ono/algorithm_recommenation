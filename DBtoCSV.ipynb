{
 "cells": [
  {
   "cell_type": "code",
   "execution_count": 50,
   "metadata": {},
   "outputs": [],
   "source": [
    "import pymysql\n",
    "conn = pymysql.connect(host='13.209.234.251', user='jonghyun', password='0000',\n",
    "                       db='datamining', charset='utf8')\n",
    "curs = conn.cursor()\n",
    "sql = \"select * from bulletin6 WHERE crawlflag != -1\"\n",
    "curs.execute(sql)\n",
    "rows = curs.fetchall()\n",
    "conn.close()"
   ]
  },
  {
   "cell_type": "code",
   "execution_count": 51,
   "metadata": {},
   "outputs": [],
   "source": [
    "import pandas as pd\n",
    "data_array = []\n",
    "\n",
    "for row in rows:\n",
    "    data = [row[0], row[1], row[2], row[3]]\n",
    "    tmp = [0 for i in range(30)]\n",
    "    \n",
    "    if row[4] == \"\":\n",
    "        continue\n",
    "    \n",
    "    j = 0\n",
    "    i = row[4].split()\n",
    "    length = len(row[4].split())\n",
    "    \n",
    "    while j < length:\n",
    "        if i[j] == \"math\":\n",
    "            tmp[0] = 1\n",
    "        elif i[j] == \"dp\":\n",
    "            tmp[1] = 1\n",
    "        elif i[j] == \"implementation\":\n",
    "            tmp[2] = 1\n",
    "        elif i[j] == \"greedy\":\n",
    "            tmp[3] = 1\n",
    "        elif i[j] == \"data\":\n",
    "            tmp[4] = 1\n",
    "        elif i[j] == \"sortings\":\n",
    "            tmp[5] = 1\n",
    "        elif i[j] == \"combinatorics\":\n",
    "            tmp[6] = 1\n",
    "        elif i[j] == \"dfs\":\n",
    "            tmp[7] = 1\n",
    "        elif i[j] == \"graphs\":\n",
    "            tmp[8] = 1\n",
    "        elif i[j] == \"trees\":\n",
    "            tmp[9] = 1\n",
    "        elif i[j] == \"divide\":\n",
    "            tmp[10] = 1\n",
    "        elif i[j] == \"constructive\":\n",
    "            tmp[11] = 1\n",
    "        elif i[j] == \"brute\":\n",
    "            tmp[12] = 1\n",
    "        elif i[j] == \"hashing\":\n",
    "            tmp[13] = 1\n",
    "        elif i[j] == \"strings\":\n",
    "            tmp[14] = 1\n",
    "        elif i[j] == \"binary\":\n",
    "            tmp[15] = 1\n",
    "        elif i[j] == \"shortest\":\n",
    "            tmp[16] = 1\n",
    "        elif i[j] == \"bitmasks\":\n",
    "            tmp[17] = 1\n",
    "        elif i[j] == \"number\":\n",
    "            tmp[18] = 1\n",
    "        elif i[j] == \"two\":\n",
    "            tmp[19] = 1\n",
    "        elif i[j] == \"meet-in-the-middle\":\n",
    "            tmp[20] = 1\n",
    "        elif i[j] == \"interactive\":\n",
    "            tmp[21] = 1\n",
    "        elif i[j] == \"2-sat\":\n",
    "            tmp[22] = 1\n",
    "        elif i[j] == \"probabilities\":\n",
    "            tmp[23] = 1\n",
    "        elif i[j] == \"dsu\":\n",
    "            tmp[24] = 1\n",
    "        elif i[j] == \"fft\":\n",
    "            tmp[25] = 1\n",
    "        elif i[j] == \"matrices\":\n",
    "            tmp[26] = 1\n",
    "        elif i[j] == \"geometry\":\n",
    "            tmp[27] = 1\n",
    "        elif i[j] == \"string\":\n",
    "            tmp[28] = 1\n",
    "        elif i[j] == \"expreession\":\n",
    "            tmp[29] = 1\n",
    "        \n",
    "        j += 1\n",
    "    data += tmp\n",
    "    data_array.append(data)"
   ]
  },
  {
   "cell_type": "code",
   "execution_count": 58,
   "metadata": {},
   "outputs": [],
   "source": [
    "columns = ['math', 'dp', 'implementation', 'greedy', 'data structures',\n",
    "    'sortings', 'combinatorics', 'dfs', 'graphs', 'trees', 'divide and conquer', \n",
    "    'constructive algorithms', 'brute force', 'hashing', 'strings', 'binary search',\n",
    "    'shortest paths', 'bitmasks', 'number theory','two pointers',\n",
    "    'meet-in-the-middle', 'interactive', '2-sat', \n",
    "    'probabilities', 'dsu', 'fft', 'matrices', 'geometry',\n",
    "    'string suffix structures', 'expression parsing']\n",
    "columns = ['BID', 'background', 'input', 'output'] + columns\n",
    "df = pd.DataFrame(data_array, columns = columns)"
   ]
  },
  {
   "cell_type": "code",
   "execution_count": 59,
   "metadata": {},
   "outputs": [
    {
     "data": {
      "text/plain": [
       "BID                                                                       1/A\n",
       "background                  Theatre Square in the capital city of Berland ...\n",
       "input                        The input contains three positive integer num...\n",
       "output                                 Write the needed number of flagstones.\n",
       "math                                                                        1\n",
       "dp                                                                          0\n",
       "implementation                                                              0\n",
       "greedy                                                                      0\n",
       "data structures                                                             0\n",
       "sortings                                                                    0\n",
       "combinatorics                                                               0\n",
       "dfs                                                                         0\n",
       "graphs                                                                      0\n",
       "trees                                                                       0\n",
       "divide and conquer                                                          0\n",
       "constructive algorithms                                                     0\n",
       "brute force                                                                 0\n",
       "hashing                                                                     0\n",
       "strings                                                                     0\n",
       "binary search                                                               0\n",
       "shortest paths                                                              0\n",
       "bitmasks                                                                    0\n",
       "number theory                                                               0\n",
       "two pointers                                                                0\n",
       "meet-in-the-middle                                                          0\n",
       "interactive                                                                 0\n",
       "2-sat                                                                       0\n",
       "probabilities                                                               0\n",
       "dsu                                                                         0\n",
       "fft                                                                         0\n",
       "matrices                                                                    0\n",
       "geometry                                                                    0\n",
       "string suffix structures                                                    0\n",
       "expression parsing                                                          0\n",
       "Name: 0, dtype: object"
      ]
     },
     "execution_count": 59,
     "metadata": {},
     "output_type": "execute_result"
    }
   ],
   "source": [
    "df.iloc[0]"
   ]
  },
  {
   "cell_type": "code",
   "execution_count": 60,
   "metadata": {},
   "outputs": [],
   "source": [
    "df.to_csv('./Data/Final/raw_data.csv')"
   ]
  },
  {
   "cell_type": "code",
   "execution_count": null,
   "metadata": {},
   "outputs": [],
   "source": []
  },
  {
   "cell_type": "code",
   "execution_count": null,
   "metadata": {},
   "outputs": [],
   "source": []
  }
 ],
 "metadata": {
  "kernelspec": {
   "display_name": "Python 3",
   "language": "python",
   "name": "python3"
  },
  "language_info": {
   "codemirror_mode": {
    "name": "ipython",
    "version": 3
   },
   "file_extension": ".py",
   "mimetype": "text/x-python",
   "name": "python",
   "nbconvert_exporter": "python",
   "pygments_lexer": "ipython3",
   "version": "3.7.4"
  },
  "toc": {
   "base_numbering": 1,
   "nav_menu": {},
   "number_sections": true,
   "sideBar": true,
   "skip_h1_title": false,
   "title_cell": "Table of Contents",
   "title_sidebar": "Contents",
   "toc_cell": false,
   "toc_position": {},
   "toc_section_display": true,
   "toc_window_display": false
  }
 },
 "nbformat": 4,
 "nbformat_minor": 2
}
