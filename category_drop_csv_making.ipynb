{
 "cells": [
  {
   "cell_type": "code",
   "execution_count": 12,
   "metadata": {},
   "outputs": [],
   "source": [
    "import pandas as pd\n",
    "df = pd.read_csv('./Data/Final/raw_data.csv')\n",
    "df = df.drop(['hashing', 'shortest paths', 'meet-in-the-middle', 'interactive', '2-sat', 'probabilities', 'fft', 'matrices', 'string suffix structures','expression parsing'], axis = 1)\n",
    "tmp = df.copy(deep = False)\n",
    "tmp = tmp.drop(['BID', 'background', 'input', 'output'], axis = 1)\n",
    "\n",
    "del_list = []\n",
    "for index, row in tmp.iterrows():\n",
    "    check_flag = True\n",
    "    for i in range(21):\n",
    "       if row[i]==1:\n",
    "        check_flag = False\n",
    "        \n",
    "    if check_flag:\n",
    "        del_list.append(index)\n",
    "\n",
    "modified = df.drop(del_list)\n",
    "modified.to_csv('./Data/Final/raw_category_dropped.csv')"
   ]
  },
  {
   "cell_type": "code",
   "execution_count": 13,
   "metadata": {},
   "outputs": [],
   "source": [
    "import pandas as pd\n",
    "df = pd.read_csv('./Data/Final/raw_category_dropped.csv')\n",
    "hi = [\n",
    "    'combinatorics', 'divide and conquer', 'two pointers', 'bitmasks', 'dsu'\n",
    "]\n",
    "df = df.drop(hi, axis = 1)\n",
    "tmp = df.copy(deep = False)\n",
    "tmp = tmp.drop(['BID', 'background', 'input', 'output'], axis = 1)\n",
    "\n",
    "del_list = []\n",
    "for index, row in tmp.iterrows():\n",
    "    check_flag = True\n",
    "    for i in range(17):\n",
    "       if row[i]==1:\n",
    "        check_flag = False\n",
    "        \n",
    "    if check_flag:\n",
    "        del_list.append(index)\n",
    "\n",
    "modified = df.drop(del_list)\n",
    "modified.to_csv('./Data/Final/raw_category_dropped2.csv')"
   ]
  },
  {
   "cell_type": "code",
   "execution_count": null,
   "metadata": {},
   "outputs": [],
   "source": []
  },
  {
   "cell_type": "code",
   "execution_count": null,
   "metadata": {},
   "outputs": [],
   "source": []
  },
  {
   "cell_type": "code",
   "execution_count": null,
   "metadata": {},
   "outputs": [],
   "source": []
  },
  {
   "cell_type": "code",
   "execution_count": null,
   "metadata": {},
   "outputs": [],
   "source": []
  }
 ],
 "metadata": {
  "kernelspec": {
   "display_name": "Python 3",
   "language": "python",
   "name": "python3"
  },
  "language_info": {
   "codemirror_mode": {
    "name": "ipython",
    "version": 3
   },
   "file_extension": ".py",
   "mimetype": "text/x-python",
   "name": "python",
   "nbconvert_exporter": "python",
   "pygments_lexer": "ipython3",
   "version": "3.7.4"
  }
 },
 "nbformat": 4,
 "nbformat_minor": 2
}
