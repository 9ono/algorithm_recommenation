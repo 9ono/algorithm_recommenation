{
 "cells": [
  {
   "cell_type": "markdown",
   "metadata": {
    "toc": true
   },
   "source": [
    "<h1>Table of Contents<span class=\"tocSkip\"></span></h1>\n",
    "<div class=\"toc\"><ul class=\"toc-item\"><li><span><a href=\"#Predciction-with-Cosin-Similarity\" data-toc-modified-id=\"Predciction-with-Cosin-Similarity-1\"><span class=\"toc-item-num\">1&nbsp;&nbsp;</span>Predciction with Cosin Similarity</a></span></li><li><span><a href=\"#Modeling\" data-toc-modified-id=\"Modeling-2\"><span class=\"toc-item-num\">2&nbsp;&nbsp;</span>Modeling</a></span></li><li><span><a href=\"#Visualizing\" data-toc-modified-id=\"Visualizing-3\"><span class=\"toc-item-num\">3&nbsp;&nbsp;</span>Visualizing</a></span></li><li><span><a href=\"#학습\" data-toc-modified-id=\"학습-4\"><span class=\"toc-item-num\">4&nbsp;&nbsp;</span>학습</a></span></li></ul></div>"
   ]
  },
  {
   "cell_type": "markdown",
   "metadata": {},
   "source": [
    "## Predciction with Cosin Similarity\n",
    "Sentence들을 벡터화 시키면 유사도를 확인할 수 있습니다. 이러한 방법으로,\n",
    "* 모든 가능한 벡터들의 조합 각각의 평균을 구하여 서로 Cosine Similarity를 구하고 최대 값을 해당 레이블로 선정합니다."
   ]
  },
  {
   "cell_type": "code",
   "execution_count": 3,
   "metadata": {},
   "outputs": [
    {
     "name": "stderr",
     "output_type": "stream",
     "text": [
      "Using TensorFlow backend.\n"
     ]
    }
   ],
   "source": [
    "import warnings\n",
    "warnings.filterwarnings('always')\n",
    "warnings.filterwarnings('ignore')\n",
    "\n",
    "import glob\n",
    "import functools \n",
    "import numpy as np\n",
    "import pandas as pd\n",
    "import matplotlib.pyplot as plt\n",
    "from matplotlib import style\n",
    "import seaborn as sns\n",
    "import missingno as msno\n",
    "import re\n",
    "import os.path\n",
    "import math\n",
    "from sklearn.decomposition import PCA\n",
    "rdm_seed = 29\n",
    "np.random.seed(rdm_seed)\n",
    "import keras\n",
    "from keras.utils import np_utils\n",
    "from keras.models import Sequential\n",
    "from keras.layers import Dense, Dropout\n",
    "from keras.callbacks import ReduceLROnPlateau\n",
    "from keras.models import load_model\n",
    "import keras.optimizers"
   ]
  },
  {
   "cell_type": "markdown",
   "metadata": {},
   "source": [
    "## Modeling\n",
    "3번 설계와 같습니다"
   ]
  },
  {
   "cell_type": "code",
   "execution_count": 4,
   "metadata": {},
   "outputs": [],
   "source": [
    "mydata_train = pd.read_csv('./Data/Prepossed/Prepossed_data_train.csv')\n",
    "mydata_test = pd.read_csv('./Data/Prepossed/Prepossed_data_test.csv')\n",
    "mydata =  pd.read_csv('./Data/Prepossed/Prepossed_data.csv')\n",
    "mydata = mydata.drop(['Unnamed: 0', 'Unnamed: 0.1'],axis = 1)\n",
    "mydata_train = mydata_train.drop([ 'Unnamed: 0.1'],axis = 1)\n",
    "mydata_test = mydata_test.drop([ 'Unnamed: 0.1'],axis = 1)\n",
    "\n",
    "train_X, train_y = mydata_train['Plot'], mydata_train.drop(['BID', 'Plot'], axis=1)\n",
    "test_X, test_y = mydata_test['Plot'], mydata_test.drop(['BID', 'Plot'], axis=1)\n",
    "\n",
    "category_columns = train_y.columns"
   ]
  },
  {
   "cell_type": "code",
   "execution_count": 5,
   "metadata": {},
   "outputs": [],
   "source": [
    "train_vector = np.load(\"./Data/np/train_Plot.npy\", allow_pickle=True)\n",
    "test_vector = np.load(\"./Data/np/test_Plot.npy\", allow_pickle=True)"
   ]
  },
  {
   "cell_type": "code",
   "execution_count": 6,
   "metadata": {},
   "outputs": [],
   "source": [
    "# Creating a LUT for the 1505 labels\n",
    "train_y_labels= train_y.groupby(list(category_columns)).ngroup()\n",
    "y_labels_lut = train_y.copy(deep=True) \n",
    "y_labels_lut['Labels'] = train_y_labels\n",
    "y_labels_lut = y_labels_lut.drop_duplicates()\n",
    "y_labels_lut = y_labels_lut.reset_index(drop=True).set_index('Labels').sort_index()\n",
    "\n",
    "\n",
    "# One-hot encoding the output labels\n",
    "num_classes = y_labels_lut.shape[0]\n",
    "train_y_onehot = np_utils.to_categorical(train_y_labels, num_classes = num_classes)"
   ]
  },
  {
   "cell_type": "markdown",
   "metadata": {},
   "source": [
    "## Visualizing\n",
    "벡터 유사도를 눈으로 확인하기 위한 함수들입니다.\n",
    "\n",
    "**HeatMap Visualization**\n",
    "\n",
    "**PCA 2D Representation Visuaization**\n",
    "- 3개의 레이블에 대하여 첫 50개의 데이터를 그림으로 작성\n",
    "- Correlation이 높은 방법들에 대하여 plot데이터가 유사할 것으로 예상"
   ]
  },
  {
   "cell_type": "code",
   "execution_count": 7,
   "metadata": {},
   "outputs": [],
   "source": [
    "def plot_similarity(labels, features, rotation):\n",
    "    unique_labels = functools.reduce(lambda l, x: l if x in l else l+[x], labels, [])\n",
    "    corr = np.inner(features, features)\n",
    "    fig = plt.figure(figsize=(10,10))\n",
    "    sns.set(font_scale=1.2)\n",
    "    g = sns.heatmap(\n",
    "        corr,\n",
    "        xticklabels=unique_labels,\n",
    "        yticklabels=unique_labels,\n",
    "        vmin=0,\n",
    "        vmax=1,\n",
    "        cmap=\"YlOrRd\")\n",
    "    g.set_xticklabels(unique_labels, rotation=rotation)\n",
    "    ticks = np.linspace(len(features)/len(unique_labels)/2, len(features)-len(features)/len(unique_labels)/2, len(unique_labels), dtype=np.int)\n",
    "    g.set_xticks(ticks)\n",
    "    g.set_yticks(ticks)\n",
    "    g.set_title(\"Semantic Textual Similarity for: {}\".format(unique_labels))\n",
    "\n",
    "\n",
    "def run_and_plot(messages_, labels):\n",
    "    similarity_input_placeholder = tf.placeholder(tf.string, shape=(None))\n",
    "    similarity_message_encodings = embed(similarity_input_placeholder)\n",
    "    with tf.Session() as session:\n",
    "        session.run(tf.global_variables_initializer())\n",
    "        session.run(tf.tables_initializer())  \n",
    "        message_embeddings_ = session.run(similarity_message_encodings, feed_dict={similarity_input_placeholder: messages_})\n",
    "        plot_similarity(labels, message_embeddings_, 90)"
   ]
  },
  {
   "cell_type": "code",
   "execution_count": 8,
   "metadata": {},
   "outputs": [],
   "source": [
    "def get_2d_representation(words_list, labels):\n",
    "    with tf.Session() as session:\n",
    "        session.run([tf.global_variables_initializer(), tf.tables_initializer()])\n",
    "        description_embeddings  =  session.run(embed(words_list)) #Generates the sentence embeddings\n",
    "        \n",
    "        model = PCA(n_components = 2) # Initializing the PCA object. We use n_components = 2 to help us plot our findings in the 2D space.\n",
    "        # Apply the fit_transform method of model to grains: pca_features\n",
    "        pca_features = model.fit_transform(description_embeddings) # Transforms embeddings to vectors of size 2\n",
    "        # Assign 0th column of pca_features: xs\n",
    "        xs = pca_features[:,0] #The first component of PCA\n",
    "        # Assign 1st column of pca_features: ys\n",
    "        ys = pca_features[:,1] #Second component of PCA\n",
    "        \n",
    "        #Next, we'll plot these results\n",
    "        tmp = {}\n",
    "        label_idx = [tmp.setdefault(name, len(tmp)) for name in labels]\n",
    "        unique_labels = functools.reduce(lambda l, x: l if x in l else l+[x], labels, [])\n",
    "        df = pd.DataFrame({'x':xs, 'y': ys, 'label':label_idx})\n",
    "        colors = ['r', 'b', 'g', 'm', 'k']\n",
    "        \n",
    "        fig, ax = plt.subplots(figsize=(10,10)) \n",
    "        for idx in range(len(set(labels))):\n",
    "            ax.scatter(df[df['label']==idx].x, df[df['label']==idx].y, c=colors[idx], label=unique_labels[idx])\n",
    "        \n",
    "        ax.set(title='PCA Representation for Genres: {}'.format(unique_labels))\n",
    "        ax.legend()"
   ]
  },
  {
   "cell_type": "code",
   "execution_count": 9,
   "metadata": {},
   "outputs": [],
   "source": [
    "def movie_genre_heatmap(features, labels):\n",
    "    unique_labels = functools.reduce(lambda l, x: l if x in l else l+[x], labels, [])\n",
    "    corr = np.inner(features, features)\n",
    "    fig = plt.figure(figsize=(10,10))\n",
    "    sns.set(font_scale=1.2)\n",
    "    g = sns.heatmap(\n",
    "        corr,\n",
    "        xticklabels=unique_labels,\n",
    "        yticklabels=unique_labels,\n",
    "        vmin=0,\n",
    "        vmax=1,\n",
    "        cmap=\"YlOrRd\")\n",
    "    g.set_xticklabels(unique_labels, rotation=90)\n",
    "    ticks = np.linspace(len(features)/len(unique_labels)/2, len(features)-len(features)/len(unique_labels)/2, len(unique_labels), dtype=np.int)\n",
    "    g.set_xticks(ticks)\n",
    "    g.set_yticks(ticks)\n",
    "    g.set_title(\"Semantic Textual Similarity for: {}\".format(unique_labels))"
   ]
  },
  {
   "cell_type": "code",
   "execution_count": 10,
   "metadata": {},
   "outputs": [],
   "source": [
    "def movie_genre_scatter_plot(movie_plot_vectors, labels):\n",
    "    model = PCA(n_components = 2) # Initializing the PCA object. We use n_components = 2 to help us plot our findings in the 2D space.\n",
    "    # Apply the fit_transform method of model to grains: pca_features\n",
    "    pca_features = model.fit_transform(movie_plot_vectors) # Transforms embeddings to vectors of size 2\n",
    "    # Assign 0th column of pca_features: xs\n",
    "    xs = pca_features[:,0] #The first component of PCA\n",
    "    # Assign 1st column of pca_features: ys\n",
    "    ys = pca_features[:,1] #Second component of PCA\n",
    "\n",
    "    #Next, we'll plot these results\n",
    "    tmp = {}\n",
    "    label_idx = [tmp.setdefault(name, len(tmp)) for name in labels]\n",
    "    unique_labels = functools.reduce(lambda l, x: l if x in l else l+[x], labels, [])\n",
    "    df = pd.DataFrame({'x':xs, 'y': ys, 'label':label_idx})\n",
    "    colors = ['r', 'b', 'g', 'm', 'k']\n",
    "\n",
    "    fig, ax = plt.subplots(figsize=(10,10)) \n",
    "    for idx in range(len(set(labels))):\n",
    "        ax.scatter(df[df['label']==idx].x, df[df['label']==idx].y, c=colors[idx], label=unique_labels[idx])\n",
    "\n",
    "    ax.set(title='PCA Representation for Genres: {}'.format(unique_labels))\n",
    "    ax.legend()"
   ]
  },
  {
   "cell_type": "code",
   "execution_count": 11,
   "metadata": {},
   "outputs": [
    {
     "data": {
      "text/html": [
       "<div>\n",
       "<style scoped>\n",
       "    .dataframe tbody tr th:only-of-type {\n",
       "        vertical-align: middle;\n",
       "    }\n",
       "\n",
       "    .dataframe tbody tr th {\n",
       "        vertical-align: top;\n",
       "    }\n",
       "\n",
       "    .dataframe thead th {\n",
       "        text-align: right;\n",
       "    }\n",
       "</style>\n",
       "<table border=\"1\" class=\"dataframe\">\n",
       "  <thead>\n",
       "    <tr style=\"text-align: right;\">\n",
       "      <th></th>\n",
       "      <th>math</th>\n",
       "      <th>dp</th>\n",
       "      <th>implementation</th>\n",
       "      <th>greedy</th>\n",
       "      <th>data structures</th>\n",
       "      <th>sortings</th>\n",
       "      <th>dfs</th>\n",
       "      <th>graphs</th>\n",
       "      <th>trees</th>\n",
       "      <th>constructive algorithms</th>\n",
       "      <th>brute force</th>\n",
       "      <th>strings</th>\n",
       "      <th>binary search</th>\n",
       "      <th>number theory</th>\n",
       "      <th>geometry</th>\n",
       "    </tr>\n",
       "  </thead>\n",
       "  <tbody>\n",
       "    <tr>\n",
       "      <td>0</td>\n",
       "      <td>0</td>\n",
       "      <td>1</td>\n",
       "      <td>0</td>\n",
       "      <td>0</td>\n",
       "      <td>0</td>\n",
       "      <td>0</td>\n",
       "      <td>0</td>\n",
       "      <td>0</td>\n",
       "      <td>0</td>\n",
       "      <td>0</td>\n",
       "      <td>0</td>\n",
       "      <td>0</td>\n",
       "      <td>0</td>\n",
       "      <td>0</td>\n",
       "      <td>0</td>\n",
       "    </tr>\n",
       "  </tbody>\n",
       "</table>\n",
       "</div>"
      ],
      "text/plain": [
       "   math  dp  implementation  greedy  data structures  sortings  dfs  graphs  \\\n",
       "0     0   1               0       0                0         0    0       0   \n",
       "\n",
       "   trees  constructive algorithms  brute force  strings  binary search  \\\n",
       "0      0                        0            0        0              0   \n",
       "\n",
       "   number theory  geometry  \n",
       "0              0         0  "
      ]
     },
     "execution_count": 11,
     "metadata": {},
     "output_type": "execute_result"
    }
   ],
   "source": [
    "train_y.head(1)"
   ]
  },
  {
   "cell_type": "code",
   "execution_count": 14,
   "metadata": {},
   "outputs": [
    {
     "data": {
      "image/png": "[encoded data removed]",
      "text/plain": [
       "<Figure size 720x720 with 2 Axes>"
      ]
     },
     "metadata": {
      "needs_background": "light"
     },
     "output_type": "display_data"
    },
    {
     "data": {
      "image/png": "[encoded data removed]",
      "text/plain": [
       "<Figure size 720x720 with 1 Axes>"
      ]
     },
     "metadata": {},
     "output_type": "display_data"
    }
   ],
   "source": [
    "\n",
    "genre_list = ['graphs', 'trees']\n",
    "plot_inp_set = []\n",
    "genre_inp = []\n",
    "for genre in genre_list:\n",
    "    plot_inp_set.append(train_vector[train_y[genre]==1][:50])\n",
    "    genre_inp+=[genre]*50\n",
    "\n",
    "plot_inp=np.concatenate(plot_inp_set)\n",
    "movie_genre_heatmap(plot_inp, genre_inp) \n",
    "movie_genre_scatter_plot(plot_inp, genre_inp)"
   ]
  },
  {
   "cell_type": "markdown",
   "metadata": {},
   "source": [
    "## 학습"
   ]
  },
  {
   "cell_type": "code",
   "execution_count": 36,
   "metadata": {},
   "outputs": [],
   "source": [
    "def cosine(s1, s2):\n",
    "  #\"\"\"Take two pd.Series objects and return their cosine similarity.\"\"\"\n",
    "  return np.sum(s1 * s2) / np.sqrt(np.sum(s1 ** 2) * np.sum(s2 ** 2))\n",
    "\n",
    "def max_cosine(vector, label_embedding):\n",
    "    '''\n",
    "  Function returns the label_embedding index with maximum cosine \n",
    "  similarity with the input vector \n",
    "  '''\n",
    "    max_idx, max_cosine_sim = -1, float('-inf')\n",
    "    if vector['index']%1000==0:\n",
    "        print('Processing plot idx {0}'.format(vector['index']))\n",
    "    for idx in range(label_embedding.shape[0]):\n",
    "        curr_sim = cosine(vector[1:], label_embedding.iloc[idx,:])\n",
    "        (max_idx, max_cosine_sim) = (idx, curr_sim) if curr_sim>max_cosine_sim else (max_idx, max_cosine_sim)\n",
    "    return pd.Series([max_idx, max_cosine_sim])\n",
    "\n",
    "def max_cosine_unit_test(vector, label_embedding):\n",
    "  \n",
    "    cosine_list = []\n",
    "    for idx in range(label_embedding.shape[0]):\n",
    "        cosine_list.append(cosine(vector, label_embedding.iloc[idx,:]))\n",
    "    return cosine_list"
   ]
  },
  {
   "cell_type": "code",
   "execution_count": 37,
   "metadata": {},
   "outputs": [],
   "source": [
    "train_y_labels= train_y.groupby(list(category_columns)).ngroup()\n",
    "y_labels_lut = train_y.copy(deep=True) \n",
    "y_labels_lut['Labels'] = train_y_labels\n",
    "y_labels_lut = y_labels_lut.drop_duplicates()\n",
    "y_labels_lut = y_labels_lut.reset_index(drop=True).set_index('Labels').sort_index()\n",
    "\n",
    "# Getting the embedding vectors for each of the unique 1505 labels\n",
    "train_vector_df = pd.DataFrame(train_vector)\n",
    "train_vector_df['Labels'] = train_y_labels\n",
    "label_embedding = train_vector_df.groupby('Labels').mean()\n",
    "\n",
    "# Converting the vectors into dataframe so that we can use the apply method\n",
    "test_vector_df = pd.DataFrame(test_vector)\n",
    "test_vector_df = test_vector_df.reset_index()"
   ]
  },
  {
   "cell_type": "code",
   "execution_count": 38,
   "metadata": {},
   "outputs": [
    {
     "name": "stdout",
     "output_type": "stream",
     "text": [
      "Processing plot idx 0.0\n",
      "Processing plot idx 0.0\n",
      "Wall time: 8min 41s\n"
     ]
    }
   ],
   "source": [
    "%%time\n",
    "y_pred_df = test_vector_df.apply(max_cosine, label_embedding=label_embedding, axis=1)\n"
   ]
  },
  {
   "cell_type": "code",
   "execution_count": 40,
   "metadata": {
    "scrolled": true
   },
   "outputs": [
    {
     "data": {
      "text/html": [
       "<div>\n",
       "<style scoped>\n",
       "    .dataframe tbody tr th:only-of-type {\n",
       "        vertical-align: middle;\n",
       "    }\n",
       "\n",
       "    .dataframe tbody tr th {\n",
       "        vertical-align: top;\n",
       "    }\n",
       "\n",
       "    .dataframe thead th {\n",
       "        text-align: right;\n",
       "    }\n",
       "</style>\n",
       "<table border=\"1\" class=\"dataframe\">\n",
       "  <thead>\n",
       "    <tr style=\"text-align: right;\">\n",
       "      <th></th>\n",
       "      <th>Precision</th>\n",
       "      <th>Recall</th>\n",
       "      <th>F1-Score</th>\n",
       "      <th>Support</th>\n",
       "    </tr>\n",
       "  </thead>\n",
       "  <tbody>\n",
       "    <tr>\n",
       "      <th>math</th>\n",
       "      <td>0.42</td>\n",
       "      <td>0.39</td>\n",
       "      <td>0.40</td>\n",
       "      <td>251.0</td>\n",
       "    </tr>\n",
       "    <tr>\n",
       "      <th>dp</th>\n",
       "      <td>0.26</td>\n",
       "      <td>0.31</td>\n",
       "      <td>0.28</td>\n",
       "      <td>193.0</td>\n",
       "    </tr>\n",
       "    <tr>\n",
       "      <th>implementation</th>\n",
       "      <td>0.35</td>\n",
       "      <td>0.32</td>\n",
       "      <td>0.33</td>\n",
       "      <td>267.0</td>\n",
       "    </tr>\n",
       "    <tr>\n",
       "      <th>greedy</th>\n",
       "      <td>0.34</td>\n",
       "      <td>0.28</td>\n",
       "      <td>0.30</td>\n",
       "      <td>248.0</td>\n",
       "    </tr>\n",
       "    <tr>\n",
       "      <th>data structures</th>\n",
       "      <td>0.27</td>\n",
       "      <td>0.35</td>\n",
       "      <td>0.31</td>\n",
       "      <td>158.0</td>\n",
       "    </tr>\n",
       "    <tr>\n",
       "      <th>sortings</th>\n",
       "      <td>0.18</td>\n",
       "      <td>0.21</td>\n",
       "      <td>0.19</td>\n",
       "      <td>96.0</td>\n",
       "    </tr>\n",
       "    <tr>\n",
       "      <th>dfs</th>\n",
       "      <td>0.26</td>\n",
       "      <td>0.31</td>\n",
       "      <td>0.28</td>\n",
       "      <td>93.0</td>\n",
       "    </tr>\n",
       "    <tr>\n",
       "      <th>graphs</th>\n",
       "      <td>0.40</td>\n",
       "      <td>0.53</td>\n",
       "      <td>0.45</td>\n",
       "      <td>104.0</td>\n",
       "    </tr>\n",
       "    <tr>\n",
       "      <th>trees</th>\n",
       "      <td>0.59</td>\n",
       "      <td>0.71</td>\n",
       "      <td>0.64</td>\n",
       "      <td>92.0</td>\n",
       "    </tr>\n",
       "    <tr>\n",
       "      <th>constructive algorithms</th>\n",
       "      <td>0.24</td>\n",
       "      <td>0.24</td>\n",
       "      <td>0.24</td>\n",
       "      <td>133.0</td>\n",
       "    </tr>\n",
       "    <tr>\n",
       "      <th>brute force</th>\n",
       "      <td>0.19</td>\n",
       "      <td>0.24</td>\n",
       "      <td>0.21</td>\n",
       "      <td>134.0</td>\n",
       "    </tr>\n",
       "    <tr>\n",
       "      <th>strings</th>\n",
       "      <td>0.53</td>\n",
       "      <td>0.78</td>\n",
       "      <td>0.63</td>\n",
       "      <td>76.0</td>\n",
       "    </tr>\n",
       "    <tr>\n",
       "      <th>binary search</th>\n",
       "      <td>0.16</td>\n",
       "      <td>0.19</td>\n",
       "      <td>0.17</td>\n",
       "      <td>96.0</td>\n",
       "    </tr>\n",
       "    <tr>\n",
       "      <th>number theory</th>\n",
       "      <td>0.32</td>\n",
       "      <td>0.44</td>\n",
       "      <td>0.37</td>\n",
       "      <td>72.0</td>\n",
       "    </tr>\n",
       "    <tr>\n",
       "      <th>geometry</th>\n",
       "      <td>0.44</td>\n",
       "      <td>0.68</td>\n",
       "      <td>0.54</td>\n",
       "      <td>38.0</td>\n",
       "    </tr>\n",
       "    <tr>\n",
       "      <th>Avg/Total</th>\n",
       "      <td>0.32</td>\n",
       "      <td>0.36</td>\n",
       "      <td>0.34</td>\n",
       "      <td>2051.0</td>\n",
       "    </tr>\n",
       "  </tbody>\n",
       "</table>\n",
       "</div>"
      ],
      "text/plain": [
       "                         Precision  Recall  F1-Score  Support\n",
       "math                          0.42    0.39      0.40    251.0\n",
       "dp                            0.26    0.31      0.28    193.0\n",
       "implementation                0.35    0.32      0.33    267.0\n",
       "greedy                        0.34    0.28      0.30    248.0\n",
       "data structures               0.27    0.35      0.31    158.0\n",
       "sortings                      0.18    0.21      0.19     96.0\n",
       "dfs                           0.26    0.31      0.28     93.0\n",
       "graphs                        0.40    0.53      0.45    104.0\n",
       "trees                         0.59    0.71      0.64     92.0\n",
       "constructive algorithms       0.24    0.24      0.24    133.0\n",
       "brute force                   0.19    0.24      0.21    134.0\n",
       "strings                       0.53    0.78      0.63     76.0\n",
       "binary search                 0.16    0.19      0.17     96.0\n",
       "number theory                 0.32    0.44      0.37     72.0\n",
       "geometry                      0.44    0.68      0.54     38.0\n",
       "Avg/Total                     0.32    0.36      0.34   2051.0"
      ]
     },
     "execution_count": 40,
     "metadata": {},
     "output_type": "execute_result"
    }
   ],
   "source": [
    "from helper_functions import *\n",
    "\n",
    "predictions = pd.merge(y_pred_df, y_labels_lut, how='left', left_on=0, right_on='Labels')[category_columns]\n",
    "accuracy(test_y, predictions)"
   ]
  },
  {
   "cell_type": "code",
   "execution_count": null,
   "metadata": {},
   "outputs": [],
   "source": []
  }
 ],
 "metadata": {
  "kernelspec": {
   "display_name": "Python 3",
   "language": "python",
   "name": "python3"
  },
  "language_info": {
   "codemirror_mode": {
    "name": "ipython",
    "version": 3
   },
   "file_extension": ".py",
   "mimetype": "text/x-python",
   "name": "python",
   "nbconvert_exporter": "python",
   "pygments_lexer": "ipython3",
   "version": "3.7.3"
  },
  "toc": {
   "base_numbering": 1,
   "nav_menu": {},
   "number_sections": true,
   "sideBar": true,
   "skip_h1_title": true,
   "title_cell": "Table of Contents",
   "title_sidebar": "Contents",
   "toc_cell": true,
   "toc_position": {
    "height": "calc(100% - 180px)",
    "left": "10px",
    "top": "150px",
    "width": "273.188px"
   },
   "toc_section_display": true,
   "toc_window_display": true
  }
 },
 "nbformat": 4,
 "nbformat_minor": 2
}
