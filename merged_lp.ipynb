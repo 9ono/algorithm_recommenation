{
 "cells": [
  {
   "cell_type": "markdown",
   "metadata": {
    "toc": true
   },
   "source": [
    "<h1>Table of Contents<span class=\"tocSkip\"></span></h1>\n",
    "<div class=\"toc\"><ul class=\"toc-item\"><li><span><a href=\"#Modeling\" data-toc-modified-id=\"Modeling-1\"><span class=\"toc-item-num\">1&nbsp;&nbsp;</span>Modeling</a></span><ul class=\"toc-item\"><li><span><a href=\"#K-Means-Clustering\" data-toc-modified-id=\"K-Means-Clustering-1.1\"><span class=\"toc-item-num\">1.1&nbsp;&nbsp;</span>K-Means Clustering</a></span></li><li><span><a href=\"#Label-Powerset\" data-toc-modified-id=\"Label-Powerset-1.2\"><span class=\"toc-item-num\">1.2&nbsp;&nbsp;</span>Label Powerset</a></span><ul class=\"toc-item\"><li><span><a href=\"#TF-IDF-+-Linear-SVC\" data-toc-modified-id=\"TF-IDF-+-Linear-SVC-1.2.1\"><span class=\"toc-item-num\">1.2.1&nbsp;&nbsp;</span>TF-IDF + Linear SVC</a></span></li><li><span><a href=\"#TF-IDF-+-RandomForest-Classifier\" data-toc-modified-id=\"TF-IDF-+-RandomForest-Classifier-1.2.2\"><span class=\"toc-item-num\">1.2.2&nbsp;&nbsp;</span>TF-IDF + RandomForest Classifier</a></span></li><li><span><a href=\"#Count-Veroizer-+-Linear-SVC\" data-toc-modified-id=\"Count-Veroizer-+-Linear-SVC-1.2.3\"><span class=\"toc-item-num\">1.2.3&nbsp;&nbsp;</span>Count Veroizer + Linear SVC</a></span></li><li><span><a href=\"#TF-IDF-+-Naive-Bayes\" data-toc-modified-id=\"TF-IDF-+-Naive-Bayes-1.2.4\"><span class=\"toc-item-num\">1.2.4&nbsp;&nbsp;</span>TF-IDF + Naive Bayes</a></span></li></ul></li></ul></li></ul></div>"
   ]
  },
  {
   "cell_type": "code",
   "execution_count": 1,
   "metadata": {},
   "outputs": [],
   "source": [
    "import numpy as np\n",
    "import pandas as pd\n",
    "import matplotlib.pyplot as plt\n",
    "from matplotlib import style\n",
    "import seaborn as sns\n",
    "import missingno as msno\n",
    "\n",
    "from sklearn.model_selection import StratifiedShuffleSplit\n",
    "from sklearn.naive_bayes import MultinomialNB\n",
    "from sklearn.pipeline import Pipeline\n",
    "from sklearn.svm import LinearSVC\n",
    "from sklearn.svm import SVC\n",
    "from sklearn.multiclass import OneVsRestClassifier\n",
    "from sklearn.metrics import classification_report\n",
    "from sklearn.model_selection import GridSearchCV\n",
    "from scipy import sparse\n",
    "from sklearn.metrics import make_scorer\n",
    "from sklearn.metrics import f1_score\n",
    "from sklearn.linear_model import LogisticRegression\n",
    "from skmultilearn.problem_transform import LabelPowerset\n",
    "from sklearn.cluster import KMeans\n",
    "from sklearn.decomposition import PCA\n",
    "from sklearn.ensemble import RandomForestClassifier\n",
    "\n",
    "from sklearn.feature_extraction.text import TfidfVectorizer\n",
    "from sklearn.feature_extraction.text import CountVectorizer\n",
    "from helper_functions import *\n"
   ]
  },
  {
   "cell_type": "markdown",
   "metadata": {},
   "source": [
    "## Modeling \n",
    "**데이터 불러오기**"
   ]
  },
  {
   "cell_type": "code",
   "execution_count": 4,
   "metadata": {},
   "outputs": [
    {
     "data": {
      "text/html": [
       "<div>\n",
       "<style scoped>\n",
       "    .dataframe tbody tr th:only-of-type {\n",
       "        vertical-align: middle;\n",
       "    }\n",
       "\n",
       "    .dataframe tbody tr th {\n",
       "        vertical-align: top;\n",
       "    }\n",
       "\n",
       "    .dataframe thead th {\n",
       "        text-align: right;\n",
       "    }\n",
       "</style>\n",
       "<table border=\"1\" class=\"dataframe\">\n",
       "  <thead>\n",
       "    <tr style=\"text-align: right;\">\n",
       "      <th></th>\n",
       "      <th>BID</th>\n",
       "      <th>Plot</th>\n",
       "      <th>math</th>\n",
       "      <th>constructive algorithm</th>\n",
       "      <th>search</th>\n",
       "      <th>brute force</th>\n",
       "      <th>geometry</th>\n",
       "      <th>string</th>\n",
       "      <th>data structures</th>\n",
       "      <th>sortings</th>\n",
       "      <th>dp</th>\n",
       "    </tr>\n",
       "  </thead>\n",
       "  <tbody>\n",
       "    <tr>\n",
       "      <td>0</td>\n",
       "      <td>1/A</td>\n",
       "      <td>theatre square capital city berland rectangula...</td>\n",
       "      <td>1</td>\n",
       "      <td>0</td>\n",
       "      <td>0</td>\n",
       "      <td>0</td>\n",
       "      <td>0</td>\n",
       "      <td>0</td>\n",
       "      <td>0</td>\n",
       "      <td>0</td>\n",
       "      <td>0</td>\n",
       "    </tr>\n",
       "    <tr>\n",
       "      <td>1</td>\n",
       "      <td>10/B</td>\n",
       "      <td>cinema hall berland rectangle row seat odd row...</td>\n",
       "      <td>0</td>\n",
       "      <td>0</td>\n",
       "      <td>0</td>\n",
       "      <td>0</td>\n",
       "      <td>0</td>\n",
       "      <td>0</td>\n",
       "      <td>0</td>\n",
       "      <td>0</td>\n",
       "      <td>1</td>\n",
       "    </tr>\n",
       "    <tr>\n",
       "      <td>2</td>\n",
       "      <td>10/D</td>\n",
       "      <td>problem differs online contest sequence called...</td>\n",
       "      <td>0</td>\n",
       "      <td>0</td>\n",
       "      <td>0</td>\n",
       "      <td>0</td>\n",
       "      <td>0</td>\n",
       "      <td>0</td>\n",
       "      <td>0</td>\n",
       "      <td>0</td>\n",
       "      <td>1</td>\n",
       "    </tr>\n",
       "    <tr>\n",
       "      <td>3</td>\n",
       "      <td>1000/A</td>\n",
       "      <td>codehorses hosted second codehorses cup year p...</td>\n",
       "      <td>0</td>\n",
       "      <td>0</td>\n",
       "      <td>0</td>\n",
       "      <td>0</td>\n",
       "      <td>0</td>\n",
       "      <td>0</td>\n",
       "      <td>0</td>\n",
       "      <td>1</td>\n",
       "      <td>0</td>\n",
       "    </tr>\n",
       "    <tr>\n",
       "      <td>4</td>\n",
       "      <td>1000/B</td>\n",
       "      <td>recently bought brand new smart lamp programmi...</td>\n",
       "      <td>0</td>\n",
       "      <td>0</td>\n",
       "      <td>0</td>\n",
       "      <td>0</td>\n",
       "      <td>0</td>\n",
       "      <td>0</td>\n",
       "      <td>0</td>\n",
       "      <td>1</td>\n",
       "      <td>0</td>\n",
       "    </tr>\n",
       "    <tr>\n",
       "      <td>...</td>\n",
       "      <td>...</td>\n",
       "      <td>...</td>\n",
       "      <td>...</td>\n",
       "      <td>...</td>\n",
       "      <td>...</td>\n",
       "      <td>...</td>\n",
       "      <td>...</td>\n",
       "      <td>...</td>\n",
       "      <td>...</td>\n",
       "      <td>...</td>\n",
       "      <td>...</td>\n",
       "    </tr>\n",
       "    <tr>\n",
       "      <td>3949</td>\n",
       "      <td>999/B</td>\n",
       "      <td>string length encrypted following algorithm it...</td>\n",
       "      <td>0</td>\n",
       "      <td>0</td>\n",
       "      <td>0</td>\n",
       "      <td>0</td>\n",
       "      <td>0</td>\n",
       "      <td>0</td>\n",
       "      <td>0</td>\n",
       "      <td>0</td>\n",
       "      <td>0</td>\n",
       "    </tr>\n",
       "    <tr>\n",
       "      <td>3950</td>\n",
       "      <td>999/C</td>\n",
       "      <td>given string consisting lowercase latin letter...</td>\n",
       "      <td>0</td>\n",
       "      <td>0</td>\n",
       "      <td>0</td>\n",
       "      <td>0</td>\n",
       "      <td>0</td>\n",
       "      <td>0</td>\n",
       "      <td>0</td>\n",
       "      <td>0</td>\n",
       "      <td>0</td>\n",
       "    </tr>\n",
       "    <tr>\n",
       "      <td>3951</td>\n",
       "      <td>999/D</td>\n",
       "      <td>given array consisting positive guaranteed div...</td>\n",
       "      <td>0</td>\n",
       "      <td>0</td>\n",
       "      <td>0</td>\n",
       "      <td>0</td>\n",
       "      <td>0</td>\n",
       "      <td>0</td>\n",
       "      <td>1</td>\n",
       "      <td>1</td>\n",
       "      <td>0</td>\n",
       "    </tr>\n",
       "    <tr>\n",
       "      <td>3952</td>\n",
       "      <td>999/E</td>\n",
       "      <td>city road berland road connects pair city road...</td>\n",
       "      <td>0</td>\n",
       "      <td>0</td>\n",
       "      <td>0</td>\n",
       "      <td>0</td>\n",
       "      <td>0</td>\n",
       "      <td>0</td>\n",
       "      <td>1</td>\n",
       "      <td>1</td>\n",
       "      <td>0</td>\n",
       "    </tr>\n",
       "    <tr>\n",
       "      <td>3953</td>\n",
       "      <td>999/F</td>\n",
       "      <td>player sitting card table player favorite favo...</td>\n",
       "      <td>0</td>\n",
       "      <td>0</td>\n",
       "      <td>0</td>\n",
       "      <td>0</td>\n",
       "      <td>0</td>\n",
       "      <td>0</td>\n",
       "      <td>0</td>\n",
       "      <td>0</td>\n",
       "      <td>1</td>\n",
       "    </tr>\n",
       "  </tbody>\n",
       "</table>\n",
       "<p>3954 rows × 11 columns</p>\n",
       "</div>"
      ],
      "text/plain": [
       "         BID                                               Plot  math  \\\n",
       "0        1/A  theatre square capital city berland rectangula...     1   \n",
       "1       10/B  cinema hall berland rectangle row seat odd row...     0   \n",
       "2       10/D  problem differs online contest sequence called...     0   \n",
       "3     1000/A  codehorses hosted second codehorses cup year p...     0   \n",
       "4     1000/B  recently bought brand new smart lamp programmi...     0   \n",
       "...      ...                                                ...   ...   \n",
       "3949   999/B  string length encrypted following algorithm it...     0   \n",
       "3950   999/C  given string consisting lowercase latin letter...     0   \n",
       "3951   999/D  given array consisting positive guaranteed div...     0   \n",
       "3952   999/E  city road berland road connects pair city road...     0   \n",
       "3953   999/F  player sitting card table player favorite favo...     0   \n",
       "\n",
       "      constructive algorithm  search  brute force  geometry  string  \\\n",
       "0                          0       0            0         0       0   \n",
       "1                          0       0            0         0       0   \n",
       "2                          0       0            0         0       0   \n",
       "3                          0       0            0         0       0   \n",
       "4                          0       0            0         0       0   \n",
       "...                      ...     ...          ...       ...     ...   \n",
       "3949                       0       0            0         0       0   \n",
       "3950                       0       0            0         0       0   \n",
       "3951                       0       0            0         0       0   \n",
       "3952                       0       0            0         0       0   \n",
       "3953                       0       0            0         0       0   \n",
       "\n",
       "      data structures  sortings  dp  \n",
       "0                   0         0   0  \n",
       "1                   0         0   1  \n",
       "2                   0         0   1  \n",
       "3                   0         1   0  \n",
       "4                   0         1   0  \n",
       "...               ...       ...  ..  \n",
       "3949                0         0   0  \n",
       "3950                0         0   0  \n",
       "3951                1         1   0  \n",
       "3952                1         1   0  \n",
       "3953                0         0   1  \n",
       "\n",
       "[3954 rows x 11 columns]"
      ]
     },
     "execution_count": 4,
     "metadata": {},
     "output_type": "execute_result"
    }
   ],
   "source": [
    "mydata_train = pd.read_csv('./Data/merged/Prepossed_data_train_shuffled.csv')\n",
    "mydata_test = pd.read_csv('./Data/merged/Prepossed_data_test_shuffled.csv')\n",
    "mydata =  pd.read_csv('./Data/merged/Prepossed_data.csv')\n",
    "#mydata = mydata.drop(['Unnamed: 0', 'Unnamed: 0.1'],axis = 1)\n",
    "#mydata_train = mydata_train.drop(['Unnamed: 0.1'], axis = 1)\n",
    "#mydata_test = mydata_test.drop(['Unnamed: 0.1'], axis = 1)\n",
    "\n",
    "train_X, train_y = mydata_train['Plot'], mydata_train.drop(['BID', 'Plot'], axis=1)\n",
    "test_X, test_y = mydata_test['Plot'], mydata_test.drop(['BID', 'Plot'], axis=1)\n",
    "\n",
    "category_columns = train_y.columns"
   ]
  },
  {
   "cell_type": "markdown",
   "metadata": {},
   "source": [
    "### K-Means Clustering"
   ]
  },
  {
   "cell_type": "code",
   "execution_count": 5,
   "metadata": {},
   "outputs": [
    {
     "name": "stdout",
     "output_type": "stream",
     "text": [
      "Number of unique labels =  167\n"
     ]
    }
   ],
   "source": [
    "print('Number of unique labels = ', train_y.drop_duplicates().shape[0])"
   ]
  },
  {
   "cell_type": "markdown",
   "metadata": {},
   "source": [
    "2^15 가능한 조합 중 540개의 Unique 조합이 있기 때문에 K-Means를 이용하여 Cluster들을 알아본다"
   ]
  },
  {
   "cell_type": "code",
   "execution_count": 10,
   "metadata": {},
   "outputs": [
    {
     "data": {
      "image/png": "[encoded data removed]",
      "text/plain": [
       "<Figure size 576x576 with 1 Axes>"
      ]
     },
     "metadata": {
      "needs_background": "light"
     },
     "output_type": "display_data"
    }
   ],
   "source": [
    "ss = [];\n",
    "ks = range(10, 100)\n",
    "for k in ks:\n",
    "    kmeans = KMeans(n_clusters=k, random_state=2)\n",
    "    labels = kmeans.fit_predict(train_y)\n",
    "    ss.append(kmeans.inertia_)\n",
    "f, axes = plt.subplots(figsize=(8, 8))\n",
    "axes.plot(ks, ss, marker='.')\n",
    "axes.set(xlabel='K = num_cluster', ylabel = 'Sum Square Error = Inertia', title = 'Elbow Plot')\n",
    "plt.show()"
   ]
  },
  {
   "cell_type": "code",
   "execution_count": 11,
   "metadata": {},
   "outputs": [
    {
     "data": {
      "image/png": "[encoded data removed]",
      "text/plain": [
       "<Figure size 576x576 with 1 Axes>"
      ]
     },
     "metadata": {
      "needs_background": "light"
     },
     "output_type": "display_data"
    }
   ],
   "source": [
    "pca = PCA()\n",
    "pca.fit(train_y)\n",
    "f, axes = plt.subplots(figsize=(8, 8))\n",
    "axes.plot(range(1, pca.n_components_+1), pca.explained_variance_, marker = '.')\n",
    "axes.set(xlabel = 'PCA features', ylabel='Variance', title='Explained variance of PCA features')\n",
    "plt.show()"
   ]
  },
  {
   "cell_type": "code",
   "execution_count": 12,
   "metadata": {},
   "outputs": [],
   "source": [
    "ks = [50, 60, 65, 70, 75, 90, 100]\n",
    "f1_score = []\n",
    "thresh = 0.85\n",
    "for k in ks:\n",
    "    kmeans = KMeans(n_clusters=k, random_state=2)\n",
    "    labels = kmeans.fit_predict(train_y)\n",
    "    cluster_center = pd.DataFrame(columns=train_y.columns)\n",
    "    for cluster_id in range(k):\n",
    "        cluster_center.loc[cluster_id] = (kmeans.cluster_centers_[cluster_id]>=thresh)*1\n",
    "\n",
    "    for idx, col in enumerate(train_y.columns):\n",
    "        max_idx = kmeans.cluster_centers_[:,idx].argmax()\n",
    "        max_value = kmeans.cluster_centers_[:,idx].max()\n",
    "        if max_value<thresh:\n",
    "            cluster_center.loc[max_idx, col] = 1\n",
    "    \n",
    "    y_pred = pd.DataFrame(columns=train_y.columns, index=train_y.index)\n",
    "    for idx in range(k):\n",
    "        y_pred.loc[labels==idx,:] = cluster_center.loc[idx,:].values\n",
    "\n",
    "    result = accuracy(train_y, y_pred)\n",
    "    f1_score.append(result.loc['Avg/Total', 'F1-Score'])"
   ]
  },
  {
   "cell_type": "code",
   "execution_count": 13,
   "metadata": {},
   "outputs": [
    {
     "data": {
      "image/png": "[encoded data removed]",
      "text/plain": [
       "<Figure size 720x576 with 1 Axes>"
      ]
     },
     "metadata": {
      "needs_background": "light"
     },
     "output_type": "display_data"
    }
   ],
   "source": [
    "\n",
    "f, ax = plt.subplots(1, 1, figsize=(10, 8))\n",
    "sns.barplot(x=ks, y=f1_score, axes=ax)\n",
    "ax.set(ylabel='Overall F1 Score', xlabel='k (Number of Clusters)')\n",
    "ax.set(title='Overall F1 Score for Training Set (Loss due to clustering on 540 sized cluster)')\n",
    "plt.yticks(list(np.arange(0, 1, 0.1)))\n",
    "for idx, val in enumerate(f1_score):\n",
    "    ax.text(idx-0.1, val + 0.01,  str(val), color='black', fontweight='bold')\n",
    "plt.show()"
   ]
  },
  {
   "cell_type": "markdown",
   "metadata": {},
   "source": [
    "### Label Powerset\n",
    "레이블간의 Correlation를 염두에 두는 방법으로, 레이블들의 모든 조합들에 대하여 Predict를 한다. (2^15)\n",
    "#### TF-IDF + Linear SVC\n",
    "**모든 조합 사용**"
   ]
  },
  {
   "cell_type": "code",
   "execution_count": 14,
   "metadata": {},
   "outputs": [],
   "source": [
    "train_y_cluster_labels= train_y.groupby(list(category_columns)).ngroup()\n",
    "cluster_center = train_y.copy(deep=True) #pd.DataFrame(train_y)\n",
    "cluster_center['Labels']=train_y_cluster_labels\n",
    "cluster_center = cluster_center.drop_duplicates()\n",
    "cluster_center = cluster_center.reset_index().set_index(['Labels']).sort_index().drop('index', axis=1)"
   ]
  },
  {
   "cell_type": "code",
   "execution_count": 15,
   "metadata": {
    "scrolled": true
   },
   "outputs": [
    {
     "name": "stdout",
     "output_type": "stream",
     "text": [
      "Fitting 2 folds for each of 5 candidates, totalling 10 fits\n",
      "[CV] clf__C=5, tfidf__max_df=0.5, tfidf__min_df=2, tfidf__ngram_range=(1, 2) \n"
     ]
    },
    {
     "name": "stderr",
     "output_type": "stream",
     "text": [
      "/Users/jonghyun/anaconda3/envs/website/lib/python3.7/site-packages/sklearn/model_selection/_split.py:657: Warning: The least populated class in y has only 1 members, which is too few. The minimum number of members in any class cannot be less than n_splits=2.\n",
      "  % (min_groups, self.n_splits)), Warning)\n",
      "[Parallel(n_jobs=1)]: Using backend SequentialBackend with 1 concurrent workers.\n"
     ]
    },
    {
     "name": "stdout",
     "output_type": "stream",
     "text": [
      "[CV]  clf__C=5, tfidf__max_df=0.5, tfidf__min_df=2, tfidf__ngram_range=(1, 2), score=0.370, total=   1.3s\n",
      "[CV] clf__C=5, tfidf__max_df=0.5, tfidf__min_df=2, tfidf__ngram_range=(1, 2) \n"
     ]
    },
    {
     "name": "stderr",
     "output_type": "stream",
     "text": [
      "[Parallel(n_jobs=1)]: Done   1 out of   1 | elapsed:    1.3s remaining:    0.0s\n",
      "/Users/jonghyun/Desktop/Projects/algorithm_recommenation_with_ml_and_dl/helper_functions.py:103: RuntimeWarning: invalid value encountered in long_scalars\n",
      "  recall = tp/(tp+fn)\n",
      "[Parallel(n_jobs=1)]: Done   2 out of   2 | elapsed:    2.7s remaining:    0.0s\n"
     ]
    },
    {
     "name": "stdout",
     "output_type": "stream",
     "text": [
      "[CV]  clf__C=5, tfidf__max_df=0.5, tfidf__min_df=2, tfidf__ngram_range=(1, 2), score=nan, total=   1.4s\n",
      "[CV] clf__C=10, tfidf__max_df=0.5, tfidf__min_df=2, tfidf__ngram_range=(1, 2) \n",
      "[CV]  clf__C=10, tfidf__max_df=0.5, tfidf__min_df=2, tfidf__ngram_range=(1, 2), score=0.373, total=   1.4s\n",
      "[CV] clf__C=10, tfidf__max_df=0.5, tfidf__min_df=2, tfidf__ngram_range=(1, 2) \n"
     ]
    },
    {
     "name": "stderr",
     "output_type": "stream",
     "text": [
      "[Parallel(n_jobs=1)]: Done   3 out of   3 | elapsed:    4.1s remaining:    0.0s\n",
      "/Users/jonghyun/Desktop/Projects/algorithm_recommenation_with_ml_and_dl/helper_functions.py:103: RuntimeWarning: invalid value encountered in long_scalars\n",
      "  recall = tp/(tp+fn)\n",
      "[Parallel(n_jobs=1)]: Done   4 out of   4 | elapsed:    5.6s remaining:    0.0s\n"
     ]
    },
    {
     "name": "stdout",
     "output_type": "stream",
     "text": [
      "[CV]  clf__C=10, tfidf__max_df=0.5, tfidf__min_df=2, tfidf__ngram_range=(1, 2), score=nan, total=   1.5s\n",
      "[CV] clf__C=20, tfidf__max_df=0.5, tfidf__min_df=2, tfidf__ngram_range=(1, 2) \n"
     ]
    },
    {
     "name": "stderr",
     "output_type": "stream",
     "text": [
      "/Users/jonghyun/anaconda3/envs/website/lib/python3.7/site-packages/sklearn/svm/base.py:929: ConvergenceWarning: Liblinear failed to converge, increase the number of iterations.\n",
      "  \"the number of iterations.\", ConvergenceWarning)\n"
     ]
    },
    {
     "name": "stdout",
     "output_type": "stream",
     "text": [
      "[CV]  clf__C=20, tfidf__max_df=0.5, tfidf__min_df=2, tfidf__ngram_range=(1, 2), score=0.369, total=   1.6s\n",
      "[CV] clf__C=20, tfidf__max_df=0.5, tfidf__min_df=2, tfidf__ngram_range=(1, 2) \n"
     ]
    },
    {
     "name": "stderr",
     "output_type": "stream",
     "text": [
      "[Parallel(n_jobs=1)]: Done   5 out of   5 | elapsed:    7.3s remaining:    0.0s\n",
      "/Users/jonghyun/anaconda3/envs/website/lib/python3.7/site-packages/sklearn/svm/base.py:929: ConvergenceWarning: Liblinear failed to converge, increase the number of iterations.\n",
      "  \"the number of iterations.\", ConvergenceWarning)\n",
      "/Users/jonghyun/Desktop/Projects/algorithm_recommenation_with_ml_and_dl/helper_functions.py:103: RuntimeWarning: invalid value encountered in long_scalars\n",
      "  recall = tp/(tp+fn)\n",
      "[Parallel(n_jobs=1)]: Done   6 out of   6 | elapsed:    9.1s remaining:    0.0s\n"
     ]
    },
    {
     "name": "stdout",
     "output_type": "stream",
     "text": [
      "[CV]  clf__C=20, tfidf__max_df=0.5, tfidf__min_df=2, tfidf__ngram_range=(1, 2), score=nan, total=   1.8s\n",
      "[CV] clf__C=50, tfidf__max_df=0.5, tfidf__min_df=2, tfidf__ngram_range=(1, 2) \n"
     ]
    },
    {
     "name": "stderr",
     "output_type": "stream",
     "text": [
      "/Users/jonghyun/anaconda3/envs/website/lib/python3.7/site-packages/sklearn/svm/base.py:929: ConvergenceWarning: Liblinear failed to converge, increase the number of iterations.\n",
      "  \"the number of iterations.\", ConvergenceWarning)\n"
     ]
    },
    {
     "name": "stdout",
     "output_type": "stream",
     "text": [
      "[CV]  clf__C=50, tfidf__max_df=0.5, tfidf__min_df=2, tfidf__ngram_range=(1, 2), score=0.370, total=   2.1s\n",
      "[CV] clf__C=50, tfidf__max_df=0.5, tfidf__min_df=2, tfidf__ngram_range=(1, 2) \n"
     ]
    },
    {
     "name": "stderr",
     "output_type": "stream",
     "text": [
      "[Parallel(n_jobs=1)]: Done   7 out of   7 | elapsed:   11.2s remaining:    0.0s\n",
      "/Users/jonghyun/anaconda3/envs/website/lib/python3.7/site-packages/sklearn/svm/base.py:929: ConvergenceWarning: Liblinear failed to converge, increase the number of iterations.\n",
      "  \"the number of iterations.\", ConvergenceWarning)\n",
      "/Users/jonghyun/Desktop/Projects/algorithm_recommenation_with_ml_and_dl/helper_functions.py:103: RuntimeWarning: invalid value encountered in long_scalars\n",
      "  recall = tp/(tp+fn)\n",
      "[Parallel(n_jobs=1)]: Done   8 out of   8 | elapsed:   13.4s remaining:    0.0s\n"
     ]
    },
    {
     "name": "stdout",
     "output_type": "stream",
     "text": [
      "[CV]  clf__C=50, tfidf__max_df=0.5, tfidf__min_df=2, tfidf__ngram_range=(1, 2), score=nan, total=   2.2s\n",
      "[CV] clf__C=100, tfidf__max_df=0.5, tfidf__min_df=2, tfidf__ngram_range=(1, 2) \n"
     ]
    },
    {
     "name": "stderr",
     "output_type": "stream",
     "text": [
      "/Users/jonghyun/anaconda3/envs/website/lib/python3.7/site-packages/sklearn/svm/base.py:929: ConvergenceWarning: Liblinear failed to converge, increase the number of iterations.\n",
      "  \"the number of iterations.\", ConvergenceWarning)\n"
     ]
    },
    {
     "name": "stdout",
     "output_type": "stream",
     "text": [
      "[CV]  clf__C=100, tfidf__max_df=0.5, tfidf__min_df=2, tfidf__ngram_range=(1, 2), score=0.368, total=   2.9s\n",
      "[CV] clf__C=100, tfidf__max_df=0.5, tfidf__min_df=2, tfidf__ngram_range=(1, 2) \n"
     ]
    },
    {
     "name": "stderr",
     "output_type": "stream",
     "text": [
      "[Parallel(n_jobs=1)]: Done   9 out of   9 | elapsed:   16.3s remaining:    0.0s\n",
      "/Users/jonghyun/anaconda3/envs/website/lib/python3.7/site-packages/sklearn/svm/base.py:929: ConvergenceWarning: Liblinear failed to converge, increase the number of iterations.\n",
      "  \"the number of iterations.\", ConvergenceWarning)\n",
      "/Users/jonghyun/Desktop/Projects/algorithm_recommenation_with_ml_and_dl/helper_functions.py:103: RuntimeWarning: invalid value encountered in long_scalars\n",
      "  recall = tp/(tp+fn)\n",
      "[Parallel(n_jobs=1)]: Done  10 out of  10 | elapsed:   19.1s finished\n",
      "/Users/jonghyun/anaconda3/envs/website/lib/python3.7/site-packages/sklearn/model_selection/_search.py:814: DeprecationWarning: The default of the `iid` parameter will change from True to False in version 0.22 and will be removed in 0.24. This will change numeric results when test-set sizes are unequal.\n",
      "  DeprecationWarning)\n"
     ]
    },
    {
     "name": "stdout",
     "output_type": "stream",
     "text": [
      "[CV]  clf__C=100, tfidf__max_df=0.5, tfidf__min_df=2, tfidf__ngram_range=(1, 2), score=nan, total=   2.7s\n",
      "\n",
      "Best parameters set:\n",
      "[('tfidf', TfidfVectorizer(analyzer='word', binary=False, decode_error='strict',\n",
      "                dtype=<class 'numpy.float64'>, encoding='utf-8',\n",
      "                input='content', lowercase=True, max_df=0.5, max_features=None,\n",
      "                min_df=2, ngram_range=(1, 2), norm='l2', preprocessor=None,\n",
      "                smooth_idf=True, stop_words=None, strip_accents=None,\n",
      "                sublinear_tf=False, token_pattern='(?u)\\\\b\\\\w\\\\w+\\\\b',\n",
      "                tokenizer=None, use_idf=True, vocabulary=None)), ('clf', LinearSVC(C=5, class_weight='balanced', dual=True, fit_intercept=True,\n",
      "          intercept_scaling=1, loss='squared_hinge', max_iter=1000,\n",
      "          multi_class='ovr', penalty='l2', random_state=None, tol=0.0001,\n",
      "          verbose=0))]\n",
      "\n",
      "Applying best classifier on test data:\n",
      "<class 'pandas.core.series.Series'>\n"
     ]
    },
    {
     "data": {
      "text/html": [
       "<div>\n",
       "<style scoped>\n",
       "    .dataframe tbody tr th:only-of-type {\n",
       "        vertical-align: middle;\n",
       "    }\n",
       "\n",
       "    .dataframe tbody tr th {\n",
       "        vertical-align: top;\n",
       "    }\n",
       "\n",
       "    .dataframe thead th {\n",
       "        text-align: right;\n",
       "    }\n",
       "</style>\n",
       "<table border=\"1\" class=\"dataframe\">\n",
       "  <thead>\n",
       "    <tr style=\"text-align: right;\">\n",
       "      <th></th>\n",
       "      <th>Precision</th>\n",
       "      <th>Recall</th>\n",
       "      <th>F1-Score</th>\n",
       "      <th>Support</th>\n",
       "    </tr>\n",
       "  </thead>\n",
       "  <tbody>\n",
       "    <tr>\n",
       "      <td>math</td>\n",
       "      <td>0.51</td>\n",
       "      <td>0.47</td>\n",
       "      <td>0.49</td>\n",
       "      <td>261.0</td>\n",
       "    </tr>\n",
       "    <tr>\n",
       "      <td>constructive algorithm</td>\n",
       "      <td>0.28</td>\n",
       "      <td>0.29</td>\n",
       "      <td>0.28</td>\n",
       "      <td>126.0</td>\n",
       "    </tr>\n",
       "    <tr>\n",
       "      <td>search</td>\n",
       "      <td>0.25</td>\n",
       "      <td>0.21</td>\n",
       "      <td>0.23</td>\n",
       "      <td>117.0</td>\n",
       "    </tr>\n",
       "    <tr>\n",
       "      <td>brute force</td>\n",
       "      <td>0.25</td>\n",
       "      <td>0.22</td>\n",
       "      <td>0.23</td>\n",
       "      <td>132.0</td>\n",
       "    </tr>\n",
       "    <tr>\n",
       "      <td>geometry</td>\n",
       "      <td>0.46</td>\n",
       "      <td>0.61</td>\n",
       "      <td>0.52</td>\n",
       "      <td>38.0</td>\n",
       "    </tr>\n",
       "    <tr>\n",
       "      <td>string</td>\n",
       "      <td>0.54</td>\n",
       "      <td>0.61</td>\n",
       "      <td>0.58</td>\n",
       "      <td>72.0</td>\n",
       "    </tr>\n",
       "    <tr>\n",
       "      <td>data structures</td>\n",
       "      <td>0.57</td>\n",
       "      <td>0.56</td>\n",
       "      <td>0.56</td>\n",
       "      <td>277.0</td>\n",
       "    </tr>\n",
       "    <tr>\n",
       "      <td>sortings</td>\n",
       "      <td>0.48</td>\n",
       "      <td>0.42</td>\n",
       "      <td>0.45</td>\n",
       "      <td>259.0</td>\n",
       "    </tr>\n",
       "    <tr>\n",
       "      <td>dp</td>\n",
       "      <td>0.41</td>\n",
       "      <td>0.44</td>\n",
       "      <td>0.42</td>\n",
       "      <td>195.0</td>\n",
       "    </tr>\n",
       "    <tr>\n",
       "      <td>Avg/Total</td>\n",
       "      <td>0.44</td>\n",
       "      <td>0.43</td>\n",
       "      <td>0.43</td>\n",
       "      <td>1477.0</td>\n",
       "    </tr>\n",
       "  </tbody>\n",
       "</table>\n",
       "</div>"
      ],
      "text/plain": [
       "                        Precision  Recall  F1-Score  Support\n",
       "math                         0.51    0.47      0.49    261.0\n",
       "constructive algorithm       0.28    0.29      0.28    126.0\n",
       "search                       0.25    0.21      0.23    117.0\n",
       "brute force                  0.25    0.22      0.23    132.0\n",
       "geometry                     0.46    0.61      0.52     38.0\n",
       "string                       0.54    0.61      0.58     72.0\n",
       "data structures              0.57    0.56      0.56    277.0\n",
       "sortings                     0.48    0.42      0.45    259.0\n",
       "dp                           0.41    0.44      0.42    195.0\n",
       "Avg/Total                    0.44    0.43      0.43   1477.0"
      ]
     },
     "execution_count": 15,
     "metadata": {},
     "output_type": "execute_result"
    }
   ],
   "source": [
    "pipeline = Pipeline([\n",
    "                ('tfidf', TfidfVectorizer()),\n",
    "                ('clf', LinearSVC(class_weight='balanced'))\n",
    "            ])\n",
    "# sorted(pipeline.get_params().keys()) # -- to obtain the GridSearchCV parameter names\n",
    "parameters = {\n",
    "                'tfidf__max_df': [0.5],\n",
    "                'tfidf__ngram_range': [(1, 2)],\n",
    "                'tfidf__min_df': [2],\n",
    "                'clf__C': [5, 10, 20, 50, 100]\n",
    "            }\n",
    "overall_f1_score_v2_cv = make_scorer(overall_f1_score_v2, greater_is_better=True, class_to_genre_map = cluster_center)\n",
    "grid_search_cv = GridSearchCV(pipeline, parameters, cv=2, verbose=10, scoring=overall_f1_score_v2_cv)\n",
    "grid_search_cv.fit(train_X, train_y_cluster_labels)\n",
    "\n",
    "print()\n",
    "print(\"Best parameters set:\")\n",
    "print (grid_search_cv.best_estimator_.steps)\n",
    "print()\n",
    "\n",
    "# measuring performance on test set\n",
    "print (\"Applying best classifier on test data:\")\n",
    "best_clf = grid_search_cv.best_estimator_\n",
    "predictions = multi_class_predict(best_clf, test_X, cluster_center) \n",
    "accuracy(test_y, predictions)"
   ]
  },
  {
   "cell_type": "code",
   "execution_count": 16,
   "metadata": {},
   "outputs": [
    {
     "name": "stdout",
     "output_type": "stream",
     "text": [
      "<class 'pandas.core.series.Series'>\n"
     ]
    },
    {
     "data": {
      "text/html": [
       "<div>\n",
       "<style scoped>\n",
       "    .dataframe tbody tr th:only-of-type {\n",
       "        vertical-align: middle;\n",
       "    }\n",
       "\n",
       "    .dataframe tbody tr th {\n",
       "        vertical-align: top;\n",
       "    }\n",
       "\n",
       "    .dataframe thead th {\n",
       "        text-align: right;\n",
       "    }\n",
       "</style>\n",
       "<table border=\"1\" class=\"dataframe\">\n",
       "  <thead>\n",
       "    <tr style=\"text-align: right;\">\n",
       "      <th></th>\n",
       "      <th>Precision</th>\n",
       "      <th>Recall</th>\n",
       "      <th>F1-Score</th>\n",
       "      <th>Support</th>\n",
       "    </tr>\n",
       "  </thead>\n",
       "  <tbody>\n",
       "    <tr>\n",
       "      <td>math</td>\n",
       "      <td>0.53</td>\n",
       "      <td>0.44</td>\n",
       "      <td>0.48</td>\n",
       "      <td>261.0</td>\n",
       "    </tr>\n",
       "    <tr>\n",
       "      <td>constructive algorithm</td>\n",
       "      <td>0.31</td>\n",
       "      <td>0.25</td>\n",
       "      <td>0.28</td>\n",
       "      <td>126.0</td>\n",
       "    </tr>\n",
       "    <tr>\n",
       "      <td>search</td>\n",
       "      <td>0.28</td>\n",
       "      <td>0.20</td>\n",
       "      <td>0.23</td>\n",
       "      <td>117.0</td>\n",
       "    </tr>\n",
       "    <tr>\n",
       "      <td>brute force</td>\n",
       "      <td>0.22</td>\n",
       "      <td>0.17</td>\n",
       "      <td>0.19</td>\n",
       "      <td>132.0</td>\n",
       "    </tr>\n",
       "    <tr>\n",
       "      <td>geometry</td>\n",
       "      <td>0.48</td>\n",
       "      <td>0.55</td>\n",
       "      <td>0.51</td>\n",
       "      <td>38.0</td>\n",
       "    </tr>\n",
       "    <tr>\n",
       "      <td>string</td>\n",
       "      <td>0.58</td>\n",
       "      <td>0.54</td>\n",
       "      <td>0.56</td>\n",
       "      <td>72.0</td>\n",
       "    </tr>\n",
       "    <tr>\n",
       "      <td>data structures</td>\n",
       "      <td>0.58</td>\n",
       "      <td>0.55</td>\n",
       "      <td>0.57</td>\n",
       "      <td>277.0</td>\n",
       "    </tr>\n",
       "    <tr>\n",
       "      <td>sortings</td>\n",
       "      <td>0.51</td>\n",
       "      <td>0.40</td>\n",
       "      <td>0.45</td>\n",
       "      <td>259.0</td>\n",
       "    </tr>\n",
       "    <tr>\n",
       "      <td>dp</td>\n",
       "      <td>0.41</td>\n",
       "      <td>0.39</td>\n",
       "      <td>0.40</td>\n",
       "      <td>195.0</td>\n",
       "    </tr>\n",
       "    <tr>\n",
       "      <td>Avg/Total</td>\n",
       "      <td>0.46</td>\n",
       "      <td>0.40</td>\n",
       "      <td>0.42</td>\n",
       "      <td>1477.0</td>\n",
       "    </tr>\n",
       "  </tbody>\n",
       "</table>\n",
       "</div>"
      ],
      "text/plain": [
       "                        Precision  Recall  F1-Score  Support\n",
       "math                         0.53    0.44      0.48    261.0\n",
       "constructive algorithm       0.31    0.25      0.28    126.0\n",
       "search                       0.28    0.20      0.23    117.0\n",
       "brute force                  0.22    0.17      0.19    132.0\n",
       "geometry                     0.48    0.55      0.51     38.0\n",
       "string                       0.58    0.54      0.56     72.0\n",
       "data structures              0.58    0.55      0.57    277.0\n",
       "sortings                     0.51    0.40      0.45    259.0\n",
       "dp                           0.41    0.39      0.40    195.0\n",
       "Avg/Total                    0.46    0.40      0.42   1477.0"
      ]
     },
     "execution_count": 16,
     "metadata": {},
     "output_type": "execute_result"
    }
   ],
   "source": [
    "pipeline = Pipeline([\n",
    "                ('tfidf', TfidfVectorizer(max_df=0.5, min_df=2, ngram_range=(1, 2))),\n",
    "                ('clf', LinearSVC(C=10, class_weight='balanced'))\n",
    "            ])\n",
    "pipeline.fit(train_X, train_y_cluster_labels)\n",
    "predictions = multi_class_predict(pipeline, test_X, cluster_center) \n",
    "accuracy(test_y, predictions)"
   ]
  },
  {
   "cell_type": "markdown",
   "metadata": {},
   "source": [
    "**클러스터 사용**\n",
    "\n",
    "(데이터 개수 X 레이블) 행렬을 k 클러스터개로 나누는 K-Means 방법을 사용\n",
    "- train_y의 레이블이 (0 ~ k)개로 더 작아짐\n",
    "- 별도의 Mapping 함수 필요"
   ]
  },
  {
   "cell_type": "code",
   "execution_count": 17,
   "metadata": {},
   "outputs": [],
   "source": [
    "ks = [85]\n",
    "f1_score = []\n",
    "thresh = 0.85\n",
    "for k in ks:\n",
    "    kmeans = KMeans(n_clusters=k, random_state=2)\n",
    "    labels = kmeans.fit_predict(train_y)\n",
    "    train_y_cluster_labels = pd.Series(labels, index=train_y)\n",
    "    cluster_center = pd.DataFrame(columns=train_y.columns)\n",
    "    for cluster_id in range(k):\n",
    "        cluster_center.loc[cluster_id] = (kmeans.cluster_centers_[cluster_id]>=thresh)*1\n",
    "\n",
    "    for idx, col in enumerate(train_y.columns):\n",
    "        max_idx = kmeans.cluster_centers_[:,idx].argmax()\n",
    "        max_value = kmeans.cluster_centers_[:,idx].max()\n",
    "        if max_value<thresh:\n",
    "            cluster_center.loc[max_idx, col] = 1\n",
    "    \n",
    "    train_y_genre_labels = pd.DataFrame(columns=train_y.columns, index=train_y.index)\n",
    "    for idx in range(k):\n",
    "        train_y_genre_labels.loc[labels==idx,:] = cluster_center.loc[idx,:].values\n",
    "\n",
    "    result = accuracy(train_y, train_y_genre_labels)"
   ]
  },
  {
   "cell_type": "code",
   "execution_count": 18,
   "metadata": {
    "scrolled": true
   },
   "outputs": [
    {
     "name": "stdout",
     "output_type": "stream",
     "text": [
      "Fitting 2 folds for each of 27 candidates, totalling 54 fits\n",
      "[CV] clf__C=1, tfidf__max_df=0.25, tfidf__min_df=1, tfidf__ngram_range=(1, 2) \n"
     ]
    },
    {
     "name": "stderr",
     "output_type": "stream",
     "text": [
      "[Parallel(n_jobs=1)]: Using backend SequentialBackend with 1 concurrent workers.\n"
     ]
    },
    {
     "name": "stdout",
     "output_type": "stream",
     "text": [
      "[CV]  clf__C=1, tfidf__max_df=0.25, tfidf__min_df=1, tfidf__ngram_range=(1, 2), score=0.162, total=   1.5s\n",
      "[CV] clf__C=1, tfidf__max_df=0.25, tfidf__min_df=1, tfidf__ngram_range=(1, 2) \n"
     ]
    },
    {
     "name": "stderr",
     "output_type": "stream",
     "text": [
      "[Parallel(n_jobs=1)]: Done   1 out of   1 | elapsed:    1.5s remaining:    0.0s\n"
     ]
    },
    {
     "name": "stdout",
     "output_type": "stream",
     "text": [
      "[CV]  clf__C=1, tfidf__max_df=0.25, tfidf__min_df=1, tfidf__ngram_range=(1, 2), score=0.124, total=   1.5s\n",
      "[CV] clf__C=1, tfidf__max_df=0.25, tfidf__min_df=2, tfidf__ngram_range=(1, 2) \n"
     ]
    },
    {
     "name": "stderr",
     "output_type": "stream",
     "text": [
      "[Parallel(n_jobs=1)]: Done   2 out of   2 | elapsed:    3.0s remaining:    0.0s\n"
     ]
    },
    {
     "name": "stdout",
     "output_type": "stream",
     "text": [
      "[CV]  clf__C=1, tfidf__max_df=0.25, tfidf__min_df=2, tfidf__ngram_range=(1, 2), score=0.157, total=   1.0s\n",
      "[CV] clf__C=1, tfidf__max_df=0.25, tfidf__min_df=2, tfidf__ngram_range=(1, 2) \n"
     ]
    },
    {
     "name": "stderr",
     "output_type": "stream",
     "text": [
      "[Parallel(n_jobs=1)]: Done   3 out of   3 | elapsed:    4.1s remaining:    0.0s\n"
     ]
    },
    {
     "name": "stdout",
     "output_type": "stream",
     "text": [
      "[CV]  clf__C=1, tfidf__max_df=0.25, tfidf__min_df=2, tfidf__ngram_range=(1, 2), score=0.137, total=   1.0s\n",
      "[CV] clf__C=1, tfidf__max_df=0.25, tfidf__min_df=5, tfidf__ngram_range=(1, 2) \n"
     ]
    },
    {
     "name": "stderr",
     "output_type": "stream",
     "text": [
      "[Parallel(n_jobs=1)]: Done   4 out of   4 | elapsed:    5.1s remaining:    0.0s\n"
     ]
    },
    {
     "name": "stdout",
     "output_type": "stream",
     "text": [
      "[CV]  clf__C=1, tfidf__max_df=0.25, tfidf__min_df=5, tfidf__ngram_range=(1, 2), score=0.144, total=   0.9s\n",
      "[CV] clf__C=1, tfidf__max_df=0.25, tfidf__min_df=5, tfidf__ngram_range=(1, 2) \n"
     ]
    },
    {
     "name": "stderr",
     "output_type": "stream",
     "text": [
      "[Parallel(n_jobs=1)]: Done   5 out of   5 | elapsed:    6.0s remaining:    0.0s\n"
     ]
    },
    {
     "name": "stdout",
     "output_type": "stream",
     "text": [
      "[CV]  clf__C=1, tfidf__max_df=0.25, tfidf__min_df=5, tfidf__ngram_range=(1, 2), score=0.128, total=   0.8s\n",
      "[CV] clf__C=1, tfidf__max_df=0.5, tfidf__min_df=1, tfidf__ngram_range=(1, 2) \n"
     ]
    },
    {
     "name": "stderr",
     "output_type": "stream",
     "text": [
      "[Parallel(n_jobs=1)]: Done   6 out of   6 | elapsed:    6.8s remaining:    0.0s\n"
     ]
    },
    {
     "name": "stdout",
     "output_type": "stream",
     "text": [
      "[CV]  clf__C=1, tfidf__max_df=0.5, tfidf__min_df=1, tfidf__ngram_range=(1, 2), score=0.164, total=   1.4s\n",
      "[CV] clf__C=1, tfidf__max_df=0.5, tfidf__min_df=1, tfidf__ngram_range=(1, 2) \n"
     ]
    },
    {
     "name": "stderr",
     "output_type": "stream",
     "text": [
      "[Parallel(n_jobs=1)]: Done   7 out of   7 | elapsed:    8.3s remaining:    0.0s\n"
     ]
    },
    {
     "name": "stdout",
     "output_type": "stream",
     "text": [
      "[CV]  clf__C=1, tfidf__max_df=0.5, tfidf__min_df=1, tfidf__ngram_range=(1, 2), score=0.124, total=   1.5s\n",
      "[CV] clf__C=1, tfidf__max_df=0.5, tfidf__min_df=2, tfidf__ngram_range=(1, 2) \n"
     ]
    },
    {
     "name": "stderr",
     "output_type": "stream",
     "text": [
      "[Parallel(n_jobs=1)]: Done   8 out of   8 | elapsed:    9.8s remaining:    0.0s\n"
     ]
    },
    {
     "name": "stdout",
     "output_type": "stream",
     "text": [
      "[CV]  clf__C=1, tfidf__max_df=0.5, tfidf__min_df=2, tfidf__ngram_range=(1, 2), score=0.161, total=   1.0s\n",
      "[CV] clf__C=1, tfidf__max_df=0.5, tfidf__min_df=2, tfidf__ngram_range=(1, 2) \n"
     ]
    },
    {
     "name": "stderr",
     "output_type": "stream",
     "text": [
      "[Parallel(n_jobs=1)]: Done   9 out of   9 | elapsed:   10.8s remaining:    0.0s\n"
     ]
    },
    {
     "name": "stdout",
     "output_type": "stream",
     "text": [
      "[CV]  clf__C=1, tfidf__max_df=0.5, tfidf__min_df=2, tfidf__ngram_range=(1, 2), score=0.136, total=   1.0s\n",
      "[CV] clf__C=1, tfidf__max_df=0.5, tfidf__min_df=5, tfidf__ngram_range=(1, 2) \n",
      "[CV]  clf__C=1, tfidf__max_df=0.5, tfidf__min_df=5, tfidf__ngram_range=(1, 2), score=0.144, total=   0.8s\n",
      "[CV] clf__C=1, tfidf__max_df=0.5, tfidf__min_df=5, tfidf__ngram_range=(1, 2) \n",
      "[CV]  clf__C=1, tfidf__max_df=0.5, tfidf__min_df=5, tfidf__ngram_range=(1, 2), score=0.127, total=   0.8s\n",
      "[CV] clf__C=1, tfidf__max_df=0.75, tfidf__min_df=1, tfidf__ngram_range=(1, 2) \n",
      "[CV]  clf__C=1, tfidf__max_df=0.75, tfidf__min_df=1, tfidf__ngram_range=(1, 2), score=0.163, total=   1.5s\n",
      "[CV] clf__C=1, tfidf__max_df=0.75, tfidf__min_df=1, tfidf__ngram_range=(1, 2) \n",
      "[CV]  clf__C=1, tfidf__max_df=0.75, tfidf__min_df=1, tfidf__ngram_range=(1, 2), score=0.125, total=   1.6s\n",
      "[CV] clf__C=1, tfidf__max_df=0.75, tfidf__min_df=2, tfidf__ngram_range=(1, 2) \n",
      "[CV]  clf__C=1, tfidf__max_df=0.75, tfidf__min_df=2, tfidf__ngram_range=(1, 2), score=0.161, total=   1.0s\n",
      "[CV] clf__C=1, tfidf__max_df=0.75, tfidf__min_df=2, tfidf__ngram_range=(1, 2) \n",
      "[CV]  clf__C=1, tfidf__max_df=0.75, tfidf__min_df=2, tfidf__ngram_range=(1, 2), score=0.136, total=   1.0s\n",
      "[CV] clf__C=1, tfidf__max_df=0.75, tfidf__min_df=5, tfidf__ngram_range=(1, 2) \n",
      "[CV]  clf__C=1, tfidf__max_df=0.75, tfidf__min_df=5, tfidf__ngram_range=(1, 2), score=0.143, total=   0.8s\n",
      "[CV] clf__C=1, tfidf__max_df=0.75, tfidf__min_df=5, tfidf__ngram_range=(1, 2) \n",
      "[CV]  clf__C=1, tfidf__max_df=0.75, tfidf__min_df=5, tfidf__ngram_range=(1, 2), score=0.128, total=   0.8s\n",
      "[CV] clf__C=10, tfidf__max_df=0.25, tfidf__min_df=1, tfidf__ngram_range=(1, 2) \n",
      "[CV]  clf__C=10, tfidf__max_df=0.25, tfidf__min_df=1, tfidf__ngram_range=(1, 2), score=0.209, total=   2.4s\n",
      "[CV] clf__C=10, tfidf__max_df=0.25, tfidf__min_df=1, tfidf__ngram_range=(1, 2) \n",
      "[CV]  clf__C=10, tfidf__max_df=0.25, tfidf__min_df=1, tfidf__ngram_range=(1, 2), score=0.181, total=   2.3s\n",
      "[CV] clf__C=10, tfidf__max_df=0.25, tfidf__min_df=2, tfidf__ngram_range=(1, 2) \n",
      "[CV]  clf__C=10, tfidf__max_df=0.25, tfidf__min_df=2, tfidf__ngram_range=(1, 2), score=0.176, total=   1.3s\n",
      "[CV] clf__C=10, tfidf__max_df=0.25, tfidf__min_df=2, tfidf__ngram_range=(1, 2) \n",
      "[CV]  clf__C=10, tfidf__max_df=0.25, tfidf__min_df=2, tfidf__ngram_range=(1, 2), score=0.170, total=   1.2s\n",
      "[CV] clf__C=10, tfidf__max_df=0.25, tfidf__min_df=5, tfidf__ngram_range=(1, 2) \n",
      "[CV]  clf__C=10, tfidf__max_df=0.25, tfidf__min_df=5, tfidf__ngram_range=(1, 2), score=0.194, total=   1.0s\n",
      "[CV] clf__C=10, tfidf__max_df=0.25, tfidf__min_df=5, tfidf__ngram_range=(1, 2) \n",
      "[CV]  clf__C=10, tfidf__max_df=0.25, tfidf__min_df=5, tfidf__ngram_range=(1, 2), score=0.158, total=   1.0s\n",
      "[CV] clf__C=10, tfidf__max_df=0.5, tfidf__min_df=1, tfidf__ngram_range=(1, 2) \n",
      "[CV]  clf__C=10, tfidf__max_df=0.5, tfidf__min_df=1, tfidf__ngram_range=(1, 2), score=0.211, total=   2.4s\n",
      "[CV] clf__C=10, tfidf__max_df=0.5, tfidf__min_df=1, tfidf__ngram_range=(1, 2) \n",
      "[CV]  clf__C=10, tfidf__max_df=0.5, tfidf__min_df=1, tfidf__ngram_range=(1, 2), score=0.198, total=   2.2s\n",
      "[CV] clf__C=10, tfidf__max_df=0.5, tfidf__min_df=2, tfidf__ngram_range=(1, 2) \n",
      "[CV]  clf__C=10, tfidf__max_df=0.5, tfidf__min_df=2, tfidf__ngram_range=(1, 2), score=0.186, total=   1.3s\n",
      "[CV] clf__C=10, tfidf__max_df=0.5, tfidf__min_df=2, tfidf__ngram_range=(1, 2) \n",
      "[CV]  clf__C=10, tfidf__max_df=0.5, tfidf__min_df=2, tfidf__ngram_range=(1, 2), score=0.166, total=   1.2s\n",
      "[CV] clf__C=10, tfidf__max_df=0.5, tfidf__min_df=5, tfidf__ngram_range=(1, 2) \n",
      "[CV]  clf__C=10, tfidf__max_df=0.5, tfidf__min_df=5, tfidf__ngram_range=(1, 2), score=0.199, total=   1.0s\n",
      "[CV] clf__C=10, tfidf__max_df=0.5, tfidf__min_df=5, tfidf__ngram_range=(1, 2) \n",
      "[CV]  clf__C=10, tfidf__max_df=0.5, tfidf__min_df=5, tfidf__ngram_range=(1, 2), score=0.156, total=   1.0s\n",
      "[CV] clf__C=10, tfidf__max_df=0.75, tfidf__min_df=1, tfidf__ngram_range=(1, 2) \n",
      "[CV]  clf__C=10, tfidf__max_df=0.75, tfidf__min_df=1, tfidf__ngram_range=(1, 2), score=0.211, total=   2.4s\n",
      "[CV] clf__C=10, tfidf__max_df=0.75, tfidf__min_df=1, tfidf__ngram_range=(1, 2) \n",
      "[CV]  clf__C=10, tfidf__max_df=0.75, tfidf__min_df=1, tfidf__ngram_range=(1, 2), score=0.194, total=   2.2s\n",
      "[CV] clf__C=10, tfidf__max_df=0.75, tfidf__min_df=2, tfidf__ngram_range=(1, 2) \n",
      "[CV]  clf__C=10, tfidf__max_df=0.75, tfidf__min_df=2, tfidf__ngram_range=(1, 2), score=0.186, total=   1.3s\n",
      "[CV] clf__C=10, tfidf__max_df=0.75, tfidf__min_df=2, tfidf__ngram_range=(1, 2) \n",
      "[CV]  clf__C=10, tfidf__max_df=0.75, tfidf__min_df=2, tfidf__ngram_range=(1, 2), score=0.166, total=   1.2s\n",
      "[CV] clf__C=10, tfidf__max_df=0.75, tfidf__min_df=5, tfidf__ngram_range=(1, 2) \n",
      "[CV]  clf__C=10, tfidf__max_df=0.75, tfidf__min_df=5, tfidf__ngram_range=(1, 2), score=0.199, total=   1.1s\n",
      "[CV] clf__C=10, tfidf__max_df=0.75, tfidf__min_df=5, tfidf__ngram_range=(1, 2) \n",
      "[CV]  clf__C=10, tfidf__max_df=0.75, tfidf__min_df=5, tfidf__ngram_range=(1, 2), score=0.157, total=   1.0s\n",
      "[CV] clf__C=100, tfidf__max_df=0.25, tfidf__min_df=1, tfidf__ngram_range=(1, 2) \n"
     ]
    },
    {
     "name": "stderr",
     "output_type": "stream",
     "text": [
      "/Users/jonghyun/anaconda3/envs/website/lib/python3.7/site-packages/sklearn/svm/base.py:929: ConvergenceWarning: Liblinear failed to converge, increase the number of iterations.\n",
      "  \"the number of iterations.\", ConvergenceWarning)\n"
     ]
    },
    {
     "name": "stdout",
     "output_type": "stream",
     "text": [
      "[CV]  clf__C=100, tfidf__max_df=0.25, tfidf__min_df=1, tfidf__ngram_range=(1, 2), score=0.204, total=   5.4s\n",
      "[CV] clf__C=100, tfidf__max_df=0.25, tfidf__min_df=1, tfidf__ngram_range=(1, 2) \n"
     ]
    },
    {
     "name": "stderr",
     "output_type": "stream",
     "text": [
      "/Users/jonghyun/anaconda3/envs/website/lib/python3.7/site-packages/sklearn/svm/base.py:929: ConvergenceWarning: Liblinear failed to converge, increase the number of iterations.\n",
      "  \"the number of iterations.\", ConvergenceWarning)\n"
     ]
    },
    {
     "name": "stdout",
     "output_type": "stream",
     "text": [
      "[CV]  clf__C=100, tfidf__max_df=0.25, tfidf__min_df=1, tfidf__ngram_range=(1, 2), score=0.194, total=   5.2s\n",
      "[CV] clf__C=100, tfidf__max_df=0.25, tfidf__min_df=2, tfidf__ngram_range=(1, 2) \n"
     ]
    },
    {
     "name": "stderr",
     "output_type": "stream",
     "text": [
      "/Users/jonghyun/anaconda3/envs/website/lib/python3.7/site-packages/sklearn/svm/base.py:929: ConvergenceWarning: Liblinear failed to converge, increase the number of iterations.\n",
      "  \"the number of iterations.\", ConvergenceWarning)\n"
     ]
    },
    {
     "name": "stdout",
     "output_type": "stream",
     "text": [
      "[CV]  clf__C=100, tfidf__max_df=0.25, tfidf__min_df=2, tfidf__ngram_range=(1, 2), score=0.189, total=   2.5s\n",
      "[CV] clf__C=100, tfidf__max_df=0.25, tfidf__min_df=2, tfidf__ngram_range=(1, 2) \n"
     ]
    },
    {
     "name": "stderr",
     "output_type": "stream",
     "text": [
      "/Users/jonghyun/anaconda3/envs/website/lib/python3.7/site-packages/sklearn/svm/base.py:929: ConvergenceWarning: Liblinear failed to converge, increase the number of iterations.\n",
      "  \"the number of iterations.\", ConvergenceWarning)\n"
     ]
    },
    {
     "name": "stdout",
     "output_type": "stream",
     "text": [
      "[CV]  clf__C=100, tfidf__max_df=0.25, tfidf__min_df=2, tfidf__ngram_range=(1, 2), score=0.191, total=   2.1s\n",
      "[CV] clf__C=100, tfidf__max_df=0.25, tfidf__min_df=5, tfidf__ngram_range=(1, 2) \n"
     ]
    },
    {
     "name": "stderr",
     "output_type": "stream",
     "text": [
      "/Users/jonghyun/anaconda3/envs/website/lib/python3.7/site-packages/sklearn/svm/base.py:929: ConvergenceWarning: Liblinear failed to converge, increase the number of iterations.\n",
      "  \"the number of iterations.\", ConvergenceWarning)\n"
     ]
    },
    {
     "name": "stdout",
     "output_type": "stream",
     "text": [
      "[CV]  clf__C=100, tfidf__max_df=0.25, tfidf__min_df=5, tfidf__ngram_range=(1, 2), score=0.197, total=   1.6s\n",
      "[CV] clf__C=100, tfidf__max_df=0.25, tfidf__min_df=5, tfidf__ngram_range=(1, 2) \n"
     ]
    },
    {
     "name": "stderr",
     "output_type": "stream",
     "text": [
      "/Users/jonghyun/anaconda3/envs/website/lib/python3.7/site-packages/sklearn/svm/base.py:929: ConvergenceWarning: Liblinear failed to converge, increase the number of iterations.\n",
      "  \"the number of iterations.\", ConvergenceWarning)\n"
     ]
    },
    {
     "name": "stdout",
     "output_type": "stream",
     "text": [
      "[CV]  clf__C=100, tfidf__max_df=0.25, tfidf__min_df=5, tfidf__ngram_range=(1, 2), score=0.164, total=   1.6s\n",
      "[CV] clf__C=100, tfidf__max_df=0.5, tfidf__min_df=1, tfidf__ngram_range=(1, 2) \n"
     ]
    },
    {
     "name": "stderr",
     "output_type": "stream",
     "text": [
      "/Users/jonghyun/anaconda3/envs/website/lib/python3.7/site-packages/sklearn/svm/base.py:929: ConvergenceWarning: Liblinear failed to converge, increase the number of iterations.\n",
      "  \"the number of iterations.\", ConvergenceWarning)\n"
     ]
    },
    {
     "name": "stdout",
     "output_type": "stream",
     "text": [
      "[CV]  clf__C=100, tfidf__max_df=0.5, tfidf__min_df=1, tfidf__ngram_range=(1, 2), score=0.215, total=   5.8s\n",
      "[CV] clf__C=100, tfidf__max_df=0.5, tfidf__min_df=1, tfidf__ngram_range=(1, 2) \n"
     ]
    },
    {
     "name": "stderr",
     "output_type": "stream",
     "text": [
      "/Users/jonghyun/anaconda3/envs/website/lib/python3.7/site-packages/sklearn/svm/base.py:929: ConvergenceWarning: Liblinear failed to converge, increase the number of iterations.\n",
      "  \"the number of iterations.\", ConvergenceWarning)\n"
     ]
    },
    {
     "name": "stdout",
     "output_type": "stream",
     "text": [
      "[CV]  clf__C=100, tfidf__max_df=0.5, tfidf__min_df=1, tfidf__ngram_range=(1, 2), score=0.190, total=   5.6s\n",
      "[CV] clf__C=100, tfidf__max_df=0.5, tfidf__min_df=2, tfidf__ngram_range=(1, 2) \n"
     ]
    },
    {
     "name": "stderr",
     "output_type": "stream",
     "text": [
      "/Users/jonghyun/anaconda3/envs/website/lib/python3.7/site-packages/sklearn/svm/base.py:929: ConvergenceWarning: Liblinear failed to converge, increase the number of iterations.\n",
      "  \"the number of iterations.\", ConvergenceWarning)\n"
     ]
    },
    {
     "name": "stdout",
     "output_type": "stream",
     "text": [
      "[CV]  clf__C=100, tfidf__max_df=0.5, tfidf__min_df=2, tfidf__ngram_range=(1, 2), score=0.037, total=   2.4s\n",
      "[CV] clf__C=100, tfidf__max_df=0.5, tfidf__min_df=2, tfidf__ngram_range=(1, 2) \n"
     ]
    },
    {
     "name": "stderr",
     "output_type": "stream",
     "text": [
      "/Users/jonghyun/anaconda3/envs/website/lib/python3.7/site-packages/sklearn/svm/base.py:929: ConvergenceWarning: Liblinear failed to converge, increase the number of iterations.\n",
      "  \"the number of iterations.\", ConvergenceWarning)\n"
     ]
    },
    {
     "name": "stdout",
     "output_type": "stream",
     "text": [
      "[CV]  clf__C=100, tfidf__max_df=0.5, tfidf__min_df=2, tfidf__ngram_range=(1, 2), score=0.038, total=   2.3s\n",
      "[CV] clf__C=100, tfidf__max_df=0.5, tfidf__min_df=5, tfidf__ngram_range=(1, 2) \n"
     ]
    },
    {
     "name": "stderr",
     "output_type": "stream",
     "text": [
      "/Users/jonghyun/anaconda3/envs/website/lib/python3.7/site-packages/sklearn/svm/base.py:929: ConvergenceWarning: Liblinear failed to converge, increase the number of iterations.\n",
      "  \"the number of iterations.\", ConvergenceWarning)\n"
     ]
    },
    {
     "name": "stdout",
     "output_type": "stream",
     "text": [
      "[CV]  clf__C=100, tfidf__max_df=0.5, tfidf__min_df=5, tfidf__ngram_range=(1, 2), score=0.196, total=   1.7s\n",
      "[CV] clf__C=100, tfidf__max_df=0.5, tfidf__min_df=5, tfidf__ngram_range=(1, 2) \n"
     ]
    },
    {
     "name": "stderr",
     "output_type": "stream",
     "text": [
      "/Users/jonghyun/anaconda3/envs/website/lib/python3.7/site-packages/sklearn/svm/base.py:929: ConvergenceWarning: Liblinear failed to converge, increase the number of iterations.\n",
      "  \"the number of iterations.\", ConvergenceWarning)\n"
     ]
    },
    {
     "name": "stdout",
     "output_type": "stream",
     "text": [
      "[CV]  clf__C=100, tfidf__max_df=0.5, tfidf__min_df=5, tfidf__ngram_range=(1, 2), score=0.171, total=   1.7s\n",
      "[CV] clf__C=100, tfidf__max_df=0.75, tfidf__min_df=1, tfidf__ngram_range=(1, 2) \n"
     ]
    },
    {
     "name": "stderr",
     "output_type": "stream",
     "text": [
      "/Users/jonghyun/anaconda3/envs/website/lib/python3.7/site-packages/sklearn/svm/base.py:929: ConvergenceWarning: Liblinear failed to converge, increase the number of iterations.\n",
      "  \"the number of iterations.\", ConvergenceWarning)\n"
     ]
    },
    {
     "name": "stdout",
     "output_type": "stream",
     "text": [
      "[CV]  clf__C=100, tfidf__max_df=0.75, tfidf__min_df=1, tfidf__ngram_range=(1, 2), score=0.210, total=   5.8s\n",
      "[CV] clf__C=100, tfidf__max_df=0.75, tfidf__min_df=1, tfidf__ngram_range=(1, 2) \n"
     ]
    },
    {
     "name": "stderr",
     "output_type": "stream",
     "text": [
      "/Users/jonghyun/anaconda3/envs/website/lib/python3.7/site-packages/sklearn/svm/base.py:929: ConvergenceWarning: Liblinear failed to converge, increase the number of iterations.\n",
      "  \"the number of iterations.\", ConvergenceWarning)\n"
     ]
    },
    {
     "name": "stdout",
     "output_type": "stream",
     "text": [
      "[CV]  clf__C=100, tfidf__max_df=0.75, tfidf__min_df=1, tfidf__ngram_range=(1, 2), score=0.192, total=   5.6s\n",
      "[CV] clf__C=100, tfidf__max_df=0.75, tfidf__min_df=2, tfidf__ngram_range=(1, 2) \n"
     ]
    },
    {
     "name": "stderr",
     "output_type": "stream",
     "text": [
      "/Users/jonghyun/anaconda3/envs/website/lib/python3.7/site-packages/sklearn/svm/base.py:929: ConvergenceWarning: Liblinear failed to converge, increase the number of iterations.\n",
      "  \"the number of iterations.\", ConvergenceWarning)\n"
     ]
    },
    {
     "name": "stdout",
     "output_type": "stream",
     "text": [
      "[CV]  clf__C=100, tfidf__max_df=0.75, tfidf__min_df=2, tfidf__ngram_range=(1, 2), score=0.037, total=   2.5s\n",
      "[CV] clf__C=100, tfidf__max_df=0.75, tfidf__min_df=2, tfidf__ngram_range=(1, 2) \n"
     ]
    },
    {
     "name": "stderr",
     "output_type": "stream",
     "text": [
      "/Users/jonghyun/anaconda3/envs/website/lib/python3.7/site-packages/sklearn/svm/base.py:929: ConvergenceWarning: Liblinear failed to converge, increase the number of iterations.\n",
      "  \"the number of iterations.\", ConvergenceWarning)\n"
     ]
    },
    {
     "name": "stdout",
     "output_type": "stream",
     "text": [
      "[CV]  clf__C=100, tfidf__max_df=0.75, tfidf__min_df=2, tfidf__ngram_range=(1, 2), score=0.038, total=   2.3s\n",
      "[CV] clf__C=100, tfidf__max_df=0.75, tfidf__min_df=5, tfidf__ngram_range=(1, 2) \n"
     ]
    },
    {
     "name": "stderr",
     "output_type": "stream",
     "text": [
      "/Users/jonghyun/anaconda3/envs/website/lib/python3.7/site-packages/sklearn/svm/base.py:929: ConvergenceWarning: Liblinear failed to converge, increase the number of iterations.\n",
      "  \"the number of iterations.\", ConvergenceWarning)\n"
     ]
    },
    {
     "name": "stdout",
     "output_type": "stream",
     "text": [
      "[CV]  clf__C=100, tfidf__max_df=0.75, tfidf__min_df=5, tfidf__ngram_range=(1, 2), score=0.196, total=   1.7s\n",
      "[CV] clf__C=100, tfidf__max_df=0.75, tfidf__min_df=5, tfidf__ngram_range=(1, 2) \n"
     ]
    },
    {
     "name": "stderr",
     "output_type": "stream",
     "text": [
      "/Users/jonghyun/anaconda3/envs/website/lib/python3.7/site-packages/sklearn/svm/base.py:929: ConvergenceWarning: Liblinear failed to converge, increase the number of iterations.\n",
      "  \"the number of iterations.\", ConvergenceWarning)\n"
     ]
    },
    {
     "name": "stdout",
     "output_type": "stream",
     "text": [
      "[CV]  clf__C=100, tfidf__max_df=0.75, tfidf__min_df=5, tfidf__ngram_range=(1, 2), score=0.171, total=   1.7s\n"
     ]
    },
    {
     "name": "stderr",
     "output_type": "stream",
     "text": [
      "[Parallel(n_jobs=1)]: Done  54 out of  54 | elapsed:  1.8min finished\n",
      "/Users/jonghyun/anaconda3/envs/website/lib/python3.7/site-packages/sklearn/model_selection/_search.py:814: DeprecationWarning: The default of the `iid` parameter will change from True to False in version 0.22 and will be removed in 0.24. This will change numeric results when test-set sizes are unequal.\n",
      "  DeprecationWarning)\n"
     ]
    },
    {
     "name": "stdout",
     "output_type": "stream",
     "text": [
      "\n",
      "Best parameters set:\n",
      "[('tfidf', TfidfVectorizer(analyzer='word', binary=False, decode_error='strict',\n",
      "                dtype=<class 'numpy.float64'>, encoding='utf-8',\n",
      "                input='content', lowercase=True, max_df=0.5, max_features=None,\n",
      "                min_df=1, ngram_range=(1, 2), norm='l2', preprocessor=None,\n",
      "                smooth_idf=True, stop_words=None, strip_accents=None,\n",
      "                sublinear_tf=False, token_pattern='(?u)\\\\b\\\\w\\\\w+\\\\b',\n",
      "                tokenizer=None, use_idf=True, vocabulary=None)), ('clf', LinearSVC(C=10, class_weight='balanced', dual=True, fit_intercept=True,\n",
      "          intercept_scaling=1, loss='squared_hinge', max_iter=1000,\n",
      "          multi_class='ovr', penalty='l2', random_state=None, tol=0.0001,\n",
      "          verbose=0))]\n",
      "\n",
      "Applying best classifier on test data:\n",
      "<class 'pandas.core.series.Series'>\n"
     ]
    },
    {
     "data": {
      "text/html": [
       "<div>\n",
       "<style scoped>\n",
       "    .dataframe tbody tr th:only-of-type {\n",
       "        vertical-align: middle;\n",
       "    }\n",
       "\n",
       "    .dataframe tbody tr th {\n",
       "        vertical-align: top;\n",
       "    }\n",
       "\n",
       "    .dataframe thead th {\n",
       "        text-align: right;\n",
       "    }\n",
       "</style>\n",
       "<table border=\"1\" class=\"dataframe\">\n",
       "  <thead>\n",
       "    <tr style=\"text-align: right;\">\n",
       "      <th></th>\n",
       "      <th>Precision</th>\n",
       "      <th>Recall</th>\n",
       "      <th>F1-Score</th>\n",
       "      <th>Support</th>\n",
       "    </tr>\n",
       "  </thead>\n",
       "  <tbody>\n",
       "    <tr>\n",
       "      <td>math</td>\n",
       "      <td>0.55</td>\n",
       "      <td>0.43</td>\n",
       "      <td>0.48</td>\n",
       "      <td>261.0</td>\n",
       "    </tr>\n",
       "    <tr>\n",
       "      <td>constructive algorithm</td>\n",
       "      <td>0.35</td>\n",
       "      <td>0.25</td>\n",
       "      <td>0.29</td>\n",
       "      <td>126.0</td>\n",
       "    </tr>\n",
       "    <tr>\n",
       "      <td>search</td>\n",
       "      <td>0.22</td>\n",
       "      <td>0.10</td>\n",
       "      <td>0.14</td>\n",
       "      <td>117.0</td>\n",
       "    </tr>\n",
       "    <tr>\n",
       "      <td>brute force</td>\n",
       "      <td>0.22</td>\n",
       "      <td>0.13</td>\n",
       "      <td>0.16</td>\n",
       "      <td>132.0</td>\n",
       "    </tr>\n",
       "    <tr>\n",
       "      <td>geometry</td>\n",
       "      <td>0.58</td>\n",
       "      <td>0.50</td>\n",
       "      <td>0.54</td>\n",
       "      <td>38.0</td>\n",
       "    </tr>\n",
       "    <tr>\n",
       "      <td>string</td>\n",
       "      <td>0.69</td>\n",
       "      <td>0.50</td>\n",
       "      <td>0.58</td>\n",
       "      <td>72.0</td>\n",
       "    </tr>\n",
       "    <tr>\n",
       "      <td>data structures</td>\n",
       "      <td>0.59</td>\n",
       "      <td>0.55</td>\n",
       "      <td>0.57</td>\n",
       "      <td>277.0</td>\n",
       "    </tr>\n",
       "    <tr>\n",
       "      <td>sortings</td>\n",
       "      <td>0.50</td>\n",
       "      <td>0.35</td>\n",
       "      <td>0.41</td>\n",
       "      <td>259.0</td>\n",
       "    </tr>\n",
       "    <tr>\n",
       "      <td>dp</td>\n",
       "      <td>0.39</td>\n",
       "      <td>0.32</td>\n",
       "      <td>0.35</td>\n",
       "      <td>195.0</td>\n",
       "    </tr>\n",
       "    <tr>\n",
       "      <td>Avg/Total</td>\n",
       "      <td>0.46</td>\n",
       "      <td>0.36</td>\n",
       "      <td>0.40</td>\n",
       "      <td>1477.0</td>\n",
       "    </tr>\n",
       "  </tbody>\n",
       "</table>\n",
       "</div>"
      ],
      "text/plain": [
       "                        Precision  Recall  F1-Score  Support\n",
       "math                         0.55    0.43      0.48    261.0\n",
       "constructive algorithm       0.35    0.25      0.29    126.0\n",
       "search                       0.22    0.10      0.14    117.0\n",
       "brute force                  0.22    0.13      0.16    132.0\n",
       "geometry                     0.58    0.50      0.54     38.0\n",
       "string                       0.69    0.50      0.58     72.0\n",
       "data structures              0.59    0.55      0.57    277.0\n",
       "sortings                     0.50    0.35      0.41    259.0\n",
       "dp                           0.39    0.32      0.35    195.0\n",
       "Avg/Total                    0.46    0.36      0.40   1477.0"
      ]
     },
     "execution_count": 18,
     "metadata": {},
     "output_type": "execute_result"
    }
   ],
   "source": [
    "pipeline = Pipeline([\n",
    "                ('tfidf', TfidfVectorizer()),\n",
    "                ('clf', LinearSVC(class_weight='balanced'))\n",
    "            ])\n",
    "# sorted(pipeline.get_params().keys()) # -- to obtain the GridSearchCV parameter names\n",
    "parameters = {\n",
    "                'tfidf__max_df': [0.25, 0.5, 0.75],\n",
    "                'tfidf__ngram_range': [(1, 2)],\n",
    "                'tfidf__min_df': [1, 2, 5],\n",
    "                'clf__C': [1, 10, 100]\n",
    "            }\n",
    "overall_f1_score_v2_cv = make_scorer(overall_f1_score_v2, greater_is_better=True, class_to_genre_map = cluster_center)\n",
    "grid_search_cv = GridSearchCV(pipeline, parameters, cv=2, verbose=10, scoring=overall_f1_score_v2_cv)\n",
    "grid_search_cv.fit(train_X, train_y_cluster_labels)\n",
    "\n",
    "print()\n",
    "print(\"Best parameters set:\")\n",
    "print (grid_search_cv.best_estimator_.steps)\n",
    "print()\n",
    "\n",
    "# measuring performance on test set\n",
    "print (\"Applying best classifier on test data:\")\n",
    "best_clf = grid_search_cv.best_estimator_\n",
    "predictions = multi_class_predict(best_clf, test_X, cluster_center) \n",
    "accuracy(test_y, predictions)"
   ]
  },
  {
   "cell_type": "code",
   "execution_count": 19,
   "metadata": {},
   "outputs": [
    {
     "name": "stdout",
     "output_type": "stream",
     "text": [
      "<class 'pandas.core.series.Series'>\n"
     ]
    },
    {
     "data": {
      "text/html": [
       "<div>\n",
       "<style scoped>\n",
       "    .dataframe tbody tr th:only-of-type {\n",
       "        vertical-align: middle;\n",
       "    }\n",
       "\n",
       "    .dataframe tbody tr th {\n",
       "        vertical-align: top;\n",
       "    }\n",
       "\n",
       "    .dataframe thead th {\n",
       "        text-align: right;\n",
       "    }\n",
       "</style>\n",
       "<table border=\"1\" class=\"dataframe\">\n",
       "  <thead>\n",
       "    <tr style=\"text-align: right;\">\n",
       "      <th></th>\n",
       "      <th>Precision</th>\n",
       "      <th>Recall</th>\n",
       "      <th>F1-Score</th>\n",
       "      <th>Support</th>\n",
       "    </tr>\n",
       "  </thead>\n",
       "  <tbody>\n",
       "    <tr>\n",
       "      <td>math</td>\n",
       "      <td>0.50</td>\n",
       "      <td>0.48</td>\n",
       "      <td>0.49</td>\n",
       "      <td>261.0</td>\n",
       "    </tr>\n",
       "    <tr>\n",
       "      <td>constructive algorithm</td>\n",
       "      <td>0.29</td>\n",
       "      <td>0.36</td>\n",
       "      <td>0.32</td>\n",
       "      <td>126.0</td>\n",
       "    </tr>\n",
       "    <tr>\n",
       "      <td>search</td>\n",
       "      <td>0.22</td>\n",
       "      <td>0.30</td>\n",
       "      <td>0.26</td>\n",
       "      <td>117.0</td>\n",
       "    </tr>\n",
       "    <tr>\n",
       "      <td>brute force</td>\n",
       "      <td>0.22</td>\n",
       "      <td>0.29</td>\n",
       "      <td>0.25</td>\n",
       "      <td>132.0</td>\n",
       "    </tr>\n",
       "    <tr>\n",
       "      <td>geometry</td>\n",
       "      <td>0.36</td>\n",
       "      <td>0.53</td>\n",
       "      <td>0.43</td>\n",
       "      <td>38.0</td>\n",
       "    </tr>\n",
       "    <tr>\n",
       "      <td>string</td>\n",
       "      <td>0.52</td>\n",
       "      <td>0.60</td>\n",
       "      <td>0.55</td>\n",
       "      <td>72.0</td>\n",
       "    </tr>\n",
       "    <tr>\n",
       "      <td>data structures</td>\n",
       "      <td>0.50</td>\n",
       "      <td>0.53</td>\n",
       "      <td>0.52</td>\n",
       "      <td>277.0</td>\n",
       "    </tr>\n",
       "    <tr>\n",
       "      <td>sortings</td>\n",
       "      <td>0.45</td>\n",
       "      <td>0.40</td>\n",
       "      <td>0.42</td>\n",
       "      <td>259.0</td>\n",
       "    </tr>\n",
       "    <tr>\n",
       "      <td>dp</td>\n",
       "      <td>0.38</td>\n",
       "      <td>0.47</td>\n",
       "      <td>0.42</td>\n",
       "      <td>195.0</td>\n",
       "    </tr>\n",
       "    <tr>\n",
       "      <td>Avg/Total</td>\n",
       "      <td>0.41</td>\n",
       "      <td>0.44</td>\n",
       "      <td>0.42</td>\n",
       "      <td>1477.0</td>\n",
       "    </tr>\n",
       "  </tbody>\n",
       "</table>\n",
       "</div>"
      ],
      "text/plain": [
       "                        Precision  Recall  F1-Score  Support\n",
       "math                         0.50    0.48      0.49    261.0\n",
       "constructive algorithm       0.29    0.36      0.32    126.0\n",
       "search                       0.22    0.30      0.26    117.0\n",
       "brute force                  0.22    0.29      0.25    132.0\n",
       "geometry                     0.36    0.53      0.43     38.0\n",
       "string                       0.52    0.60      0.55     72.0\n",
       "data structures              0.50    0.53      0.52    277.0\n",
       "sortings                     0.45    0.40      0.42    259.0\n",
       "dp                           0.38    0.47      0.42    195.0\n",
       "Avg/Total                    0.41    0.44      0.42   1477.0"
      ]
     },
     "execution_count": 19,
     "metadata": {},
     "output_type": "execute_result"
    }
   ],
   "source": [
    "pipeline = Pipeline([\n",
    "                ('tfidf', TfidfVectorizer(max_df=0.5, min_df=2, ngram_range=(1, 1))),\n",
    "                ('clf', LinearSVC(C=1, class_weight='balanced'))\n",
    "            ])\n",
    "pipeline.fit(train_X, train_y_cluster_labels)\n",
    "predictions = multi_class_predict(pipeline, test_X, cluster_center) \n",
    "accuracy(test_y, predictions)"
   ]
  },
  {
   "cell_type": "code",
   "execution_count": 20,
   "metadata": {},
   "outputs": [
    {
     "name": "stdout",
     "output_type": "stream",
     "text": [
      "<class 'pandas.core.series.Series'>\n"
     ]
    },
    {
     "data": {
      "text/html": [
       "<div>\n",
       "<style scoped>\n",
       "    .dataframe tbody tr th:only-of-type {\n",
       "        vertical-align: middle;\n",
       "    }\n",
       "\n",
       "    .dataframe tbody tr th {\n",
       "        vertical-align: top;\n",
       "    }\n",
       "\n",
       "    .dataframe thead th {\n",
       "        text-align: right;\n",
       "    }\n",
       "</style>\n",
       "<table border=\"1\" class=\"dataframe\">\n",
       "  <thead>\n",
       "    <tr style=\"text-align: right;\">\n",
       "      <th></th>\n",
       "      <th>Precision</th>\n",
       "      <th>Recall</th>\n",
       "      <th>F1-Score</th>\n",
       "      <th>Support</th>\n",
       "    </tr>\n",
       "  </thead>\n",
       "  <tbody>\n",
       "    <tr>\n",
       "      <td>math</td>\n",
       "      <td>0.55</td>\n",
       "      <td>0.44</td>\n",
       "      <td>0.49</td>\n",
       "      <td>261.0</td>\n",
       "    </tr>\n",
       "    <tr>\n",
       "      <td>constructive algorithm</td>\n",
       "      <td>0.35</td>\n",
       "      <td>0.25</td>\n",
       "      <td>0.29</td>\n",
       "      <td>126.0</td>\n",
       "    </tr>\n",
       "    <tr>\n",
       "      <td>search</td>\n",
       "      <td>0.27</td>\n",
       "      <td>0.17</td>\n",
       "      <td>0.21</td>\n",
       "      <td>117.0</td>\n",
       "    </tr>\n",
       "    <tr>\n",
       "      <td>brute force</td>\n",
       "      <td>0.25</td>\n",
       "      <td>0.17</td>\n",
       "      <td>0.20</td>\n",
       "      <td>132.0</td>\n",
       "    </tr>\n",
       "    <tr>\n",
       "      <td>geometry</td>\n",
       "      <td>0.53</td>\n",
       "      <td>0.50</td>\n",
       "      <td>0.51</td>\n",
       "      <td>38.0</td>\n",
       "    </tr>\n",
       "    <tr>\n",
       "      <td>string</td>\n",
       "      <td>0.67</td>\n",
       "      <td>0.46</td>\n",
       "      <td>0.55</td>\n",
       "      <td>72.0</td>\n",
       "    </tr>\n",
       "    <tr>\n",
       "      <td>data structures</td>\n",
       "      <td>0.57</td>\n",
       "      <td>0.54</td>\n",
       "      <td>0.56</td>\n",
       "      <td>277.0</td>\n",
       "    </tr>\n",
       "    <tr>\n",
       "      <td>sortings</td>\n",
       "      <td>0.53</td>\n",
       "      <td>0.38</td>\n",
       "      <td>0.44</td>\n",
       "      <td>259.0</td>\n",
       "    </tr>\n",
       "    <tr>\n",
       "      <td>dp</td>\n",
       "      <td>0.41</td>\n",
       "      <td>0.36</td>\n",
       "      <td>0.38</td>\n",
       "      <td>195.0</td>\n",
       "    </tr>\n",
       "    <tr>\n",
       "      <td>Avg/Total</td>\n",
       "      <td>0.47</td>\n",
       "      <td>0.38</td>\n",
       "      <td>0.42</td>\n",
       "      <td>1477.0</td>\n",
       "    </tr>\n",
       "  </tbody>\n",
       "</table>\n",
       "</div>"
      ],
      "text/plain": [
       "                        Precision  Recall  F1-Score  Support\n",
       "math                         0.55    0.44      0.49    261.0\n",
       "constructive algorithm       0.35    0.25      0.29    126.0\n",
       "search                       0.27    0.17      0.21    117.0\n",
       "brute force                  0.25    0.17      0.20    132.0\n",
       "geometry                     0.53    0.50      0.51     38.0\n",
       "string                       0.67    0.46      0.55     72.0\n",
       "data structures              0.57    0.54      0.56    277.0\n",
       "sortings                     0.53    0.38      0.44    259.0\n",
       "dp                           0.41    0.36      0.38    195.0\n",
       "Avg/Total                    0.47    0.38      0.42   1477.0"
      ]
     },
     "execution_count": 20,
     "metadata": {},
     "output_type": "execute_result"
    }
   ],
   "source": [
    "pipeline = Pipeline([\n",
    "                ('tfidf', TfidfVectorizer(max_df=0.5, min_df=2, ngram_range=(1, 2))),\n",
    "                ('clf', LinearSVC(C=10, class_weight='balanced'))\n",
    "            ])\n",
    "pipeline.fit(train_X, train_y_cluster_labels)\n",
    "predictions = multi_class_predict(pipeline, test_X, cluster_center) \n",
    "accuracy(test_y, predictions)"
   ]
  },
  {
   "cell_type": "markdown",
   "metadata": {},
   "source": [
    "#### TF-IDF + RandomForest Classifier"
   ]
  },
  {
   "cell_type": "code",
   "execution_count": 21,
   "metadata": {},
   "outputs": [],
   "source": [
    "train_y_cluster_labels = pd.DataFrame(columns=['Labels'], index=train_y.index)\n",
    "train_y_cluster_labels['Labels'] = train_y.groupby(list(category_columns)).ngroup()\n",
    "cluster_center = pd.DataFrame(train_y)\n",
    "cluster_center['Labels']=train_y_cluster_labels\n",
    "cluster_center = cluster_center.drop_duplicates()\n",
    "cluster_center = cluster_center.reset_index().set_index(['Labels']).sort_index().drop('index', axis=1)"
   ]
  },
  {
   "cell_type": "code",
   "execution_count": 22,
   "metadata": {},
   "outputs": [
    {
     "name": "stderr",
     "output_type": "stream",
     "text": [
      "/Users/jonghyun/anaconda3/envs/website/lib/python3.7/site-packages/sklearn/pipeline.py:356: DataConversionWarning: A column-vector y was passed when a 1d array was expected. Please change the shape of y to (n_samples,), for example using ravel().\n",
      "  self._final_estimator.fit(Xt, y, **fit_params)\n"
     ]
    },
    {
     "name": "stdout",
     "output_type": "stream",
     "text": [
      "<class 'pandas.core.series.Series'>\n"
     ]
    },
    {
     "data": {
      "text/html": [
       "<div>\n",
       "<style scoped>\n",
       "    .dataframe tbody tr th:only-of-type {\n",
       "        vertical-align: middle;\n",
       "    }\n",
       "\n",
       "    .dataframe tbody tr th {\n",
       "        vertical-align: top;\n",
       "    }\n",
       "\n",
       "    .dataframe thead th {\n",
       "        text-align: right;\n",
       "    }\n",
       "</style>\n",
       "<table border=\"1\" class=\"dataframe\">\n",
       "  <thead>\n",
       "    <tr style=\"text-align: right;\">\n",
       "      <th></th>\n",
       "      <th>Precision</th>\n",
       "      <th>Recall</th>\n",
       "      <th>F1-Score</th>\n",
       "      <th>Support</th>\n",
       "    </tr>\n",
       "  </thead>\n",
       "  <tbody>\n",
       "    <tr>\n",
       "      <td>math</td>\n",
       "      <td>0.61</td>\n",
       "      <td>0.56</td>\n",
       "      <td>0.59</td>\n",
       "      <td>261.0</td>\n",
       "    </tr>\n",
       "    <tr>\n",
       "      <td>constructive algorithm</td>\n",
       "      <td>1.00</td>\n",
       "      <td>0.01</td>\n",
       "      <td>0.02</td>\n",
       "      <td>126.0</td>\n",
       "    </tr>\n",
       "    <tr>\n",
       "      <td>search</td>\n",
       "      <td>0.33</td>\n",
       "      <td>0.01</td>\n",
       "      <td>0.02</td>\n",
       "      <td>117.0</td>\n",
       "    </tr>\n",
       "    <tr>\n",
       "      <td>brute force</td>\n",
       "      <td>0.38</td>\n",
       "      <td>0.02</td>\n",
       "      <td>0.04</td>\n",
       "      <td>132.0</td>\n",
       "    </tr>\n",
       "    <tr>\n",
       "      <td>geometry</td>\n",
       "      <td>0.82</td>\n",
       "      <td>0.24</td>\n",
       "      <td>0.37</td>\n",
       "      <td>38.0</td>\n",
       "    </tr>\n",
       "    <tr>\n",
       "      <td>string</td>\n",
       "      <td>0.79</td>\n",
       "      <td>0.53</td>\n",
       "      <td>0.63</td>\n",
       "      <td>72.0</td>\n",
       "    </tr>\n",
       "    <tr>\n",
       "      <td>data structures</td>\n",
       "      <td>0.73</td>\n",
       "      <td>0.52</td>\n",
       "      <td>0.61</td>\n",
       "      <td>277.0</td>\n",
       "    </tr>\n",
       "    <tr>\n",
       "      <td>sortings</td>\n",
       "      <td>0.56</td>\n",
       "      <td>0.15</td>\n",
       "      <td>0.24</td>\n",
       "      <td>259.0</td>\n",
       "    </tr>\n",
       "    <tr>\n",
       "      <td>dp</td>\n",
       "      <td>0.38</td>\n",
       "      <td>0.02</td>\n",
       "      <td>0.03</td>\n",
       "      <td>195.0</td>\n",
       "    </tr>\n",
       "    <tr>\n",
       "      <td>Avg/Total</td>\n",
       "      <td>0.60</td>\n",
       "      <td>0.26</td>\n",
       "      <td>0.31</td>\n",
       "      <td>1477.0</td>\n",
       "    </tr>\n",
       "  </tbody>\n",
       "</table>\n",
       "</div>"
      ],
      "text/plain": [
       "                        Precision  Recall  F1-Score  Support\n",
       "math                         0.61    0.56      0.59    261.0\n",
       "constructive algorithm       1.00    0.01      0.02    126.0\n",
       "search                       0.33    0.01      0.02    117.0\n",
       "brute force                  0.38    0.02      0.04    132.0\n",
       "geometry                     0.82    0.24      0.37     38.0\n",
       "string                       0.79    0.53      0.63     72.0\n",
       "data structures              0.73    0.52      0.61    277.0\n",
       "sortings                     0.56    0.15      0.24    259.0\n",
       "dp                           0.38    0.02      0.03    195.0\n",
       "Avg/Total                    0.60    0.26      0.31   1477.0"
      ]
     },
     "execution_count": 22,
     "metadata": {},
     "output_type": "execute_result"
    }
   ],
   "source": [
    "pipeline = Pipeline([\n",
    "                ('tfidf', TfidfVectorizer(max_df=0.5, min_df=2, ngram_range=(1, 1))),\n",
    "                ('clf', RandomForestClassifier(n_estimators=500, max_depth=70, max_features='sqrt', n_jobs=4))\n",
    "            ])\n",
    "pipeline.fit(train_X, train_y_cluster_labels)\n",
    "predictions = multi_class_predict(pipeline, test_X, cluster_center) \n",
    "accuracy(test_y, predictions)"
   ]
  },
  {
   "cell_type": "markdown",
   "metadata": {},
   "source": [
    "#### Count Veroizer + Linear SVC\n",
    "**모든조합사용**"
   ]
  },
  {
   "cell_type": "code",
   "execution_count": 23,
   "metadata": {},
   "outputs": [],
   "source": [
    "train_y_cluster_labels= train_y.groupby(list(category_columns)).ngroup()\n",
    "cluster_center = train_y.copy(deep=True) #pd.DataFrame(train_y)\n",
    "cluster_center['Labels']=train_y_cluster_labels\n",
    "cluster_center = cluster_center.drop_duplicates()\n",
    "cluster_center = cluster_center.reset_index().set_index(['Labels']).sort_index().drop('index', axis=1)"
   ]
  },
  {
   "cell_type": "code",
   "execution_count": 24,
   "metadata": {},
   "outputs": [
    {
     "name": "stdout",
     "output_type": "stream",
     "text": [
      "Fitting 2 folds for each of 16 candidates, totalling 32 fits\n",
      "[CV] clf__C=1, cvec__max_df=0.25, cvec__min_df=1, cvec__ngram_range=(1, 1) \n"
     ]
    },
    {
     "name": "stderr",
     "output_type": "stream",
     "text": [
      "/Users/jonghyun/anaconda3/envs/website/lib/python3.7/site-packages/sklearn/model_selection/_split.py:657: Warning: The least populated class in y has only 1 members, which is too few. The minimum number of members in any class cannot be less than n_splits=2.\n",
      "  % (min_groups, self.n_splits)), Warning)\n",
      "[Parallel(n_jobs=1)]: Using backend SequentialBackend with 1 concurrent workers.\n",
      "/Users/jonghyun/anaconda3/envs/website/lib/python3.7/site-packages/sklearn/svm/base.py:929: ConvergenceWarning: Liblinear failed to converge, increase the number of iterations.\n",
      "  \"the number of iterations.\", ConvergenceWarning)\n",
      "[Parallel(n_jobs=1)]: Done   1 out of   1 | elapsed:    1.1s remaining:    0.0s\n"
     ]
    },
    {
     "name": "stdout",
     "output_type": "stream",
     "text": [
      "[CV]  clf__C=1, cvec__max_df=0.25, cvec__min_df=1, cvec__ngram_range=(1, 1), score=0.359, total=   1.1s\n",
      "[CV] clf__C=1, cvec__max_df=0.25, cvec__min_df=1, cvec__ngram_range=(1, 1) \n"
     ]
    },
    {
     "name": "stderr",
     "output_type": "stream",
     "text": [
      "/Users/jonghyun/anaconda3/envs/website/lib/python3.7/site-packages/sklearn/svm/base.py:929: ConvergenceWarning: Liblinear failed to converge, increase the number of iterations.\n",
      "  \"the number of iterations.\", ConvergenceWarning)\n",
      "/Users/jonghyun/Desktop/Projects/algorithm_recommenation_with_ml_and_dl/helper_functions.py:102: RuntimeWarning: invalid value encountered in long_scalars\n",
      "  precision = tp/(tp+fp)\n",
      "/Users/jonghyun/Desktop/Projects/algorithm_recommenation_with_ml_and_dl/helper_functions.py:103: RuntimeWarning: invalid value encountered in long_scalars\n",
      "  recall = tp/(tp+fn)\n",
      "[Parallel(n_jobs=1)]: Done   2 out of   2 | elapsed:    2.5s remaining:    0.0s\n"
     ]
    },
    {
     "name": "stdout",
     "output_type": "stream",
     "text": [
      "[CV]  clf__C=1, cvec__max_df=0.25, cvec__min_df=1, cvec__ngram_range=(1, 1), score=nan, total=   1.4s\n",
      "[CV] clf__C=1, cvec__max_df=0.25, cvec__min_df=2, cvec__ngram_range=(1, 1) \n"
     ]
    },
    {
     "name": "stderr",
     "output_type": "stream",
     "text": [
      "/Users/jonghyun/anaconda3/envs/website/lib/python3.7/site-packages/sklearn/svm/base.py:929: ConvergenceWarning: Liblinear failed to converge, increase the number of iterations.\n",
      "  \"the number of iterations.\", ConvergenceWarning)\n",
      "[Parallel(n_jobs=1)]: Done   3 out of   3 | elapsed:    3.4s remaining:    0.0s\n"
     ]
    },
    {
     "name": "stdout",
     "output_type": "stream",
     "text": [
      "[CV]  clf__C=1, cvec__max_df=0.25, cvec__min_df=2, cvec__ngram_range=(1, 1), score=0.359, total=   0.9s\n",
      "[CV] clf__C=1, cvec__max_df=0.25, cvec__min_df=2, cvec__ngram_range=(1, 1) \n"
     ]
    },
    {
     "name": "stderr",
     "output_type": "stream",
     "text": [
      "/Users/jonghyun/anaconda3/envs/website/lib/python3.7/site-packages/sklearn/svm/base.py:929: ConvergenceWarning: Liblinear failed to converge, increase the number of iterations.\n",
      "  \"the number of iterations.\", ConvergenceWarning)\n",
      "/Users/jonghyun/Desktop/Projects/algorithm_recommenation_with_ml_and_dl/helper_functions.py:102: RuntimeWarning: invalid value encountered in long_scalars\n",
      "  precision = tp/(tp+fp)\n",
      "/Users/jonghyun/Desktop/Projects/algorithm_recommenation_with_ml_and_dl/helper_functions.py:103: RuntimeWarning: invalid value encountered in long_scalars\n",
      "  recall = tp/(tp+fn)\n",
      "[Parallel(n_jobs=1)]: Done   4 out of   4 | elapsed:    4.6s remaining:    0.0s\n"
     ]
    },
    {
     "name": "stdout",
     "output_type": "stream",
     "text": [
      "[CV]  clf__C=1, cvec__max_df=0.25, cvec__min_df=2, cvec__ngram_range=(1, 1), score=nan, total=   1.2s\n",
      "[CV] clf__C=1, cvec__max_df=0.5, cvec__min_df=1, cvec__ngram_range=(1, 1) \n"
     ]
    },
    {
     "name": "stderr",
     "output_type": "stream",
     "text": [
      "/Users/jonghyun/anaconda3/envs/website/lib/python3.7/site-packages/sklearn/svm/base.py:929: ConvergenceWarning: Liblinear failed to converge, increase the number of iterations.\n",
      "  \"the number of iterations.\", ConvergenceWarning)\n",
      "[Parallel(n_jobs=1)]: Done   5 out of   5 | elapsed:    5.6s remaining:    0.0s\n"
     ]
    },
    {
     "name": "stdout",
     "output_type": "stream",
     "text": [
      "[CV]  clf__C=1, cvec__max_df=0.5, cvec__min_df=1, cvec__ngram_range=(1, 1), score=0.368, total=   1.0s\n",
      "[CV] clf__C=1, cvec__max_df=0.5, cvec__min_df=1, cvec__ngram_range=(1, 1) \n"
     ]
    },
    {
     "name": "stderr",
     "output_type": "stream",
     "text": [
      "/Users/jonghyun/anaconda3/envs/website/lib/python3.7/site-packages/sklearn/svm/base.py:929: ConvergenceWarning: Liblinear failed to converge, increase the number of iterations.\n",
      "  \"the number of iterations.\", ConvergenceWarning)\n",
      "/Users/jonghyun/Desktop/Projects/algorithm_recommenation_with_ml_and_dl/helper_functions.py:102: RuntimeWarning: invalid value encountered in long_scalars\n",
      "  precision = tp/(tp+fp)\n",
      "/Users/jonghyun/Desktop/Projects/algorithm_recommenation_with_ml_and_dl/helper_functions.py:103: RuntimeWarning: invalid value encountered in long_scalars\n",
      "  recall = tp/(tp+fn)\n",
      "[Parallel(n_jobs=1)]: Done   6 out of   6 | elapsed:    6.9s remaining:    0.0s\n"
     ]
    },
    {
     "name": "stdout",
     "output_type": "stream",
     "text": [
      "[CV]  clf__C=1, cvec__max_df=0.5, cvec__min_df=1, cvec__ngram_range=(1, 1), score=nan, total=   1.3s\n",
      "[CV] clf__C=1, cvec__max_df=0.5, cvec__min_df=2, cvec__ngram_range=(1, 1) \n"
     ]
    },
    {
     "name": "stderr",
     "output_type": "stream",
     "text": [
      "/Users/jonghyun/anaconda3/envs/website/lib/python3.7/site-packages/sklearn/svm/base.py:929: ConvergenceWarning: Liblinear failed to converge, increase the number of iterations.\n",
      "  \"the number of iterations.\", ConvergenceWarning)\n",
      "[Parallel(n_jobs=1)]: Done   7 out of   7 | elapsed:    7.9s remaining:    0.0s\n"
     ]
    },
    {
     "name": "stdout",
     "output_type": "stream",
     "text": [
      "[CV]  clf__C=1, cvec__max_df=0.5, cvec__min_df=2, cvec__ngram_range=(1, 1), score=0.364, total=   1.0s\n",
      "[CV] clf__C=1, cvec__max_df=0.5, cvec__min_df=2, cvec__ngram_range=(1, 1) \n"
     ]
    },
    {
     "name": "stderr",
     "output_type": "stream",
     "text": [
      "/Users/jonghyun/anaconda3/envs/website/lib/python3.7/site-packages/sklearn/svm/base.py:929: ConvergenceWarning: Liblinear failed to converge, increase the number of iterations.\n",
      "  \"the number of iterations.\", ConvergenceWarning)\n",
      "/Users/jonghyun/Desktop/Projects/algorithm_recommenation_with_ml_and_dl/helper_functions.py:102: RuntimeWarning: invalid value encountered in long_scalars\n",
      "  precision = tp/(tp+fp)\n",
      "/Users/jonghyun/Desktop/Projects/algorithm_recommenation_with_ml_and_dl/helper_functions.py:103: RuntimeWarning: invalid value encountered in long_scalars\n",
      "  recall = tp/(tp+fn)\n",
      "[Parallel(n_jobs=1)]: Done   8 out of   8 | elapsed:    9.1s remaining:    0.0s\n"
     ]
    },
    {
     "name": "stdout",
     "output_type": "stream",
     "text": [
      "[CV]  clf__C=1, cvec__max_df=0.5, cvec__min_df=2, cvec__ngram_range=(1, 1), score=nan, total=   1.2s\n",
      "[CV] clf__C=10, cvec__max_df=0.25, cvec__min_df=1, cvec__ngram_range=(1, 1) \n"
     ]
    },
    {
     "name": "stderr",
     "output_type": "stream",
     "text": [
      "/Users/jonghyun/anaconda3/envs/website/lib/python3.7/site-packages/sklearn/svm/base.py:929: ConvergenceWarning: Liblinear failed to converge, increase the number of iterations.\n",
      "  \"the number of iterations.\", ConvergenceWarning)\n",
      "[Parallel(n_jobs=1)]: Done   9 out of   9 | elapsed:   10.2s remaining:    0.0s\n"
     ]
    },
    {
     "name": "stdout",
     "output_type": "stream",
     "text": [
      "[CV]  clf__C=10, cvec__max_df=0.25, cvec__min_df=1, cvec__ngram_range=(1, 1), score=0.355, total=   1.1s\n",
      "[CV] clf__C=10, cvec__max_df=0.25, cvec__min_df=1, cvec__ngram_range=(1, 1) \n"
     ]
    },
    {
     "name": "stderr",
     "output_type": "stream",
     "text": [
      "/Users/jonghyun/anaconda3/envs/website/lib/python3.7/site-packages/sklearn/svm/base.py:929: ConvergenceWarning: Liblinear failed to converge, increase the number of iterations.\n",
      "  \"the number of iterations.\", ConvergenceWarning)\n",
      "/Users/jonghyun/Desktop/Projects/algorithm_recommenation_with_ml_and_dl/helper_functions.py:102: RuntimeWarning: invalid value encountered in long_scalars\n",
      "  precision = tp/(tp+fp)\n",
      "/Users/jonghyun/Desktop/Projects/algorithm_recommenation_with_ml_and_dl/helper_functions.py:103: RuntimeWarning: invalid value encountered in long_scalars\n",
      "  recall = tp/(tp+fn)\n"
     ]
    },
    {
     "name": "stdout",
     "output_type": "stream",
     "text": [
      "[CV]  clf__C=10, cvec__max_df=0.25, cvec__min_df=1, cvec__ngram_range=(1, 1), score=nan, total=   1.1s\n",
      "[CV] clf__C=10, cvec__max_df=0.25, cvec__min_df=2, cvec__ngram_range=(1, 1) \n"
     ]
    },
    {
     "name": "stderr",
     "output_type": "stream",
     "text": [
      "/Users/jonghyun/anaconda3/envs/website/lib/python3.7/site-packages/sklearn/svm/base.py:929: ConvergenceWarning: Liblinear failed to converge, increase the number of iterations.\n",
      "  \"the number of iterations.\", ConvergenceWarning)\n"
     ]
    },
    {
     "name": "stdout",
     "output_type": "stream",
     "text": [
      "[CV]  clf__C=10, cvec__max_df=0.25, cvec__min_df=2, cvec__ngram_range=(1, 1), score=0.352, total=   1.0s\n",
      "[CV] clf__C=10, cvec__max_df=0.25, cvec__min_df=2, cvec__ngram_range=(1, 1) \n"
     ]
    },
    {
     "name": "stderr",
     "output_type": "stream",
     "text": [
      "/Users/jonghyun/anaconda3/envs/website/lib/python3.7/site-packages/sklearn/svm/base.py:929: ConvergenceWarning: Liblinear failed to converge, increase the number of iterations.\n",
      "  \"the number of iterations.\", ConvergenceWarning)\n",
      "/Users/jonghyun/Desktop/Projects/algorithm_recommenation_with_ml_and_dl/helper_functions.py:102: RuntimeWarning: invalid value encountered in long_scalars\n",
      "  precision = tp/(tp+fp)\n",
      "/Users/jonghyun/Desktop/Projects/algorithm_recommenation_with_ml_and_dl/helper_functions.py:103: RuntimeWarning: invalid value encountered in long_scalars\n",
      "  recall = tp/(tp+fn)\n"
     ]
    },
    {
     "name": "stdout",
     "output_type": "stream",
     "text": [
      "[CV]  clf__C=10, cvec__max_df=0.25, cvec__min_df=2, cvec__ngram_range=(1, 1), score=nan, total=   1.1s\n",
      "[CV] clf__C=10, cvec__max_df=0.5, cvec__min_df=1, cvec__ngram_range=(1, 1) \n"
     ]
    },
    {
     "name": "stderr",
     "output_type": "stream",
     "text": [
      "/Users/jonghyun/anaconda3/envs/website/lib/python3.7/site-packages/sklearn/svm/base.py:929: ConvergenceWarning: Liblinear failed to converge, increase the number of iterations.\n",
      "  \"the number of iterations.\", ConvergenceWarning)\n"
     ]
    },
    {
     "name": "stdout",
     "output_type": "stream",
     "text": [
      "[CV]  clf__C=10, cvec__max_df=0.5, cvec__min_df=1, cvec__ngram_range=(1, 1), score=0.364, total=   1.0s\n",
      "[CV] clf__C=10, cvec__max_df=0.5, cvec__min_df=1, cvec__ngram_range=(1, 1) \n"
     ]
    },
    {
     "name": "stderr",
     "output_type": "stream",
     "text": [
      "/Users/jonghyun/anaconda3/envs/website/lib/python3.7/site-packages/sklearn/svm/base.py:929: ConvergenceWarning: Liblinear failed to converge, increase the number of iterations.\n",
      "  \"the number of iterations.\", ConvergenceWarning)\n",
      "/Users/jonghyun/Desktop/Projects/algorithm_recommenation_with_ml_and_dl/helper_functions.py:102: RuntimeWarning: invalid value encountered in long_scalars\n",
      "  precision = tp/(tp+fp)\n",
      "/Users/jonghyun/Desktop/Projects/algorithm_recommenation_with_ml_and_dl/helper_functions.py:103: RuntimeWarning: invalid value encountered in long_scalars\n",
      "  recall = tp/(tp+fn)\n"
     ]
    },
    {
     "name": "stdout",
     "output_type": "stream",
     "text": [
      "[CV]  clf__C=10, cvec__max_df=0.5, cvec__min_df=1, cvec__ngram_range=(1, 1), score=nan, total=   1.1s\n",
      "[CV] clf__C=10, cvec__max_df=0.5, cvec__min_df=2, cvec__ngram_range=(1, 1) \n"
     ]
    },
    {
     "name": "stderr",
     "output_type": "stream",
     "text": [
      "/Users/jonghyun/anaconda3/envs/website/lib/python3.7/site-packages/sklearn/svm/base.py:929: ConvergenceWarning: Liblinear failed to converge, increase the number of iterations.\n",
      "  \"the number of iterations.\", ConvergenceWarning)\n"
     ]
    },
    {
     "name": "stdout",
     "output_type": "stream",
     "text": [
      "[CV]  clf__C=10, cvec__max_df=0.5, cvec__min_df=2, cvec__ngram_range=(1, 1), score=0.361, total=   1.0s\n",
      "[CV] clf__C=10, cvec__max_df=0.5, cvec__min_df=2, cvec__ngram_range=(1, 1) \n"
     ]
    },
    {
     "name": "stderr",
     "output_type": "stream",
     "text": [
      "/Users/jonghyun/anaconda3/envs/website/lib/python3.7/site-packages/sklearn/svm/base.py:929: ConvergenceWarning: Liblinear failed to converge, increase the number of iterations.\n",
      "  \"the number of iterations.\", ConvergenceWarning)\n",
      "/Users/jonghyun/Desktop/Projects/algorithm_recommenation_with_ml_and_dl/helper_functions.py:102: RuntimeWarning: invalid value encountered in long_scalars\n",
      "  precision = tp/(tp+fp)\n",
      "/Users/jonghyun/Desktop/Projects/algorithm_recommenation_with_ml_and_dl/helper_functions.py:103: RuntimeWarning: invalid value encountered in long_scalars\n",
      "  recall = tp/(tp+fn)\n"
     ]
    },
    {
     "name": "stdout",
     "output_type": "stream",
     "text": [
      "[CV]  clf__C=10, cvec__max_df=0.5, cvec__min_df=2, cvec__ngram_range=(1, 1), score=nan, total=   1.1s\n",
      "[CV] clf__C=50, cvec__max_df=0.25, cvec__min_df=1, cvec__ngram_range=(1, 1) \n"
     ]
    },
    {
     "name": "stderr",
     "output_type": "stream",
     "text": [
      "/Users/jonghyun/anaconda3/envs/website/lib/python3.7/site-packages/sklearn/svm/base.py:929: ConvergenceWarning: Liblinear failed to converge, increase the number of iterations.\n",
      "  \"the number of iterations.\", ConvergenceWarning)\n"
     ]
    },
    {
     "name": "stdout",
     "output_type": "stream",
     "text": [
      "[CV]  clf__C=50, cvec__max_df=0.25, cvec__min_df=1, cvec__ngram_range=(1, 1), score=0.350, total=   1.0s\n",
      "[CV] clf__C=50, cvec__max_df=0.25, cvec__min_df=1, cvec__ngram_range=(1, 1) \n"
     ]
    },
    {
     "name": "stderr",
     "output_type": "stream",
     "text": [
      "/Users/jonghyun/anaconda3/envs/website/lib/python3.7/site-packages/sklearn/svm/base.py:929: ConvergenceWarning: Liblinear failed to converge, increase the number of iterations.\n",
      "  \"the number of iterations.\", ConvergenceWarning)\n",
      "/Users/jonghyun/Desktop/Projects/algorithm_recommenation_with_ml_and_dl/helper_functions.py:102: RuntimeWarning: invalid value encountered in long_scalars\n",
      "  precision = tp/(tp+fp)\n",
      "/Users/jonghyun/Desktop/Projects/algorithm_recommenation_with_ml_and_dl/helper_functions.py:103: RuntimeWarning: invalid value encountered in long_scalars\n",
      "  recall = tp/(tp+fn)\n"
     ]
    },
    {
     "name": "stdout",
     "output_type": "stream",
     "text": [
      "[CV]  clf__C=50, cvec__max_df=0.25, cvec__min_df=1, cvec__ngram_range=(1, 1), score=nan, total=   1.0s\n",
      "[CV] clf__C=50, cvec__max_df=0.25, cvec__min_df=2, cvec__ngram_range=(1, 1) \n"
     ]
    },
    {
     "name": "stderr",
     "output_type": "stream",
     "text": [
      "/Users/jonghyun/anaconda3/envs/website/lib/python3.7/site-packages/sklearn/svm/base.py:929: ConvergenceWarning: Liblinear failed to converge, increase the number of iterations.\n",
      "  \"the number of iterations.\", ConvergenceWarning)\n"
     ]
    },
    {
     "name": "stdout",
     "output_type": "stream",
     "text": [
      "[CV]  clf__C=50, cvec__max_df=0.25, cvec__min_df=2, cvec__ngram_range=(1, 1), score=0.349, total=   0.9s\n",
      "[CV] clf__C=50, cvec__max_df=0.25, cvec__min_df=2, cvec__ngram_range=(1, 1) \n"
     ]
    },
    {
     "name": "stderr",
     "output_type": "stream",
     "text": [
      "/Users/jonghyun/anaconda3/envs/website/lib/python3.7/site-packages/sklearn/svm/base.py:929: ConvergenceWarning: Liblinear failed to converge, increase the number of iterations.\n",
      "  \"the number of iterations.\", ConvergenceWarning)\n",
      "/Users/jonghyun/Desktop/Projects/algorithm_recommenation_with_ml_and_dl/helper_functions.py:102: RuntimeWarning: invalid value encountered in long_scalars\n",
      "  precision = tp/(tp+fp)\n",
      "/Users/jonghyun/Desktop/Projects/algorithm_recommenation_with_ml_and_dl/helper_functions.py:103: RuntimeWarning: invalid value encountered in long_scalars\n",
      "  recall = tp/(tp+fn)\n"
     ]
    },
    {
     "name": "stdout",
     "output_type": "stream",
     "text": [
      "[CV]  clf__C=50, cvec__max_df=0.25, cvec__min_df=2, cvec__ngram_range=(1, 1), score=nan, total=   1.0s\n",
      "[CV] clf__C=50, cvec__max_df=0.5, cvec__min_df=1, cvec__ngram_range=(1, 1) \n"
     ]
    },
    {
     "name": "stderr",
     "output_type": "stream",
     "text": [
      "/Users/jonghyun/anaconda3/envs/website/lib/python3.7/site-packages/sklearn/svm/base.py:929: ConvergenceWarning: Liblinear failed to converge, increase the number of iterations.\n",
      "  \"the number of iterations.\", ConvergenceWarning)\n"
     ]
    },
    {
     "name": "stdout",
     "output_type": "stream",
     "text": [
      "[CV]  clf__C=50, cvec__max_df=0.5, cvec__min_df=1, cvec__ngram_range=(1, 1), score=0.362, total=   1.0s\n",
      "[CV] clf__C=50, cvec__max_df=0.5, cvec__min_df=1, cvec__ngram_range=(1, 1) \n"
     ]
    },
    {
     "name": "stderr",
     "output_type": "stream",
     "text": [
      "/Users/jonghyun/anaconda3/envs/website/lib/python3.7/site-packages/sklearn/svm/base.py:929: ConvergenceWarning: Liblinear failed to converge, increase the number of iterations.\n",
      "  \"the number of iterations.\", ConvergenceWarning)\n",
      "/Users/jonghyun/Desktop/Projects/algorithm_recommenation_with_ml_and_dl/helper_functions.py:102: RuntimeWarning: invalid value encountered in long_scalars\n",
      "  precision = tp/(tp+fp)\n",
      "/Users/jonghyun/Desktop/Projects/algorithm_recommenation_with_ml_and_dl/helper_functions.py:103: RuntimeWarning: invalid value encountered in long_scalars\n",
      "  recall = tp/(tp+fn)\n"
     ]
    },
    {
     "name": "stdout",
     "output_type": "stream",
     "text": [
      "[CV]  clf__C=50, cvec__max_df=0.5, cvec__min_df=1, cvec__ngram_range=(1, 1), score=nan, total=   1.1s\n",
      "[CV] clf__C=50, cvec__max_df=0.5, cvec__min_df=2, cvec__ngram_range=(1, 1) \n"
     ]
    },
    {
     "name": "stderr",
     "output_type": "stream",
     "text": [
      "/Users/jonghyun/anaconda3/envs/website/lib/python3.7/site-packages/sklearn/svm/base.py:929: ConvergenceWarning: Liblinear failed to converge, increase the number of iterations.\n",
      "  \"the number of iterations.\", ConvergenceWarning)\n"
     ]
    },
    {
     "name": "stdout",
     "output_type": "stream",
     "text": [
      "[CV]  clf__C=50, cvec__max_df=0.5, cvec__min_df=2, cvec__ngram_range=(1, 1), score=0.361, total=   0.9s\n",
      "[CV] clf__C=50, cvec__max_df=0.5, cvec__min_df=2, cvec__ngram_range=(1, 1) \n"
     ]
    },
    {
     "name": "stderr",
     "output_type": "stream",
     "text": [
      "/Users/jonghyun/anaconda3/envs/website/lib/python3.7/site-packages/sklearn/svm/base.py:929: ConvergenceWarning: Liblinear failed to converge, increase the number of iterations.\n",
      "  \"the number of iterations.\", ConvergenceWarning)\n",
      "/Users/jonghyun/Desktop/Projects/algorithm_recommenation_with_ml_and_dl/helper_functions.py:102: RuntimeWarning: invalid value encountered in long_scalars\n",
      "  precision = tp/(tp+fp)\n",
      "/Users/jonghyun/Desktop/Projects/algorithm_recommenation_with_ml_and_dl/helper_functions.py:103: RuntimeWarning: invalid value encountered in long_scalars\n",
      "  recall = tp/(tp+fn)\n"
     ]
    },
    {
     "name": "stdout",
     "output_type": "stream",
     "text": [
      "[CV]  clf__C=50, cvec__max_df=0.5, cvec__min_df=2, cvec__ngram_range=(1, 1), score=nan, total=   1.1s\n",
      "[CV] clf__C=100, cvec__max_df=0.25, cvec__min_df=1, cvec__ngram_range=(1, 1) \n"
     ]
    },
    {
     "name": "stderr",
     "output_type": "stream",
     "text": [
      "/Users/jonghyun/anaconda3/envs/website/lib/python3.7/site-packages/sklearn/svm/base.py:929: ConvergenceWarning: Liblinear failed to converge, increase the number of iterations.\n",
      "  \"the number of iterations.\", ConvergenceWarning)\n"
     ]
    },
    {
     "name": "stdout",
     "output_type": "stream",
     "text": [
      "[CV]  clf__C=100, cvec__max_df=0.25, cvec__min_df=1, cvec__ngram_range=(1, 1), score=0.354, total=   1.0s\n",
      "[CV] clf__C=100, cvec__max_df=0.25, cvec__min_df=1, cvec__ngram_range=(1, 1) \n"
     ]
    },
    {
     "name": "stderr",
     "output_type": "stream",
     "text": [
      "/Users/jonghyun/anaconda3/envs/website/lib/python3.7/site-packages/sklearn/svm/base.py:929: ConvergenceWarning: Liblinear failed to converge, increase the number of iterations.\n",
      "  \"the number of iterations.\", ConvergenceWarning)\n",
      "/Users/jonghyun/Desktop/Projects/algorithm_recommenation_with_ml_and_dl/helper_functions.py:102: RuntimeWarning: invalid value encountered in long_scalars\n",
      "  precision = tp/(tp+fp)\n",
      "/Users/jonghyun/Desktop/Projects/algorithm_recommenation_with_ml_and_dl/helper_functions.py:103: RuntimeWarning: invalid value encountered in long_scalars\n",
      "  recall = tp/(tp+fn)\n"
     ]
    },
    {
     "name": "stdout",
     "output_type": "stream",
     "text": [
      "[CV]  clf__C=100, cvec__max_df=0.25, cvec__min_df=1, cvec__ngram_range=(1, 1), score=nan, total=   1.1s\n",
      "[CV] clf__C=100, cvec__max_df=0.25, cvec__min_df=2, cvec__ngram_range=(1, 1) \n"
     ]
    },
    {
     "name": "stderr",
     "output_type": "stream",
     "text": [
      "/Users/jonghyun/anaconda3/envs/website/lib/python3.7/site-packages/sklearn/svm/base.py:929: ConvergenceWarning: Liblinear failed to converge, increase the number of iterations.\n",
      "  \"the number of iterations.\", ConvergenceWarning)\n"
     ]
    },
    {
     "name": "stdout",
     "output_type": "stream",
     "text": [
      "[CV]  clf__C=100, cvec__max_df=0.25, cvec__min_df=2, cvec__ngram_range=(1, 1), score=0.350, total=   0.9s\n",
      "[CV] clf__C=100, cvec__max_df=0.25, cvec__min_df=2, cvec__ngram_range=(1, 1) \n"
     ]
    },
    {
     "name": "stderr",
     "output_type": "stream",
     "text": [
      "/Users/jonghyun/anaconda3/envs/website/lib/python3.7/site-packages/sklearn/svm/base.py:929: ConvergenceWarning: Liblinear failed to converge, increase the number of iterations.\n",
      "  \"the number of iterations.\", ConvergenceWarning)\n",
      "/Users/jonghyun/Desktop/Projects/algorithm_recommenation_with_ml_and_dl/helper_functions.py:102: RuntimeWarning: invalid value encountered in long_scalars\n",
      "  precision = tp/(tp+fp)\n",
      "/Users/jonghyun/Desktop/Projects/algorithm_recommenation_with_ml_and_dl/helper_functions.py:103: RuntimeWarning: invalid value encountered in long_scalars\n",
      "  recall = tp/(tp+fn)\n"
     ]
    },
    {
     "name": "stdout",
     "output_type": "stream",
     "text": [
      "[CV]  clf__C=100, cvec__max_df=0.25, cvec__min_df=2, cvec__ngram_range=(1, 1), score=nan, total=   1.0s\n",
      "[CV] clf__C=100, cvec__max_df=0.5, cvec__min_df=1, cvec__ngram_range=(1, 1) \n"
     ]
    },
    {
     "name": "stderr",
     "output_type": "stream",
     "text": [
      "/Users/jonghyun/anaconda3/envs/website/lib/python3.7/site-packages/sklearn/svm/base.py:929: ConvergenceWarning: Liblinear failed to converge, increase the number of iterations.\n",
      "  \"the number of iterations.\", ConvergenceWarning)\n"
     ]
    },
    {
     "name": "stdout",
     "output_type": "stream",
     "text": [
      "[CV]  clf__C=100, cvec__max_df=0.5, cvec__min_df=1, cvec__ngram_range=(1, 1), score=0.359, total=   1.0s\n",
      "[CV] clf__C=100, cvec__max_df=0.5, cvec__min_df=1, cvec__ngram_range=(1, 1) \n"
     ]
    },
    {
     "name": "stderr",
     "output_type": "stream",
     "text": [
      "/Users/jonghyun/anaconda3/envs/website/lib/python3.7/site-packages/sklearn/svm/base.py:929: ConvergenceWarning: Liblinear failed to converge, increase the number of iterations.\n",
      "  \"the number of iterations.\", ConvergenceWarning)\n",
      "/Users/jonghyun/Desktop/Projects/algorithm_recommenation_with_ml_and_dl/helper_functions.py:102: RuntimeWarning: invalid value encountered in long_scalars\n",
      "  precision = tp/(tp+fp)\n",
      "/Users/jonghyun/Desktop/Projects/algorithm_recommenation_with_ml_and_dl/helper_functions.py:103: RuntimeWarning: invalid value encountered in long_scalars\n",
      "  recall = tp/(tp+fn)\n"
     ]
    },
    {
     "name": "stdout",
     "output_type": "stream",
     "text": [
      "[CV]  clf__C=100, cvec__max_df=0.5, cvec__min_df=1, cvec__ngram_range=(1, 1), score=nan, total=   1.0s\n",
      "[CV] clf__C=100, cvec__max_df=0.5, cvec__min_df=2, cvec__ngram_range=(1, 1) \n"
     ]
    },
    {
     "name": "stderr",
     "output_type": "stream",
     "text": [
      "/Users/jonghyun/anaconda3/envs/website/lib/python3.7/site-packages/sklearn/svm/base.py:929: ConvergenceWarning: Liblinear failed to converge, increase the number of iterations.\n",
      "  \"the number of iterations.\", ConvergenceWarning)\n"
     ]
    },
    {
     "name": "stdout",
     "output_type": "stream",
     "text": [
      "[CV]  clf__C=100, cvec__max_df=0.5, cvec__min_df=2, cvec__ngram_range=(1, 1), score=0.360, total=   0.9s\n",
      "[CV] clf__C=100, cvec__max_df=0.5, cvec__min_df=2, cvec__ngram_range=(1, 1) \n"
     ]
    },
    {
     "name": "stderr",
     "output_type": "stream",
     "text": [
      "/Users/jonghyun/anaconda3/envs/website/lib/python3.7/site-packages/sklearn/svm/base.py:929: ConvergenceWarning: Liblinear failed to converge, increase the number of iterations.\n",
      "  \"the number of iterations.\", ConvergenceWarning)\n",
      "/Users/jonghyun/Desktop/Projects/algorithm_recommenation_with_ml_and_dl/helper_functions.py:102: RuntimeWarning: invalid value encountered in long_scalars\n",
      "  precision = tp/(tp+fp)\n",
      "/Users/jonghyun/Desktop/Projects/algorithm_recommenation_with_ml_and_dl/helper_functions.py:103: RuntimeWarning: invalid value encountered in long_scalars\n",
      "  recall = tp/(tp+fn)\n",
      "[Parallel(n_jobs=1)]: Done  32 out of  32 | elapsed:   33.5s finished\n",
      "/Users/jonghyun/anaconda3/envs/website/lib/python3.7/site-packages/sklearn/model_selection/_search.py:814: DeprecationWarning: The default of the `iid` parameter will change from True to False in version 0.22 and will be removed in 0.24. This will change numeric results when test-set sizes are unequal.\n",
      "  DeprecationWarning)\n"
     ]
    },
    {
     "name": "stdout",
     "output_type": "stream",
     "text": [
      "[CV]  clf__C=100, cvec__max_df=0.5, cvec__min_df=2, cvec__ngram_range=(1, 1), score=nan, total=   1.0s\n",
      "\n",
      "Best parameters set:\n",
      "[('cvec', CountVectorizer(analyzer='word', binary=False, decode_error='strict',\n",
      "                dtype=<class 'numpy.int64'>, encoding='utf-8', input='content',\n",
      "                lowercase=True, max_df=0.25, max_features=None, min_df=1,\n",
      "                ngram_range=(1, 1), preprocessor=None, stop_words=None,\n",
      "                strip_accents=None, token_pattern='(?u)\\\\b\\\\w\\\\w+\\\\b',\n",
      "                tokenizer=None, vocabulary=None)), ('clf', LinearSVC(C=1, class_weight='balanced', dual=True, fit_intercept=True,\n",
      "          intercept_scaling=1, loss='squared_hinge', max_iter=1000,\n",
      "          multi_class='ovr', penalty='l2', random_state=None, tol=0.0001,\n",
      "          verbose=0))]\n",
      "\n",
      "Applying best classifier on test data:\n",
      "<class 'pandas.core.series.Series'>\n"
     ]
    },
    {
     "name": "stderr",
     "output_type": "stream",
     "text": [
      "/Users/jonghyun/anaconda3/envs/website/lib/python3.7/site-packages/sklearn/svm/base.py:929: ConvergenceWarning: Liblinear failed to converge, increase the number of iterations.\n",
      "  \"the number of iterations.\", ConvergenceWarning)\n"
     ]
    },
    {
     "data": {
      "text/html": [
       "<div>\n",
       "<style scoped>\n",
       "    .dataframe tbody tr th:only-of-type {\n",
       "        vertical-align: middle;\n",
       "    }\n",
       "\n",
       "    .dataframe tbody tr th {\n",
       "        vertical-align: top;\n",
       "    }\n",
       "\n",
       "    .dataframe thead th {\n",
       "        text-align: right;\n",
       "    }\n",
       "</style>\n",
       "<table border=\"1\" class=\"dataframe\">\n",
       "  <thead>\n",
       "    <tr style=\"text-align: right;\">\n",
       "      <th></th>\n",
       "      <th>Precision</th>\n",
       "      <th>Recall</th>\n",
       "      <th>F1-Score</th>\n",
       "      <th>Support</th>\n",
       "    </tr>\n",
       "  </thead>\n",
       "  <tbody>\n",
       "    <tr>\n",
       "      <td>math</td>\n",
       "      <td>0.50</td>\n",
       "      <td>0.50</td>\n",
       "      <td>0.50</td>\n",
       "      <td>261.0</td>\n",
       "    </tr>\n",
       "    <tr>\n",
       "      <td>constructive algorithm</td>\n",
       "      <td>0.32</td>\n",
       "      <td>0.22</td>\n",
       "      <td>0.26</td>\n",
       "      <td>126.0</td>\n",
       "    </tr>\n",
       "    <tr>\n",
       "      <td>search</td>\n",
       "      <td>0.25</td>\n",
       "      <td>0.13</td>\n",
       "      <td>0.17</td>\n",
       "      <td>117.0</td>\n",
       "    </tr>\n",
       "    <tr>\n",
       "      <td>brute force</td>\n",
       "      <td>0.28</td>\n",
       "      <td>0.20</td>\n",
       "      <td>0.23</td>\n",
       "      <td>132.0</td>\n",
       "    </tr>\n",
       "    <tr>\n",
       "      <td>geometry</td>\n",
       "      <td>0.56</td>\n",
       "      <td>0.47</td>\n",
       "      <td>0.51</td>\n",
       "      <td>38.0</td>\n",
       "    </tr>\n",
       "    <tr>\n",
       "      <td>string</td>\n",
       "      <td>0.66</td>\n",
       "      <td>0.43</td>\n",
       "      <td>0.52</td>\n",
       "      <td>72.0</td>\n",
       "    </tr>\n",
       "    <tr>\n",
       "      <td>data structures</td>\n",
       "      <td>0.55</td>\n",
       "      <td>0.52</td>\n",
       "      <td>0.53</td>\n",
       "      <td>277.0</td>\n",
       "    </tr>\n",
       "    <tr>\n",
       "      <td>sortings</td>\n",
       "      <td>0.48</td>\n",
       "      <td>0.39</td>\n",
       "      <td>0.43</td>\n",
       "      <td>259.0</td>\n",
       "    </tr>\n",
       "    <tr>\n",
       "      <td>dp</td>\n",
       "      <td>0.39</td>\n",
       "      <td>0.30</td>\n",
       "      <td>0.34</td>\n",
       "      <td>195.0</td>\n",
       "    </tr>\n",
       "    <tr>\n",
       "      <td>Avg/Total</td>\n",
       "      <td>0.45</td>\n",
       "      <td>0.37</td>\n",
       "      <td>0.40</td>\n",
       "      <td>1477.0</td>\n",
       "    </tr>\n",
       "  </tbody>\n",
       "</table>\n",
       "</div>"
      ],
      "text/plain": [
       "                        Precision  Recall  F1-Score  Support\n",
       "math                         0.50    0.50      0.50    261.0\n",
       "constructive algorithm       0.32    0.22      0.26    126.0\n",
       "search                       0.25    0.13      0.17    117.0\n",
       "brute force                  0.28    0.20      0.23    132.0\n",
       "geometry                     0.56    0.47      0.51     38.0\n",
       "string                       0.66    0.43      0.52     72.0\n",
       "data structures              0.55    0.52      0.53    277.0\n",
       "sortings                     0.48    0.39      0.43    259.0\n",
       "dp                           0.39    0.30      0.34    195.0\n",
       "Avg/Total                    0.45    0.37      0.40   1477.0"
      ]
     },
     "execution_count": 24,
     "metadata": {},
     "output_type": "execute_result"
    }
   ],
   "source": [
    "\n",
    "pipeline = Pipeline([\n",
    "                ('cvec', CountVectorizer()),\n",
    "                ('clf', LinearSVC(class_weight='balanced'))\n",
    "            ])\n",
    "# sorted(pipeline.get_params().keys()) # -- to obtain the GridSearchCV parameter names\n",
    "parameters = {\n",
    "                'cvec__max_df': [0.25, 0.5],\n",
    "                'cvec__ngram_range': [(1, 1)],\n",
    "                'cvec__min_df': [1, 2],\n",
    "                'clf__C': [1, 10, 50, 100]\n",
    "            }\n",
    "overall_f1_score_v2_cv = make_scorer(overall_f1_score_v2, greater_is_better=True, class_to_genre_map = cluster_center)\n",
    "grid_search_cv = GridSearchCV(pipeline, parameters, cv=2, verbose=10, scoring=overall_f1_score_v2_cv)\n",
    "grid_search_cv.fit(train_X, train_y_cluster_labels)\n",
    "\n",
    "print()\n",
    "print(\"Best parameters set:\")\n",
    "print (grid_search_cv.best_estimator_.steps)\n",
    "print()\n",
    "\n",
    "# measuring performance on test set\n",
    "print (\"Applying best classifier on test data:\")\n",
    "best_clf = grid_search_cv.best_estimator_\n",
    "predictions = multi_class_predict(best_clf, test_X, cluster_center) \n",
    "accuracy(test_y, predictions)"
   ]
  },
  {
   "cell_type": "markdown",
   "metadata": {},
   "source": [
    "**클러스터사용**"
   ]
  },
  {
   "cell_type": "code",
   "execution_count": 25,
   "metadata": {},
   "outputs": [
    {
     "name": "stdout",
     "output_type": "stream",
     "text": [
      "<class 'pandas.core.series.Series'>\n"
     ]
    },
    {
     "name": "stderr",
     "output_type": "stream",
     "text": [
      "/Users/jonghyun/anaconda3/envs/website/lib/python3.7/site-packages/sklearn/svm/base.py:929: ConvergenceWarning: Liblinear failed to converge, increase the number of iterations.\n",
      "  \"the number of iterations.\", ConvergenceWarning)\n"
     ]
    },
    {
     "data": {
      "text/html": [
       "<div>\n",
       "<style scoped>\n",
       "    .dataframe tbody tr th:only-of-type {\n",
       "        vertical-align: middle;\n",
       "    }\n",
       "\n",
       "    .dataframe tbody tr th {\n",
       "        vertical-align: top;\n",
       "    }\n",
       "\n",
       "    .dataframe thead th {\n",
       "        text-align: right;\n",
       "    }\n",
       "</style>\n",
       "<table border=\"1\" class=\"dataframe\">\n",
       "  <thead>\n",
       "    <tr style=\"text-align: right;\">\n",
       "      <th></th>\n",
       "      <th>Precision</th>\n",
       "      <th>Recall</th>\n",
       "      <th>F1-Score</th>\n",
       "      <th>Support</th>\n",
       "    </tr>\n",
       "  </thead>\n",
       "  <tbody>\n",
       "    <tr>\n",
       "      <td>math</td>\n",
       "      <td>0.48</td>\n",
       "      <td>0.49</td>\n",
       "      <td>0.48</td>\n",
       "      <td>261.0</td>\n",
       "    </tr>\n",
       "    <tr>\n",
       "      <td>constructive algorithm</td>\n",
       "      <td>0.33</td>\n",
       "      <td>0.21</td>\n",
       "      <td>0.25</td>\n",
       "      <td>126.0</td>\n",
       "    </tr>\n",
       "    <tr>\n",
       "      <td>search</td>\n",
       "      <td>0.15</td>\n",
       "      <td>0.08</td>\n",
       "      <td>0.10</td>\n",
       "      <td>117.0</td>\n",
       "    </tr>\n",
       "    <tr>\n",
       "      <td>brute force</td>\n",
       "      <td>0.28</td>\n",
       "      <td>0.17</td>\n",
       "      <td>0.21</td>\n",
       "      <td>132.0</td>\n",
       "    </tr>\n",
       "    <tr>\n",
       "      <td>geometry</td>\n",
       "      <td>0.52</td>\n",
       "      <td>0.34</td>\n",
       "      <td>0.41</td>\n",
       "      <td>38.0</td>\n",
       "    </tr>\n",
       "    <tr>\n",
       "      <td>string</td>\n",
       "      <td>0.62</td>\n",
       "      <td>0.43</td>\n",
       "      <td>0.51</td>\n",
       "      <td>72.0</td>\n",
       "    </tr>\n",
       "    <tr>\n",
       "      <td>data structures</td>\n",
       "      <td>0.58</td>\n",
       "      <td>0.55</td>\n",
       "      <td>0.56</td>\n",
       "      <td>277.0</td>\n",
       "    </tr>\n",
       "    <tr>\n",
       "      <td>sortings</td>\n",
       "      <td>0.49</td>\n",
       "      <td>0.38</td>\n",
       "      <td>0.43</td>\n",
       "      <td>259.0</td>\n",
       "    </tr>\n",
       "    <tr>\n",
       "      <td>dp</td>\n",
       "      <td>0.38</td>\n",
       "      <td>0.28</td>\n",
       "      <td>0.32</td>\n",
       "      <td>195.0</td>\n",
       "    </tr>\n",
       "    <tr>\n",
       "      <td>Avg/Total</td>\n",
       "      <td>0.44</td>\n",
       "      <td>0.36</td>\n",
       "      <td>0.39</td>\n",
       "      <td>1477.0</td>\n",
       "    </tr>\n",
       "  </tbody>\n",
       "</table>\n",
       "</div>"
      ],
      "text/plain": [
       "                        Precision  Recall  F1-Score  Support\n",
       "math                         0.48    0.49      0.48    261.0\n",
       "constructive algorithm       0.33    0.21      0.25    126.0\n",
       "search                       0.15    0.08      0.10    117.0\n",
       "brute force                  0.28    0.17      0.21    132.0\n",
       "geometry                     0.52    0.34      0.41     38.0\n",
       "string                       0.62    0.43      0.51     72.0\n",
       "data structures              0.58    0.55      0.56    277.0\n",
       "sortings                     0.49    0.38      0.43    259.0\n",
       "dp                           0.38    0.28      0.32    195.0\n",
       "Avg/Total                    0.44    0.36      0.39   1477.0"
      ]
     },
     "execution_count": 25,
     "metadata": {},
     "output_type": "execute_result"
    }
   ],
   "source": [
    "\n",
    "pipeline = Pipeline([\n",
    "                ('cvec', CountVectorizer(max_df=0.75, min_df=1, ngram_range=(1, 1))),\n",
    "                ('clf', LinearSVC(C=1, class_weight='balanced'))\n",
    "            ])\n",
    "pipeline.fit(train_X, train_y_cluster_labels)\n",
    "predictions = multi_class_predict(pipeline, test_X, cluster_center) \n",
    "accuracy(test_y, predictions)"
   ]
  },
  {
   "cell_type": "markdown",
   "metadata": {},
   "source": [
    "#### TF-IDF + Naive Bayes\n",
    "**모든조합사용**"
   ]
  },
  {
   "cell_type": "code",
   "execution_count": 26,
   "metadata": {},
   "outputs": [],
   "source": [
    "train_y_cluster_labels= train_y.groupby(list(category_columns)).ngroup()\n",
    "cluster_center = train_y.copy(deep=True) #pd.DataFrame(train_y)\n",
    "cluster_center['Labels']=train_y_cluster_labels\n",
    "cluster_center = cluster_center.drop_duplicates()\n",
    "cluster_center = cluster_center.reset_index().set_index(['Labels']).sort_index().drop('index', axis=1)"
   ]
  },
  {
   "cell_type": "code",
   "execution_count": 27,
   "metadata": {},
   "outputs": [
    {
     "name": "stderr",
     "output_type": "stream",
     "text": [
      "/Users/jonghyun/anaconda3/envs/website/lib/python3.7/site-packages/sklearn/model_selection/_split.py:657: Warning: The least populated class in y has only 1 members, which is too few. The minimum number of members in any class cannot be less than n_splits=2.\n",
      "  % (min_groups, self.n_splits)), Warning)\n",
      "/Users/jonghyun/Desktop/Projects/algorithm_recommenation_with_ml_and_dl/helper_functions.py:102: RuntimeWarning: invalid value encountered in long_scalars\n",
      "  precision = tp/(tp+fp)\n",
      "/Users/jonghyun/Desktop/Projects/algorithm_recommenation_with_ml_and_dl/helper_functions.py:103: RuntimeWarning: invalid value encountered in long_scalars\n",
      "  recall = tp/(tp+fn)\n",
      "/Users/jonghyun/Desktop/Projects/algorithm_recommenation_with_ml_and_dl/helper_functions.py:102: RuntimeWarning: invalid value encountered in long_scalars\n",
      "  precision = tp/(tp+fp)\n",
      "/Users/jonghyun/Desktop/Projects/algorithm_recommenation_with_ml_and_dl/helper_functions.py:103: RuntimeWarning: invalid value encountered in long_scalars\n",
      "  recall = tp/(tp+fn)\n",
      "/Users/jonghyun/Desktop/Projects/algorithm_recommenation_with_ml_and_dl/helper_functions.py:102: RuntimeWarning: invalid value encountered in long_scalars\n",
      "  precision = tp/(tp+fp)\n",
      "/Users/jonghyun/Desktop/Projects/algorithm_recommenation_with_ml_and_dl/helper_functions.py:103: RuntimeWarning: invalid value encountered in long_scalars\n",
      "  recall = tp/(tp+fn)\n",
      "/Users/jonghyun/Desktop/Projects/algorithm_recommenation_with_ml_and_dl/helper_functions.py:102: RuntimeWarning: invalid value encountered in long_scalars\n",
      "  precision = tp/(tp+fp)\n",
      "/Users/jonghyun/Desktop/Projects/algorithm_recommenation_with_ml_and_dl/helper_functions.py:103: RuntimeWarning: invalid value encountered in long_scalars\n",
      "  recall = tp/(tp+fn)\n",
      "/Users/jonghyun/Desktop/Projects/algorithm_recommenation_with_ml_and_dl/helper_functions.py:102: RuntimeWarning: invalid value encountered in long_scalars\n",
      "  precision = tp/(tp+fp)\n",
      "/Users/jonghyun/Desktop/Projects/algorithm_recommenation_with_ml_and_dl/helper_functions.py:103: RuntimeWarning: invalid value encountered in long_scalars\n",
      "  recall = tp/(tp+fn)\n",
      "/Users/jonghyun/Desktop/Projects/algorithm_recommenation_with_ml_and_dl/helper_functions.py:102: RuntimeWarning: invalid value encountered in long_scalars\n",
      "  precision = tp/(tp+fp)\n",
      "/Users/jonghyun/Desktop/Projects/algorithm_recommenation_with_ml_and_dl/helper_functions.py:103: RuntimeWarning: invalid value encountered in long_scalars\n",
      "  recall = tp/(tp+fn)\n",
      "/Users/jonghyun/Desktop/Projects/algorithm_recommenation_with_ml_and_dl/helper_functions.py:102: RuntimeWarning: invalid value encountered in long_scalars\n",
      "  precision = tp/(tp+fp)\n",
      "/Users/jonghyun/Desktop/Projects/algorithm_recommenation_with_ml_and_dl/helper_functions.py:103: RuntimeWarning: invalid value encountered in long_scalars\n",
      "  recall = tp/(tp+fn)\n",
      "/Users/jonghyun/Desktop/Projects/algorithm_recommenation_with_ml_and_dl/helper_functions.py:102: RuntimeWarning: invalid value encountered in long_scalars\n",
      "  precision = tp/(tp+fp)\n",
      "/Users/jonghyun/Desktop/Projects/algorithm_recommenation_with_ml_and_dl/helper_functions.py:103: RuntimeWarning: invalid value encountered in long_scalars\n",
      "  recall = tp/(tp+fn)\n",
      "/Users/jonghyun/Desktop/Projects/algorithm_recommenation_with_ml_and_dl/helper_functions.py:102: RuntimeWarning: invalid value encountered in long_scalars\n",
      "  precision = tp/(tp+fp)\n",
      "/Users/jonghyun/Desktop/Projects/algorithm_recommenation_with_ml_and_dl/helper_functions.py:103: RuntimeWarning: invalid value encountered in long_scalars\n",
      "  recall = tp/(tp+fn)\n",
      "/Users/jonghyun/Desktop/Projects/algorithm_recommenation_with_ml_and_dl/helper_functions.py:102: RuntimeWarning: invalid value encountered in long_scalars\n",
      "  precision = tp/(tp+fp)\n",
      "/Users/jonghyun/Desktop/Projects/algorithm_recommenation_with_ml_and_dl/helper_functions.py:103: RuntimeWarning: invalid value encountered in long_scalars\n",
      "  recall = tp/(tp+fn)\n",
      "/Users/jonghyun/Desktop/Projects/algorithm_recommenation_with_ml_and_dl/helper_functions.py:102: RuntimeWarning: invalid value encountered in long_scalars\n",
      "  precision = tp/(tp+fp)\n",
      "/Users/jonghyun/Desktop/Projects/algorithm_recommenation_with_ml_and_dl/helper_functions.py:103: RuntimeWarning: invalid value encountered in long_scalars\n",
      "  recall = tp/(tp+fn)\n",
      "/Users/jonghyun/Desktop/Projects/algorithm_recommenation_with_ml_and_dl/helper_functions.py:102: RuntimeWarning: invalid value encountered in long_scalars\n",
      "  precision = tp/(tp+fp)\n",
      "/Users/jonghyun/Desktop/Projects/algorithm_recommenation_with_ml_and_dl/helper_functions.py:103: RuntimeWarning: invalid value encountered in long_scalars\n",
      "  recall = tp/(tp+fn)\n",
      "/Users/jonghyun/Desktop/Projects/algorithm_recommenation_with_ml_and_dl/helper_functions.py:102: RuntimeWarning: invalid value encountered in long_scalars\n",
      "  precision = tp/(tp+fp)\n",
      "/Users/jonghyun/Desktop/Projects/algorithm_recommenation_with_ml_and_dl/helper_functions.py:103: RuntimeWarning: invalid value encountered in long_scalars\n",
      "  recall = tp/(tp+fn)\n",
      "/Users/jonghyun/Desktop/Projects/algorithm_recommenation_with_ml_and_dl/helper_functions.py:102: RuntimeWarning: invalid value encountered in long_scalars\n",
      "  precision = tp/(tp+fp)\n",
      "/Users/jonghyun/Desktop/Projects/algorithm_recommenation_with_ml_and_dl/helper_functions.py:103: RuntimeWarning: invalid value encountered in long_scalars\n",
      "  recall = tp/(tp+fn)\n",
      "/Users/jonghyun/Desktop/Projects/algorithm_recommenation_with_ml_and_dl/helper_functions.py:102: RuntimeWarning: invalid value encountered in long_scalars\n",
      "  precision = tp/(tp+fp)\n",
      "/Users/jonghyun/Desktop/Projects/algorithm_recommenation_with_ml_and_dl/helper_functions.py:103: RuntimeWarning: invalid value encountered in long_scalars\n",
      "  recall = tp/(tp+fn)\n",
      "/Users/jonghyun/Desktop/Projects/algorithm_recommenation_with_ml_and_dl/helper_functions.py:102: RuntimeWarning: invalid value encountered in long_scalars\n",
      "  precision = tp/(tp+fp)\n",
      "/Users/jonghyun/Desktop/Projects/algorithm_recommenation_with_ml_and_dl/helper_functions.py:103: RuntimeWarning: invalid value encountered in long_scalars\n",
      "  recall = tp/(tp+fn)\n",
      "/Users/jonghyun/Desktop/Projects/algorithm_recommenation_with_ml_and_dl/helper_functions.py:102: RuntimeWarning: invalid value encountered in long_scalars\n",
      "  precision = tp/(tp+fp)\n",
      "/Users/jonghyun/Desktop/Projects/algorithm_recommenation_with_ml_and_dl/helper_functions.py:103: RuntimeWarning: invalid value encountered in long_scalars\n",
      "  recall = tp/(tp+fn)\n",
      "/Users/jonghyun/Desktop/Projects/algorithm_recommenation_with_ml_and_dl/helper_functions.py:102: RuntimeWarning: invalid value encountered in long_scalars\n",
      "  precision = tp/(tp+fp)\n",
      "/Users/jonghyun/Desktop/Projects/algorithm_recommenation_with_ml_and_dl/helper_functions.py:103: RuntimeWarning: invalid value encountered in long_scalars\n",
      "  recall = tp/(tp+fn)\n",
      "/Users/jonghyun/Desktop/Projects/algorithm_recommenation_with_ml_and_dl/helper_functions.py:102: RuntimeWarning: invalid value encountered in long_scalars\n",
      "  precision = tp/(tp+fp)\n",
      "/Users/jonghyun/Desktop/Projects/algorithm_recommenation_with_ml_and_dl/helper_functions.py:103: RuntimeWarning: invalid value encountered in long_scalars\n",
      "  recall = tp/(tp+fn)\n",
      "/Users/jonghyun/Desktop/Projects/algorithm_recommenation_with_ml_and_dl/helper_functions.py:102: RuntimeWarning: invalid value encountered in long_scalars\n",
      "  precision = tp/(tp+fp)\n",
      "/Users/jonghyun/Desktop/Projects/algorithm_recommenation_with_ml_and_dl/helper_functions.py:103: RuntimeWarning: invalid value encountered in long_scalars\n",
      "  recall = tp/(tp+fn)\n",
      "/Users/jonghyun/Desktop/Projects/algorithm_recommenation_with_ml_and_dl/helper_functions.py:102: RuntimeWarning: invalid value encountered in long_scalars\n",
      "  precision = tp/(tp+fp)\n",
      "/Users/jonghyun/Desktop/Projects/algorithm_recommenation_with_ml_and_dl/helper_functions.py:103: RuntimeWarning: invalid value encountered in long_scalars\n",
      "  recall = tp/(tp+fn)\n",
      "/Users/jonghyun/Desktop/Projects/algorithm_recommenation_with_ml_and_dl/helper_functions.py:102: RuntimeWarning: invalid value encountered in long_scalars\n",
      "  precision = tp/(tp+fp)\n",
      "/Users/jonghyun/Desktop/Projects/algorithm_recommenation_with_ml_and_dl/helper_functions.py:103: RuntimeWarning: invalid value encountered in long_scalars\n",
      "  recall = tp/(tp+fn)\n",
      "/Users/jonghyun/Desktop/Projects/algorithm_recommenation_with_ml_and_dl/helper_functions.py:99: RuntimeWarning: invalid value encountered in equal\n",
      "  tp+=((y_actual_matrix[:,idx]==1) & (y_predict_matrix[:,idx]==1)).sum()\n",
      "/Users/jonghyun/Desktop/Projects/algorithm_recommenation_with_ml_and_dl/helper_functions.py:100: RuntimeWarning: invalid value encountered in equal\n",
      "  fp+=((y_actual_matrix[:,idx]==0) & (y_predict_matrix[:,idx]==1)).sum()\n",
      "/Users/jonghyun/Desktop/Projects/algorithm_recommenation_with_ml_and_dl/helper_functions.py:101: RuntimeWarning: invalid value encountered in equal\n",
      "  fn+=((y_actual_matrix[:,idx]==1) & (y_predict_matrix[:,idx]==0)).sum()\n",
      "/Users/jonghyun/Desktop/Projects/algorithm_recommenation_with_ml_and_dl/helper_functions.py:103: RuntimeWarning: invalid value encountered in long_scalars\n",
      "  recall = tp/(tp+fn)\n"
     ]
    },
    {
     "name": "stderr",
     "output_type": "stream",
     "text": [
      "/Users/jonghyun/Desktop/Projects/algorithm_recommenation_with_ml_and_dl/helper_functions.py:102: RuntimeWarning: invalid value encountered in long_scalars\n",
      "  precision = tp/(tp+fp)\n",
      "/Users/jonghyun/Desktop/Projects/algorithm_recommenation_with_ml_and_dl/helper_functions.py:103: RuntimeWarning: invalid value encountered in long_scalars\n",
      "  recall = tp/(tp+fn)\n",
      "/Users/jonghyun/Desktop/Projects/algorithm_recommenation_with_ml_and_dl/helper_functions.py:102: RuntimeWarning: invalid value encountered in long_scalars\n",
      "  precision = tp/(tp+fp)\n",
      "/Users/jonghyun/Desktop/Projects/algorithm_recommenation_with_ml_and_dl/helper_functions.py:103: RuntimeWarning: invalid value encountered in long_scalars\n",
      "  recall = tp/(tp+fn)\n",
      "/Users/jonghyun/Desktop/Projects/algorithm_recommenation_with_ml_and_dl/helper_functions.py:102: RuntimeWarning: invalid value encountered in long_scalars\n",
      "  precision = tp/(tp+fp)\n",
      "/Users/jonghyun/Desktop/Projects/algorithm_recommenation_with_ml_and_dl/helper_functions.py:103: RuntimeWarning: invalid value encountered in long_scalars\n",
      "  recall = tp/(tp+fn)\n",
      "/Users/jonghyun/Desktop/Projects/algorithm_recommenation_with_ml_and_dl/helper_functions.py:102: RuntimeWarning: invalid value encountered in long_scalars\n",
      "  precision = tp/(tp+fp)\n",
      "/Users/jonghyun/Desktop/Projects/algorithm_recommenation_with_ml_and_dl/helper_functions.py:103: RuntimeWarning: invalid value encountered in long_scalars\n",
      "  recall = tp/(tp+fn)\n",
      "/Users/jonghyun/Desktop/Projects/algorithm_recommenation_with_ml_and_dl/helper_functions.py:102: RuntimeWarning: invalid value encountered in long_scalars\n",
      "  precision = tp/(tp+fp)\n",
      "/Users/jonghyun/Desktop/Projects/algorithm_recommenation_with_ml_and_dl/helper_functions.py:103: RuntimeWarning: invalid value encountered in long_scalars\n",
      "  recall = tp/(tp+fn)\n",
      "/Users/jonghyun/Desktop/Projects/algorithm_recommenation_with_ml_and_dl/helper_functions.py:102: RuntimeWarning: invalid value encountered in long_scalars\n",
      "  precision = tp/(tp+fp)\n",
      "/Users/jonghyun/Desktop/Projects/algorithm_recommenation_with_ml_and_dl/helper_functions.py:103: RuntimeWarning: invalid value encountered in long_scalars\n",
      "  recall = tp/(tp+fn)\n",
      "/Users/jonghyun/Desktop/Projects/algorithm_recommenation_with_ml_and_dl/helper_functions.py:102: RuntimeWarning: invalid value encountered in long_scalars\n",
      "  precision = tp/(tp+fp)\n",
      "/Users/jonghyun/Desktop/Projects/algorithm_recommenation_with_ml_and_dl/helper_functions.py:103: RuntimeWarning: invalid value encountered in long_scalars\n",
      "  recall = tp/(tp+fn)\n",
      "/Users/jonghyun/Desktop/Projects/algorithm_recommenation_with_ml_and_dl/helper_functions.py:102: RuntimeWarning: invalid value encountered in long_scalars\n",
      "  precision = tp/(tp+fp)\n",
      "/Users/jonghyun/Desktop/Projects/algorithm_recommenation_with_ml_and_dl/helper_functions.py:103: RuntimeWarning: invalid value encountered in long_scalars\n",
      "  recall = tp/(tp+fn)\n",
      "/Users/jonghyun/Desktop/Projects/algorithm_recommenation_with_ml_and_dl/helper_functions.py:102: RuntimeWarning: invalid value encountered in long_scalars\n",
      "  precision = tp/(tp+fp)\n",
      "/Users/jonghyun/Desktop/Projects/algorithm_recommenation_with_ml_and_dl/helper_functions.py:103: RuntimeWarning: invalid value encountered in long_scalars\n",
      "  recall = tp/(tp+fn)\n",
      "/Users/jonghyun/Desktop/Projects/algorithm_recommenation_with_ml_and_dl/helper_functions.py:102: RuntimeWarning: invalid value encountered in long_scalars\n",
      "  precision = tp/(tp+fp)\n",
      "/Users/jonghyun/Desktop/Projects/algorithm_recommenation_with_ml_and_dl/helper_functions.py:103: RuntimeWarning: invalid value encountered in long_scalars\n",
      "  recall = tp/(tp+fn)\n",
      "/Users/jonghyun/Desktop/Projects/algorithm_recommenation_with_ml_and_dl/helper_functions.py:102: RuntimeWarning: invalid value encountered in long_scalars\n",
      "  precision = tp/(tp+fp)\n",
      "/Users/jonghyun/Desktop/Projects/algorithm_recommenation_with_ml_and_dl/helper_functions.py:103: RuntimeWarning: invalid value encountered in long_scalars\n",
      "  recall = tp/(tp+fn)\n",
      "/Users/jonghyun/Desktop/Projects/algorithm_recommenation_with_ml_and_dl/helper_functions.py:102: RuntimeWarning: invalid value encountered in long_scalars\n",
      "  precision = tp/(tp+fp)\n",
      "/Users/jonghyun/Desktop/Projects/algorithm_recommenation_with_ml_and_dl/helper_functions.py:103: RuntimeWarning: invalid value encountered in long_scalars\n",
      "  recall = tp/(tp+fn)\n",
      "/Users/jonghyun/Desktop/Projects/algorithm_recommenation_with_ml_and_dl/helper_functions.py:102: RuntimeWarning: invalid value encountered in long_scalars\n",
      "  precision = tp/(tp+fp)\n",
      "/Users/jonghyun/Desktop/Projects/algorithm_recommenation_with_ml_and_dl/helper_functions.py:103: RuntimeWarning: invalid value encountered in long_scalars\n",
      "  recall = tp/(tp+fn)\n",
      "/Users/jonghyun/Desktop/Projects/algorithm_recommenation_with_ml_and_dl/helper_functions.py:102: RuntimeWarning: invalid value encountered in long_scalars\n",
      "  precision = tp/(tp+fp)\n",
      "/Users/jonghyun/Desktop/Projects/algorithm_recommenation_with_ml_and_dl/helper_functions.py:103: RuntimeWarning: invalid value encountered in long_scalars\n",
      "  recall = tp/(tp+fn)\n",
      "/Users/jonghyun/Desktop/Projects/algorithm_recommenation_with_ml_and_dl/helper_functions.py:102: RuntimeWarning: invalid value encountered in long_scalars\n",
      "  precision = tp/(tp+fp)\n",
      "/Users/jonghyun/Desktop/Projects/algorithm_recommenation_with_ml_and_dl/helper_functions.py:103: RuntimeWarning: invalid value encountered in long_scalars\n",
      "  recall = tp/(tp+fn)\n",
      "/Users/jonghyun/Desktop/Projects/algorithm_recommenation_with_ml_and_dl/helper_functions.py:102: RuntimeWarning: invalid value encountered in long_scalars\n",
      "  precision = tp/(tp+fp)\n",
      "/Users/jonghyun/Desktop/Projects/algorithm_recommenation_with_ml_and_dl/helper_functions.py:103: RuntimeWarning: invalid value encountered in long_scalars\n",
      "  recall = tp/(tp+fn)\n",
      "/Users/jonghyun/Desktop/Projects/algorithm_recommenation_with_ml_and_dl/helper_functions.py:102: RuntimeWarning: invalid value encountered in long_scalars\n",
      "  precision = tp/(tp+fp)\n",
      "/Users/jonghyun/Desktop/Projects/algorithm_recommenation_with_ml_and_dl/helper_functions.py:103: RuntimeWarning: invalid value encountered in long_scalars\n",
      "  recall = tp/(tp+fn)\n",
      "/Users/jonghyun/Desktop/Projects/algorithm_recommenation_with_ml_and_dl/helper_functions.py:102: RuntimeWarning: invalid value encountered in long_scalars\n",
      "  precision = tp/(tp+fp)\n",
      "/Users/jonghyun/Desktop/Projects/algorithm_recommenation_with_ml_and_dl/helper_functions.py:103: RuntimeWarning: invalid value encountered in long_scalars\n",
      "  recall = tp/(tp+fn)\n",
      "/Users/jonghyun/Desktop/Projects/algorithm_recommenation_with_ml_and_dl/helper_functions.py:102: RuntimeWarning: invalid value encountered in long_scalars\n",
      "  precision = tp/(tp+fp)\n",
      "/Users/jonghyun/Desktop/Projects/algorithm_recommenation_with_ml_and_dl/helper_functions.py:103: RuntimeWarning: invalid value encountered in long_scalars\n",
      "  recall = tp/(tp+fn)\n",
      "/Users/jonghyun/Desktop/Projects/algorithm_recommenation_with_ml_and_dl/helper_functions.py:102: RuntimeWarning: invalid value encountered in long_scalars\n",
      "  precision = tp/(tp+fp)\n",
      "/Users/jonghyun/Desktop/Projects/algorithm_recommenation_with_ml_and_dl/helper_functions.py:103: RuntimeWarning: invalid value encountered in long_scalars\n",
      "  recall = tp/(tp+fn)\n",
      "/Users/jonghyun/Desktop/Projects/algorithm_recommenation_with_ml_and_dl/helper_functions.py:102: RuntimeWarning: invalid value encountered in long_scalars\n",
      "  precision = tp/(tp+fp)\n",
      "/Users/jonghyun/Desktop/Projects/algorithm_recommenation_with_ml_and_dl/helper_functions.py:103: RuntimeWarning: invalid value encountered in long_scalars\n",
      "  recall = tp/(tp+fn)\n",
      "/Users/jonghyun/Desktop/Projects/algorithm_recommenation_with_ml_and_dl/helper_functions.py:102: RuntimeWarning: invalid value encountered in long_scalars\n",
      "  precision = tp/(tp+fp)\n",
      "/Users/jonghyun/Desktop/Projects/algorithm_recommenation_with_ml_and_dl/helper_functions.py:103: RuntimeWarning: invalid value encountered in long_scalars\n",
      "  recall = tp/(tp+fn)\n",
      "/Users/jonghyun/Desktop/Projects/algorithm_recommenation_with_ml_and_dl/helper_functions.py:102: RuntimeWarning: invalid value encountered in long_scalars\n",
      "  precision = tp/(tp+fp)\n",
      "/Users/jonghyun/Desktop/Projects/algorithm_recommenation_with_ml_and_dl/helper_functions.py:103: RuntimeWarning: invalid value encountered in long_scalars\n",
      "  recall = tp/(tp+fn)\n"
     ]
    },
    {
     "name": "stderr",
     "output_type": "stream",
     "text": [
      "/Users/jonghyun/Desktop/Projects/algorithm_recommenation_with_ml_and_dl/helper_functions.py:102: RuntimeWarning: invalid value encountered in long_scalars\n",
      "  precision = tp/(tp+fp)\n",
      "/Users/jonghyun/Desktop/Projects/algorithm_recommenation_with_ml_and_dl/helper_functions.py:103: RuntimeWarning: invalid value encountered in long_scalars\n",
      "  recall = tp/(tp+fn)\n",
      "/Users/jonghyun/Desktop/Projects/algorithm_recommenation_with_ml_and_dl/helper_functions.py:102: RuntimeWarning: invalid value encountered in long_scalars\n",
      "  precision = tp/(tp+fp)\n",
      "/Users/jonghyun/Desktop/Projects/algorithm_recommenation_with_ml_and_dl/helper_functions.py:103: RuntimeWarning: invalid value encountered in long_scalars\n",
      "  recall = tp/(tp+fn)\n",
      "/Users/jonghyun/anaconda3/envs/website/lib/python3.7/site-packages/sklearn/model_selection/_search.py:814: DeprecationWarning: The default of the `iid` parameter will change from True to False in version 0.22 and will be removed in 0.24. This will change numeric results when test-set sizes are unequal.\n",
      "  DeprecationWarning)\n"
     ]
    },
    {
     "name": "stdout",
     "output_type": "stream",
     "text": [
      "\n",
      "Best parameters set:\n",
      "[('tfidf', TfidfVectorizer(analyzer='word', binary=False, decode_error='strict',\n",
      "                dtype=<class 'numpy.float64'>, encoding='utf-8',\n",
      "                input='content', lowercase=True, max_df=0.25, max_features=None,\n",
      "                min_df=1, ngram_range=(1, 1), norm='l2', preprocessor=None,\n",
      "                smooth_idf=True, stop_words=None, strip_accents=None,\n",
      "                sublinear_tf=False, token_pattern='(?u)\\\\b\\\\w\\\\w+\\\\b',\n",
      "                tokenizer=None, use_idf=True, vocabulary=None)), ('clf', MultinomialNB(alpha=0.001, class_prior=None, fit_prior=True))]\n",
      "\n",
      "Applying best classifier on test data:\n",
      "<class 'pandas.core.series.Series'>\n"
     ]
    },
    {
     "data": {
      "text/html": [
       "<div>\n",
       "<style scoped>\n",
       "    .dataframe tbody tr th:only-of-type {\n",
       "        vertical-align: middle;\n",
       "    }\n",
       "\n",
       "    .dataframe tbody tr th {\n",
       "        vertical-align: top;\n",
       "    }\n",
       "\n",
       "    .dataframe thead th {\n",
       "        text-align: right;\n",
       "    }\n",
       "</style>\n",
       "<table border=\"1\" class=\"dataframe\">\n",
       "  <thead>\n",
       "    <tr style=\"text-align: right;\">\n",
       "      <th></th>\n",
       "      <th>Precision</th>\n",
       "      <th>Recall</th>\n",
       "      <th>F1-Score</th>\n",
       "      <th>Support</th>\n",
       "    </tr>\n",
       "  </thead>\n",
       "  <tbody>\n",
       "    <tr>\n",
       "      <td>math</td>\n",
       "      <td>0.57</td>\n",
       "      <td>0.43</td>\n",
       "      <td>0.49</td>\n",
       "      <td>261.0</td>\n",
       "    </tr>\n",
       "    <tr>\n",
       "      <td>constructive algorithm</td>\n",
       "      <td>0.38</td>\n",
       "      <td>0.09</td>\n",
       "      <td>0.14</td>\n",
       "      <td>126.0</td>\n",
       "    </tr>\n",
       "    <tr>\n",
       "      <td>search</td>\n",
       "      <td>0.50</td>\n",
       "      <td>0.07</td>\n",
       "      <td>0.12</td>\n",
       "      <td>117.0</td>\n",
       "    </tr>\n",
       "    <tr>\n",
       "      <td>brute force</td>\n",
       "      <td>0.33</td>\n",
       "      <td>0.08</td>\n",
       "      <td>0.13</td>\n",
       "      <td>132.0</td>\n",
       "    </tr>\n",
       "    <tr>\n",
       "      <td>geometry</td>\n",
       "      <td>0.91</td>\n",
       "      <td>0.26</td>\n",
       "      <td>0.41</td>\n",
       "      <td>38.0</td>\n",
       "    </tr>\n",
       "    <tr>\n",
       "      <td>string</td>\n",
       "      <td>0.72</td>\n",
       "      <td>0.29</td>\n",
       "      <td>0.42</td>\n",
       "      <td>72.0</td>\n",
       "    </tr>\n",
       "    <tr>\n",
       "      <td>data structures</td>\n",
       "      <td>0.59</td>\n",
       "      <td>0.51</td>\n",
       "      <td>0.54</td>\n",
       "      <td>277.0</td>\n",
       "    </tr>\n",
       "    <tr>\n",
       "      <td>sortings</td>\n",
       "      <td>0.53</td>\n",
       "      <td>0.28</td>\n",
       "      <td>0.37</td>\n",
       "      <td>259.0</td>\n",
       "    </tr>\n",
       "    <tr>\n",
       "      <td>dp</td>\n",
       "      <td>0.33</td>\n",
       "      <td>0.12</td>\n",
       "      <td>0.17</td>\n",
       "      <td>195.0</td>\n",
       "    </tr>\n",
       "    <tr>\n",
       "      <td>Avg/Total</td>\n",
       "      <td>0.51</td>\n",
       "      <td>0.28</td>\n",
       "      <td>0.34</td>\n",
       "      <td>1477.0</td>\n",
       "    </tr>\n",
       "  </tbody>\n",
       "</table>\n",
       "</div>"
      ],
      "text/plain": [
       "                        Precision  Recall  F1-Score  Support\n",
       "math                         0.57    0.43      0.49    261.0\n",
       "constructive algorithm       0.38    0.09      0.14    126.0\n",
       "search                       0.50    0.07      0.12    117.0\n",
       "brute force                  0.33    0.08      0.13    132.0\n",
       "geometry                     0.91    0.26      0.41     38.0\n",
       "string                       0.72    0.29      0.42     72.0\n",
       "data structures              0.59    0.51      0.54    277.0\n",
       "sortings                     0.53    0.28      0.37    259.0\n",
       "dp                           0.33    0.12      0.17    195.0\n",
       "Avg/Total                    0.51    0.28      0.34   1477.0"
      ]
     },
     "execution_count": 27,
     "metadata": {},
     "output_type": "execute_result"
    }
   ],
   "source": [
    "pipeline = Pipeline([\n",
    "                ('tfidf', TfidfVectorizer()),\n",
    "                ('clf', MultinomialNB(fit_prior=True, class_prior=None))\n",
    "            ])\n",
    "# sorted(pipeline.get_params().keys()) # -- to obtain the GridSearchCV parameter names\n",
    "parameters = {\n",
    "                'tfidf__max_df': [0.25, 0.5, 0.75],\n",
    "                'tfidf__ngram_range': [(1, 1)],\n",
    "                'tfidf__min_df': [1, 2, 5, 10],\n",
    "                'clf__alpha': [0.001, 0.01, 0.1, 1]\n",
    "            }\n",
    "\n",
    "overall_f1_score_v2_cv = make_scorer(overall_f1_score_v2, greater_is_better=True, class_to_genre_map = cluster_center)\n",
    "grid_search_cv = GridSearchCV(pipeline, parameters, cv=2, scoring=overall_f1_score_v2_cv)\n",
    "grid_search_cv.fit(train_X, train_y_cluster_labels)\n",
    "\n",
    "print()\n",
    "print(\"Best parameters set:\")\n",
    "print (grid_search_cv.best_estimator_.steps)\n",
    "print()\n",
    "\n",
    "# measuring performance on test set\n",
    "print (\"Applying best classifier on test data:\")\n",
    "best_clf = grid_search_cv.best_estimator_\n",
    "predictions = multi_class_predict(best_clf, test_X, cluster_center) \n",
    "accuracy(test_y, predictions)"
   ]
  },
  {
   "cell_type": "code",
   "execution_count": 28,
   "metadata": {},
   "outputs": [
    {
     "name": "stdout",
     "output_type": "stream",
     "text": [
      "<class 'pandas.core.series.Series'>\n"
     ]
    },
    {
     "data": {
      "text/html": [
       "<div>\n",
       "<style scoped>\n",
       "    .dataframe tbody tr th:only-of-type {\n",
       "        vertical-align: middle;\n",
       "    }\n",
       "\n",
       "    .dataframe tbody tr th {\n",
       "        vertical-align: top;\n",
       "    }\n",
       "\n",
       "    .dataframe thead th {\n",
       "        text-align: right;\n",
       "    }\n",
       "</style>\n",
       "<table border=\"1\" class=\"dataframe\">\n",
       "  <thead>\n",
       "    <tr style=\"text-align: right;\">\n",
       "      <th></th>\n",
       "      <th>Precision</th>\n",
       "      <th>Recall</th>\n",
       "      <th>F1-Score</th>\n",
       "      <th>Support</th>\n",
       "    </tr>\n",
       "  </thead>\n",
       "  <tbody>\n",
       "    <tr>\n",
       "      <td>math</td>\n",
       "      <td>0.58</td>\n",
       "      <td>0.45</td>\n",
       "      <td>0.50</td>\n",
       "      <td>261.0</td>\n",
       "    </tr>\n",
       "    <tr>\n",
       "      <td>constructive algorithm</td>\n",
       "      <td>0.46</td>\n",
       "      <td>0.09</td>\n",
       "      <td>0.15</td>\n",
       "      <td>126.0</td>\n",
       "    </tr>\n",
       "    <tr>\n",
       "      <td>search</td>\n",
       "      <td>0.46</td>\n",
       "      <td>0.05</td>\n",
       "      <td>0.09</td>\n",
       "      <td>117.0</td>\n",
       "    </tr>\n",
       "    <tr>\n",
       "      <td>brute force</td>\n",
       "      <td>0.38</td>\n",
       "      <td>0.08</td>\n",
       "      <td>0.13</td>\n",
       "      <td>132.0</td>\n",
       "    </tr>\n",
       "    <tr>\n",
       "      <td>geometry</td>\n",
       "      <td>0.83</td>\n",
       "      <td>0.26</td>\n",
       "      <td>0.40</td>\n",
       "      <td>38.0</td>\n",
       "    </tr>\n",
       "    <tr>\n",
       "      <td>string</td>\n",
       "      <td>0.73</td>\n",
       "      <td>0.31</td>\n",
       "      <td>0.43</td>\n",
       "      <td>72.0</td>\n",
       "    </tr>\n",
       "    <tr>\n",
       "      <td>data structures</td>\n",
       "      <td>0.61</td>\n",
       "      <td>0.52</td>\n",
       "      <td>0.56</td>\n",
       "      <td>277.0</td>\n",
       "    </tr>\n",
       "    <tr>\n",
       "      <td>sortings</td>\n",
       "      <td>0.54</td>\n",
       "      <td>0.29</td>\n",
       "      <td>0.37</td>\n",
       "      <td>259.0</td>\n",
       "    </tr>\n",
       "    <tr>\n",
       "      <td>dp</td>\n",
       "      <td>0.33</td>\n",
       "      <td>0.11</td>\n",
       "      <td>0.16</td>\n",
       "      <td>195.0</td>\n",
       "    </tr>\n",
       "    <tr>\n",
       "      <td>Avg/Total</td>\n",
       "      <td>0.52</td>\n",
       "      <td>0.28</td>\n",
       "      <td>0.34</td>\n",
       "      <td>1477.0</td>\n",
       "    </tr>\n",
       "  </tbody>\n",
       "</table>\n",
       "</div>"
      ],
      "text/plain": [
       "                        Precision  Recall  F1-Score  Support\n",
       "math                         0.58    0.45      0.50    261.0\n",
       "constructive algorithm       0.46    0.09      0.15    126.0\n",
       "search                       0.46    0.05      0.09    117.0\n",
       "brute force                  0.38    0.08      0.13    132.0\n",
       "geometry                     0.83    0.26      0.40     38.0\n",
       "string                       0.73    0.31      0.43     72.0\n",
       "data structures              0.61    0.52      0.56    277.0\n",
       "sortings                     0.54    0.29      0.37    259.0\n",
       "dp                           0.33    0.11      0.16    195.0\n",
       "Avg/Total                    0.52    0.28      0.34   1477.0"
      ]
     },
     "execution_count": 28,
     "metadata": {},
     "output_type": "execute_result"
    }
   ],
   "source": [
    "pipeline = Pipeline([\n",
    "                ('tfidf', TfidfVectorizer(max_df=0.5, min_df=2, ngram_range=(1, 1))),\n",
    "                ('clf', MultinomialNB(alpha=0.001, fit_prior=True, class_prior=None))\n",
    "            ])\n",
    "pipeline.fit(train_X, train_y_cluster_labels)\n",
    "predictions = multi_class_predict(pipeline, test_X, cluster_center) \n",
    "accuracy(test_y, predictions)"
   ]
  },
  {
   "cell_type": "code",
   "execution_count": 29,
   "metadata": {},
   "outputs": [
    {
     "name": "stdout",
     "output_type": "stream",
     "text": [
      "<class 'pandas.core.series.Series'>\n"
     ]
    },
    {
     "data": {
      "text/html": [
       "<div>\n",
       "<style scoped>\n",
       "    .dataframe tbody tr th:only-of-type {\n",
       "        vertical-align: middle;\n",
       "    }\n",
       "\n",
       "    .dataframe tbody tr th {\n",
       "        vertical-align: top;\n",
       "    }\n",
       "\n",
       "    .dataframe thead th {\n",
       "        text-align: right;\n",
       "    }\n",
       "</style>\n",
       "<table border=\"1\" class=\"dataframe\">\n",
       "  <thead>\n",
       "    <tr style=\"text-align: right;\">\n",
       "      <th></th>\n",
       "      <th>Precision</th>\n",
       "      <th>Recall</th>\n",
       "      <th>F1-Score</th>\n",
       "      <th>Support</th>\n",
       "    </tr>\n",
       "  </thead>\n",
       "  <tbody>\n",
       "    <tr>\n",
       "      <td>math</td>\n",
       "      <td>0.58</td>\n",
       "      <td>0.45</td>\n",
       "      <td>0.50</td>\n",
       "      <td>261.0</td>\n",
       "    </tr>\n",
       "    <tr>\n",
       "      <td>constructive algorithm</td>\n",
       "      <td>0.46</td>\n",
       "      <td>0.09</td>\n",
       "      <td>0.15</td>\n",
       "      <td>126.0</td>\n",
       "    </tr>\n",
       "    <tr>\n",
       "      <td>search</td>\n",
       "      <td>0.46</td>\n",
       "      <td>0.05</td>\n",
       "      <td>0.09</td>\n",
       "      <td>117.0</td>\n",
       "    </tr>\n",
       "    <tr>\n",
       "      <td>brute force</td>\n",
       "      <td>0.38</td>\n",
       "      <td>0.08</td>\n",
       "      <td>0.13</td>\n",
       "      <td>132.0</td>\n",
       "    </tr>\n",
       "    <tr>\n",
       "      <td>geometry</td>\n",
       "      <td>0.83</td>\n",
       "      <td>0.26</td>\n",
       "      <td>0.40</td>\n",
       "      <td>38.0</td>\n",
       "    </tr>\n",
       "    <tr>\n",
       "      <td>string</td>\n",
       "      <td>0.73</td>\n",
       "      <td>0.31</td>\n",
       "      <td>0.43</td>\n",
       "      <td>72.0</td>\n",
       "    </tr>\n",
       "    <tr>\n",
       "      <td>data structures</td>\n",
       "      <td>0.61</td>\n",
       "      <td>0.52</td>\n",
       "      <td>0.56</td>\n",
       "      <td>277.0</td>\n",
       "    </tr>\n",
       "    <tr>\n",
       "      <td>sortings</td>\n",
       "      <td>0.54</td>\n",
       "      <td>0.29</td>\n",
       "      <td>0.37</td>\n",
       "      <td>259.0</td>\n",
       "    </tr>\n",
       "    <tr>\n",
       "      <td>dp</td>\n",
       "      <td>0.33</td>\n",
       "      <td>0.11</td>\n",
       "      <td>0.16</td>\n",
       "      <td>195.0</td>\n",
       "    </tr>\n",
       "    <tr>\n",
       "      <td>Avg/Total</td>\n",
       "      <td>0.52</td>\n",
       "      <td>0.28</td>\n",
       "      <td>0.34</td>\n",
       "      <td>1477.0</td>\n",
       "    </tr>\n",
       "  </tbody>\n",
       "</table>\n",
       "</div>"
      ],
      "text/plain": [
       "                        Precision  Recall  F1-Score  Support\n",
       "math                         0.58    0.45      0.50    261.0\n",
       "constructive algorithm       0.46    0.09      0.15    126.0\n",
       "search                       0.46    0.05      0.09    117.0\n",
       "brute force                  0.38    0.08      0.13    132.0\n",
       "geometry                     0.83    0.26      0.40     38.0\n",
       "string                       0.73    0.31      0.43     72.0\n",
       "data structures              0.61    0.52      0.56    277.0\n",
       "sortings                     0.54    0.29      0.37    259.0\n",
       "dp                           0.33    0.11      0.16    195.0\n",
       "Avg/Total                    0.52    0.28      0.34   1477.0"
      ]
     },
     "execution_count": 29,
     "metadata": {},
     "output_type": "execute_result"
    }
   ],
   "source": [
    "pipeline = Pipeline([\n",
    "                ('tfidf', TfidfVectorizer(max_df=0.5, min_df=2, ngram_range=(1, 1))),\n",
    "                ('clf', MultinomialNB(alpha=0.001, fit_prior=True, class_prior=None))\n",
    "            ])\n",
    "pipeline.fit(train_X, train_y_cluster_labels)\n",
    "predictions = multi_class_predict(pipeline, test_X, cluster_center) \n",
    "accuracy(test_y, predictions)"
   ]
  },
  {
   "cell_type": "code",
   "execution_count": null,
   "metadata": {},
   "outputs": [],
   "source": []
  },
  {
   "cell_type": "code",
   "execution_count": null,
   "metadata": {},
   "outputs": [],
   "source": []
  },
  {
   "cell_type": "code",
   "execution_count": null,
   "metadata": {},
   "outputs": [],
   "source": []
  },
  {
   "cell_type": "code",
   "execution_count": null,
   "metadata": {},
   "outputs": [],
   "source": []
  },
  {
   "cell_type": "code",
   "execution_count": null,
   "metadata": {},
   "outputs": [],
   "source": []
  }
 ],
 "metadata": {
  "kernelspec": {
   "display_name": "Python 3",
   "language": "python",
   "name": "python3"
  },
  "language_info": {
   "codemirror_mode": {
    "name": "ipython",
    "version": 3
   },
   "file_extension": ".py",
   "mimetype": "text/x-python",
   "name": "python",
   "nbconvert_exporter": "python",
   "pygments_lexer": "ipython3",
   "version": "3.7.3"
  },
  "toc": {
   "base_numbering": 1,
   "nav_menu": {},
   "number_sections": true,
   "sideBar": true,
   "skip_h1_title": true,
   "title_cell": "Table of Contents",
   "title_sidebar": "Contents",
   "toc_cell": true,
   "toc_position": {
    "height": "calc(100% - 180px)",
    "left": "10px",
    "top": "150px",
    "width": "270px"
   },
   "toc_section_display": true,
   "toc_window_display": true
  }
 },
 "nbformat": 4,
 "nbformat_minor": 2
}
